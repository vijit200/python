{
 "cells": [
  {
   "cell_type": "code",
   "execution_count": 1,
   "id": "b026256d",
   "metadata": {},
   "outputs": [],
   "source": [
    "1+2"
   ]
  },
  {
   "cell_type": "code",
   "execution_count": 2,
   "id": "e0c7fc63",
   "metadata": {},
   "outputs": [
    {
     "data": {
      "text/plain": [
       "'C:\\\\Users\\\\vijit kumar\\\\Desktop\\\\i neuron full stack data science 2021'"
      ]
     },
     "execution_count": 2,
     "metadata": {},
     "output_type": "execute_result"
    }
   ],
   "source": [
    "pwd"
   ]
  },
  {
   "cell_type": "code",
   "execution_count": 3,
   "id": "0886714b",
   "metadata": {},
   "outputs": [
    {
     "name": "stdout",
     "output_type": "stream",
     "text": [
      "The Zen of Python, by Tim Peters\n",
      "\n",
      "Beautiful is better than ugly.\n",
      "Explicit is better than implicit.\n",
      "Simple is better than complex.\n",
      "Complex is better than complicated.\n",
      "Flat is better than nested.\n",
      "Sparse is better than dense.\n",
      "Readability counts.\n",
      "Special cases aren't special enough to break the rules.\n",
      "Although practicality beats purity.\n",
      "Errors should never pass silently.\n",
      "Unless explicitly silenced.\n",
      "In the face of ambiguity, refuse the temptation to guess.\n",
      "There should be one-- and preferably only one --obvious way to do it.\n",
      "Although that way may not be obvious at first unless you're Dutch.\n",
      "Now is better than never.\n",
      "Although never is often better than *right* now.\n",
      "If the implementation is hard to explain, it's a bad idea.\n",
      "If the implementation is easy to explain, it may be a good idea.\n",
      "Namespaces are one honking great idea -- let's do more of those!\n"
     ]
    }
   ],
   "source": [
    "import this"
   ]
  },
  {
   "cell_type": "code",
   "execution_count": 4,
   "id": "f9a089d6",
   "metadata": {},
   "outputs": [],
   "source": [
    "# variable is a type of entity to hold data in your ram"
   ]
  },
  {
   "cell_type": "code",
   "execution_count": 5,
   "id": "95494253",
   "metadata": {},
   "outputs": [
    {
     "name": "stdout",
     "output_type": "stream",
     "text": [
      "\n"
     ]
    }
   ],
   "source": [
    "print()"
   ]
  },
  {
   "cell_type": "code",
   "execution_count": 6,
   "id": "7fae2ab3",
   "metadata": {},
   "outputs": [],
   "source": [
    "s='m689'"
   ]
  },
  {
   "cell_type": "code",
   "execution_count": 7,
   "id": "fe9853e0",
   "metadata": {},
   "outputs": [
    {
     "data": {
      "text/plain": [
       "True"
      ]
     },
     "execution_count": 7,
     "metadata": {},
     "output_type": "execute_result"
    }
   ],
   "source": [
    "s.isalnum()\n"
   ]
  },
  {
   "cell_type": "code",
   "execution_count": 8,
   "id": "65af68bc",
   "metadata": {},
   "outputs": [],
   "source": [
    "a=1+2"
   ]
  },
  {
   "cell_type": "code",
   "execution_count": 9,
   "id": "6d7304cf",
   "metadata": {},
   "outputs": [
    {
     "data": {
      "text/plain": [
       "3"
      ]
     },
     "execution_count": 9,
     "metadata": {},
     "output_type": "execute_result"
    }
   ],
   "source": [
    "a"
   ]
  },
  {
   "cell_type": "code",
   "execution_count": 10,
   "id": "359eecac",
   "metadata": {},
   "outputs": [
    {
     "data": {
      "text/plain": [
       "int"
      ]
     },
     "execution_count": 10,
     "metadata": {},
     "output_type": "execute_result"
    }
   ],
   "source": [
    "type(a)"
   ]
  },
  {
   "cell_type": "code",
   "execution_count": 11,
   "id": "766becee",
   "metadata": {},
   "outputs": [],
   "source": [
    "d=5+6j"
   ]
  },
  {
   "cell_type": "code",
   "execution_count": 12,
   "id": "edfe7dde",
   "metadata": {},
   "outputs": [
    {
     "data": {
      "text/plain": [
       "5.0"
      ]
     },
     "execution_count": 12,
     "metadata": {},
     "output_type": "execute_result"
    }
   ],
   "source": [
    "d.real"
   ]
  },
  {
   "cell_type": "code",
   "execution_count": 13,
   "id": "5eea624b",
   "metadata": {},
   "outputs": [
    {
     "data": {
      "text/plain": [
       "6.0"
      ]
     },
     "execution_count": 13,
     "metadata": {},
     "output_type": "execute_result"
    }
   ],
   "source": [
    "d.imag"
   ]
  },
  {
   "cell_type": "code",
   "execution_count": 14,
   "id": "b3effb71",
   "metadata": {},
   "outputs": [
    {
     "data": {
      "text/plain": [
       "complex"
      ]
     },
     "execution_count": 14,
     "metadata": {},
     "output_type": "execute_result"
    }
   ],
   "source": [
    "type(d)"
   ]
  },
  {
   "cell_type": "code",
   "execution_count": 15,
   "id": "f50646ec",
   "metadata": {},
   "outputs": [
    {
     "data": {
      "text/plain": [
       "complex"
      ]
     },
     "execution_count": 15,
     "metadata": {},
     "output_type": "execute_result"
    }
   ],
   "source": [
    "type(d)"
   ]
  },
  {
   "cell_type": "code",
   "execution_count": 16,
   "id": "3ea0efcb",
   "metadata": {},
   "outputs": [
    {
     "data": {
      "text/plain": [
       "'bdhfgnfngh,j.vchmmxgcmjh,hv,hikhjj.u'"
      ]
     },
     "execution_count": 16,
     "metadata": {},
     "output_type": "execute_result"
    }
   ],
   "source": [
    "n='bdhfgnfngh,j.vchmmxgcmjh,hv,hikhjj.u'\n",
    "n"
   ]
  },
  {
   "cell_type": "code",
   "execution_count": 17,
   "id": "a6afe81a",
   "metadata": {},
   "outputs": [
    {
     "data": {
      "text/plain": [
       "'u.jjhkih,vh,hjmcgxmmhcv.j,hgnfngfhdb'"
      ]
     },
     "execution_count": 17,
     "metadata": {},
     "output_type": "execute_result"
    }
   ],
   "source": [
    "n[::-1]"
   ]
  },
  {
   "cell_type": "code",
   "execution_count": 18,
   "id": "012efbac",
   "metadata": {},
   "outputs": [],
   "source": [
    "g=True"
   ]
  },
  {
   "cell_type": "code",
   "execution_count": 19,
   "id": "dd3901ec",
   "metadata": {},
   "outputs": [
    {
     "data": {
      "text/plain": [
       "bool"
      ]
     },
     "execution_count": 19,
     "metadata": {},
     "output_type": "execute_result"
    }
   ],
   "source": [
    "type(g)"
   ]
  },
  {
   "cell_type": "code",
   "execution_count": 20,
   "id": "25bbdfcb",
   "metadata": {},
   "outputs": [
    {
     "data": {
      "text/plain": [
       "(5-6j)"
      ]
     },
     "execution_count": 20,
     "metadata": {},
     "output_type": "execute_result"
    }
   ],
   "source": [
    "d.conjugate()"
   ]
  },
  {
   "cell_type": "code",
   "execution_count": 21,
   "id": "c253274f",
   "metadata": {},
   "outputs": [
    {
     "data": {
      "text/plain": [
       "1808893882704"
      ]
     },
     "execution_count": 21,
     "metadata": {},
     "output_type": "execute_result"
    }
   ],
   "source": [
    "id(d)"
   ]
  },
  {
   "cell_type": "code",
   "execution_count": 22,
   "id": "f2a7175b",
   "metadata": {},
   "outputs": [
    {
     "name": "stdout",
     "output_type": "stream",
     "text": [
      "55\n"
     ]
    }
   ],
   "source": [
    "a=input()"
   ]
  },
  {
   "cell_type": "code",
   "execution_count": 23,
   "id": "0457d050",
   "metadata": {},
   "outputs": [],
   "source": [
    "a1=int(a)"
   ]
  },
  {
   "cell_type": "code",
   "execution_count": 24,
   "id": "35b83e64",
   "metadata": {},
   "outputs": [
    {
     "data": {
      "text/plain": [
       "110"
      ]
     },
     "execution_count": 24,
     "metadata": {},
     "output_type": "execute_result"
    }
   ],
   "source": [
    "a1+55"
   ]
  },
  {
   "cell_type": "markdown",
   "id": "a05246be",
   "metadata": {},
   "source": [
    "# index"
   ]
  },
  {
   "cell_type": "code",
   "execution_count": 25,
   "id": "ba2d24c4",
   "metadata": {},
   "outputs": [],
   "source": [
    "s='sudh'"
   ]
  },
  {
   "cell_type": "code",
   "execution_count": 26,
   "id": "19b64ec5",
   "metadata": {},
   "outputs": [
    {
     "data": {
      "text/plain": [
       "'h'"
      ]
     },
     "execution_count": 26,
     "metadata": {},
     "output_type": "execute_result"
    }
   ],
   "source": [
    "s[-1]"
   ]
  },
  {
   "cell_type": "code",
   "execution_count": 27,
   "id": "7cc7834b",
   "metadata": {},
   "outputs": [],
   "source": [
    "b='ineuron'"
   ]
  },
  {
   "cell_type": "code",
   "execution_count": 28,
   "id": "a0a7f323",
   "metadata": {},
   "outputs": [
    {
     "data": {
      "text/plain": [
       "'uen'"
      ]
     },
     "execution_count": 28,
     "metadata": {},
     "output_type": "execute_result"
    }
   ],
   "source": [
    "b[3:0:-1]"
   ]
  },
  {
   "cell_type": "code",
   "execution_count": 29,
   "id": "3d07288a",
   "metadata": {},
   "outputs": [
    {
     "data": {
      "text/plain": [
       "'ineuron'"
      ]
     },
     "execution_count": 29,
     "metadata": {},
     "output_type": "execute_result"
    }
   ],
   "source": [
    "b[0:300]\n",
    "#when we acess indivisual index it give me error but when range it will not give error"
   ]
  },
  {
   "cell_type": "code",
   "execution_count": 30,
   "id": "a873b229",
   "metadata": {},
   "outputs": [],
   "source": [
    "a='kumar'"
   ]
  },
  {
   "cell_type": "code",
   "execution_count": 31,
   "id": "49fe490d",
   "metadata": {},
   "outputs": [
    {
     "data": {
      "text/plain": [
       "'kmr'"
      ]
     },
     "execution_count": 31,
     "metadata": {},
     "output_type": "execute_result"
    }
   ],
   "source": [
    "a[::2]"
   ]
  },
  {
   "cell_type": "code",
   "execution_count": 32,
   "id": "f432e9fd",
   "metadata": {},
   "outputs": [
    {
     "data": {
      "text/plain": [
       "'ramuk'"
      ]
     },
     "execution_count": 32,
     "metadata": {},
     "output_type": "execute_result"
    }
   ],
   "source": [
    "a[::-1]"
   ]
  },
  {
   "cell_type": "code",
   "execution_count": 33,
   "id": "338a2023",
   "metadata": {},
   "outputs": [
    {
     "name": "stdout",
     "output_type": "stream",
     "text": [
      "enter a name--eye\n",
      "it is saame\n"
     ]
    }
   ],
   "source": [
    "a=input('enter a name--')\n",
    "if a[::]==a[::-1]:\n",
    "    print('it is saame')\n",
    "else:\n",
    "    print('not')"
   ]
  },
  {
   "cell_type": "code",
   "execution_count": 34,
   "id": "4ae838fc",
   "metadata": {},
   "outputs": [
    {
     "data": {
      "text/plain": [
       "''"
      ]
     },
     "execution_count": 34,
     "metadata": {},
     "output_type": "execute_result"
    }
   ],
   "source": [
    "a[0:300:-1]"
   ]
  },
  {
   "cell_type": "code",
   "execution_count": 35,
   "id": "52f31bb5",
   "metadata": {},
   "outputs": [
    {
     "data": {
      "text/plain": [
       "'eye'"
      ]
     },
     "execution_count": 35,
     "metadata": {},
     "output_type": "execute_result"
    }
   ],
   "source": [
    "a[-1:-4:-1]"
   ]
  },
  {
   "cell_type": "code",
   "execution_count": 36,
   "id": "60bb0eff",
   "metadata": {},
   "outputs": [],
   "source": [
    "a='kumar'"
   ]
  },
  {
   "cell_type": "code",
   "execution_count": 37,
   "id": "ac42520e",
   "metadata": {},
   "outputs": [
    {
     "data": {
      "text/plain": [
       "'ramuk'"
      ]
     },
     "execution_count": 37,
     "metadata": {},
     "output_type": "execute_result"
    }
   ],
   "source": [
    "a[-1:-10:-1]"
   ]
  },
  {
   "cell_type": "code",
   "execution_count": 38,
   "id": "b1e2791f",
   "metadata": {},
   "outputs": [
    {
     "data": {
      "text/plain": [
       "'k'"
      ]
     },
     "execution_count": 38,
     "metadata": {},
     "output_type": "execute_result"
    }
   ],
   "source": [
    "a[0:-10:-1]"
   ]
  },
  {
   "cell_type": "code",
   "execution_count": 39,
   "id": "7063ffa1",
   "metadata": {},
   "outputs": [
    {
     "data": {
      "text/plain": [
       "'a'"
      ]
     },
     "execution_count": 39,
     "metadata": {},
     "output_type": "execute_result"
    }
   ],
   "source": [
    "a[-2:-1]"
   ]
  },
  {
   "cell_type": "code",
   "execution_count": 40,
   "id": "c7f3f296",
   "metadata": {},
   "outputs": [
    {
     "data": {
      "text/plain": [
       "'ar'"
      ]
     },
     "execution_count": 40,
     "metadata": {},
     "output_type": "execute_result"
    }
   ],
   "source": [
    "a[-2:]"
   ]
  },
  {
   "cell_type": "code",
   "execution_count": 41,
   "id": "3356e12b",
   "metadata": {},
   "outputs": [
    {
     "data": {
      "text/plain": [
       "'ramuk'"
      ]
     },
     "execution_count": 41,
     "metadata": {},
     "output_type": "execute_result"
    }
   ],
   "source": [
    "a[-1::-1]"
   ]
  },
  {
   "cell_type": "code",
   "execution_count": 42,
   "id": "e62a9704",
   "metadata": {},
   "outputs": [],
   "source": [
    "a=' i am working with ineuron'"
   ]
  },
  {
   "cell_type": "code",
   "execution_count": 43,
   "id": "2adadbb9",
   "metadata": {},
   "outputs": [
    {
     "data": {
      "text/plain": [
       "['i', 'am', 'working', 'with', 'ineuron']"
      ]
     },
     "execution_count": 43,
     "metadata": {},
     "output_type": "execute_result"
    }
   ],
   "source": [
    "a.split()"
   ]
  },
  {
   "cell_type": "code",
   "execution_count": 44,
   "id": "ba6c89ca",
   "metadata": {},
   "outputs": [
    {
     "data": {
      "text/plain": [
       "'norueni htiw gnikrow ma i '"
      ]
     },
     "execution_count": 44,
     "metadata": {},
     "output_type": "execute_result"
    }
   ],
   "source": [
    "a[::-1]"
   ]
  },
  {
   "cell_type": "code",
   "execution_count": 45,
   "id": "f7b242d5",
   "metadata": {},
   "outputs": [
    {
     "data": {
      "text/plain": [
       "'eni htiw gnikrow'"
      ]
     },
     "execution_count": 45,
     "metadata": {},
     "output_type": "execute_result"
    }
   ],
   "source": [
    "a[-5:5:-1]"
   ]
  },
  {
   "cell_type": "code",
   "execution_count": 46,
   "id": "fbce9f5c",
   "metadata": {},
   "outputs": [
    {
     "data": {
      "text/plain": [
       "' working with in'"
      ]
     },
     "execution_count": 46,
     "metadata": {},
     "output_type": "execute_result"
    }
   ],
   "source": [
    "a[5:-5]"
   ]
  },
  {
   "cell_type": "code",
   "execution_count": 47,
   "id": "7dfc199e",
   "metadata": {},
   "outputs": [
    {
     "data": {
      "text/plain": [
       "'eni htiw gnikrow'"
      ]
     },
     "execution_count": 47,
     "metadata": {},
     "output_type": "execute_result"
    }
   ],
   "source": [
    "a[-5:5:-1]"
   ]
  },
  {
   "cell_type": "code",
   "execution_count": 48,
   "id": "384e774e",
   "metadata": {},
   "outputs": [
    {
     "data": {
      "text/plain": [
       "'row'"
      ]
     },
     "execution_count": 48,
     "metadata": {},
     "output_type": "execute_result"
    }
   ],
   "source": [
    "a[8:5:-1]"
   ]
  },
  {
   "cell_type": "code",
   "execution_count": 49,
   "id": "f3a3dce0",
   "metadata": {},
   "outputs": [
    {
     "data": {
      "text/plain": [
       "'sudhsudhsudh'"
      ]
     },
     "execution_count": 49,
     "metadata": {},
     "output_type": "execute_result"
    }
   ],
   "source": [
    "'sudh'*3\n"
   ]
  },
  {
   "cell_type": "code",
   "execution_count": 50,
   "id": "699f982b",
   "metadata": {},
   "outputs": [
    {
     "data": {
      "text/plain": [
       "'sudhkumar'"
      ]
     },
     "execution_count": 50,
     "metadata": {},
     "output_type": "execute_result"
    }
   ],
   "source": [
    "'sudh' + 'kumar'"
   ]
  },
  {
   "cell_type": "code",
   "execution_count": 51,
   "id": "12688862",
   "metadata": {},
   "outputs": [
    {
     "data": {
      "text/plain": [
       "26"
      ]
     },
     "execution_count": 51,
     "metadata": {},
     "output_type": "execute_result"
    }
   ],
   "source": [
    "len(a)"
   ]
  },
  {
   "cell_type": "code",
   "execution_count": 52,
   "id": "c91b8d97",
   "metadata": {},
   "outputs": [
    {
     "data": {
      "text/plain": [
       "3"
      ]
     },
     "execution_count": 52,
     "metadata": {},
     "output_type": "execute_result"
    }
   ],
   "source": [
    "a.index('a')"
   ]
  },
  {
   "cell_type": "code",
   "execution_count": 53,
   "id": "0bcde1fc",
   "metadata": {},
   "outputs": [
    {
     "data": {
      "text/plain": [
       "3"
      ]
     },
     "execution_count": 53,
     "metadata": {},
     "output_type": "execute_result"
    }
   ],
   "source": [
    "a.find('a')"
   ]
  },
  {
   "cell_type": "code",
   "execution_count": 54,
   "id": "0bece812",
   "metadata": {},
   "outputs": [
    {
     "data": {
      "text/plain": [
       "' i am working with ineuron'"
      ]
     },
     "execution_count": 54,
     "metadata": {},
     "output_type": "execute_result"
    }
   ],
   "source": [
    "a"
   ]
  },
  {
   "cell_type": "code",
   "execution_count": 55,
   "id": "f1e98d5b",
   "metadata": {},
   "outputs": [
    {
     "data": {
      "text/plain": [
       "15"
      ]
     },
     "execution_count": 55,
     "metadata": {},
     "output_type": "execute_result"
    }
   ],
   "source": [
    "a.find('it')"
   ]
  },
  {
   "cell_type": "code",
   "execution_count": 56,
   "id": "1ccdc0eb",
   "metadata": {},
   "outputs": [
    {
     "data": {
      "text/plain": [
       "4"
      ]
     },
     "execution_count": 56,
     "metadata": {},
     "output_type": "execute_result"
    }
   ],
   "source": [
    "a.count('i')"
   ]
  },
  {
   "cell_type": "code",
   "execution_count": 57,
   "id": "296eb3e9",
   "metadata": {},
   "outputs": [],
   "source": [
    "l=a.split(' ')"
   ]
  },
  {
   "cell_type": "code",
   "execution_count": 58,
   "id": "b3fc5e9c",
   "metadata": {},
   "outputs": [
    {
     "data": {
      "text/plain": [
       "['', 'i', 'am', 'working', 'with', 'ineuron']"
      ]
     },
     "execution_count": 58,
     "metadata": {},
     "output_type": "execute_result"
    }
   ],
   "source": [
    "l"
   ]
  },
  {
   "cell_type": "code",
   "execution_count": 59,
   "id": "32bb9d5f",
   "metadata": {},
   "outputs": [
    {
     "data": {
      "text/plain": [
       "'i'"
      ]
     },
     "execution_count": 59,
     "metadata": {},
     "output_type": "execute_result"
    }
   ],
   "source": [
    "l[1]"
   ]
  },
  {
   "cell_type": "code",
   "execution_count": 60,
   "id": "6d367faa",
   "metadata": {},
   "outputs": [
    {
     "data": {
      "text/plain": [
       "' I AM WORKING WITH INEURON'"
      ]
     },
     "execution_count": 60,
     "metadata": {},
     "output_type": "execute_result"
    }
   ],
   "source": [
    "a.upper()"
   ]
  },
  {
   "cell_type": "code",
   "execution_count": 61,
   "id": "7633639a",
   "metadata": {},
   "outputs": [
    {
     "data": {
      "text/plain": [
       "' i am working with ineuron'"
      ]
     },
     "execution_count": 61,
     "metadata": {},
     "output_type": "execute_result"
    }
   ],
   "source": [
    "a.lower()"
   ]
  },
  {
   "cell_type": "code",
   "execution_count": 62,
   "id": "d8565265",
   "metadata": {},
   "outputs": [
    {
     "data": {
      "text/plain": [
       "'vIJIt'"
      ]
     },
     "execution_count": 62,
     "metadata": {},
     "output_type": "execute_result"
    }
   ],
   "source": [
    "b='VijiT'\n",
    "b.swapcase()"
   ]
  },
  {
   "cell_type": "code",
   "execution_count": 63,
   "id": "7d120f9d",
   "metadata": {},
   "outputs": [
    {
     "data": {
      "text/plain": [
       "<reversed at 0x1a52a7d78e0>"
      ]
     },
     "execution_count": 63,
     "metadata": {},
     "output_type": "execute_result"
    }
   ],
   "source": [
    "\n",
    "reversed(b)"
   ]
  },
  {
   "cell_type": "code",
   "execution_count": 64,
   "id": "49229d9b",
   "metadata": {},
   "outputs": [
    {
     "name": "stdout",
     "output_type": "stream",
     "text": [
      "T\n",
      "i\n",
      "j\n",
      "i\n",
      "V\n"
     ]
    }
   ],
   "source": [
    "for i in reversed(b):\n",
    "    print(i)"
   ]
  },
  {
   "cell_type": "code",
   "execution_count": 65,
   "id": "39c51e2f",
   "metadata": {},
   "outputs": [
    {
     "data": {
      "text/plain": [
       "'Vijit'"
      ]
     },
     "execution_count": 65,
     "metadata": {},
     "output_type": "execute_result"
    }
   ],
   "source": [
    "b.capitalize()\n",
    "#captalize will make 1st letter captial other small"
   ]
  },
  {
   "cell_type": "code",
   "execution_count": 66,
   "id": "36e18776",
   "metadata": {},
   "outputs": [
    {
     "data": {
      "text/plain": [
       "'V i j i T'"
      ]
     },
     "execution_count": 66,
     "metadata": {},
     "output_type": "execute_result"
    }
   ],
   "source": [
    "\" \".join(b)"
   ]
  },
  {
   "cell_type": "code",
   "execution_count": 67,
   "id": "273b2c9e",
   "metadata": {},
   "outputs": [
    {
     "data": {
      "text/plain": [
       "'i am working with ineuron'"
      ]
     },
     "execution_count": 67,
     "metadata": {},
     "output_type": "execute_result"
    }
   ],
   "source": [
    "a.lstrip()"
   ]
  },
  {
   "cell_type": "code",
   "execution_count": 68,
   "id": "7ddadd9e",
   "metadata": {},
   "outputs": [
    {
     "data": {
      "text/plain": [
       "' i am working with ineuron'"
      ]
     },
     "execution_count": 68,
     "metadata": {},
     "output_type": "execute_result"
    }
   ],
   "source": [
    "a.rstrip()"
   ]
  },
  {
   "cell_type": "code",
   "execution_count": 69,
   "id": "53bff449",
   "metadata": {},
   "outputs": [
    {
     "data": {
      "text/plain": [
       "'i am working with ineuron'"
      ]
     },
     "execution_count": 69,
     "metadata": {},
     "output_type": "execute_result"
    }
   ],
   "source": [
    "a.strip()"
   ]
  },
  {
   "cell_type": "code",
   "execution_count": 70,
   "id": "547e1565",
   "metadata": {},
   "outputs": [],
   "source": [
    "s='sudh'"
   ]
  },
  {
   "cell_type": "code",
   "execution_count": 71,
   "id": "1a4fb944",
   "metadata": {},
   "outputs": [
    {
     "data": {
      "text/plain": [
       "'vudh'"
      ]
     },
     "execution_count": 71,
     "metadata": {},
     "output_type": "execute_result"
    }
   ],
   "source": [
    "s.replace('s','v')"
   ]
  },
  {
   "cell_type": "code",
   "execution_count": 72,
   "id": "9260880c",
   "metadata": {},
   "outputs": [
    {
     "data": {
      "text/plain": [
       "'sudh    kumar'"
      ]
     },
     "execution_count": 72,
     "metadata": {},
     "output_type": "execute_result"
    }
   ],
   "source": [
    "'sudh\\tkumar'.expandtabs()"
   ]
  },
  {
   "cell_type": "code",
   "execution_count": 73,
   "id": "8162ccac",
   "metadata": {},
   "outputs": [],
   "source": [
    "s=' sudh'"
   ]
  },
  {
   "cell_type": "code",
   "execution_count": 74,
   "id": "7bd94026",
   "metadata": {},
   "outputs": [
    {
     "data": {
      "text/plain": [
       "'@@@@@@@@@@@@@@@@@ sudh@@@@@@@@@@@@@@@@@@'"
      ]
     },
     "execution_count": 74,
     "metadata": {},
     "output_type": "execute_result"
    }
   ],
   "source": [
    "s.center(40,'@')\n",
    "#it can take only one character"
   ]
  },
  {
   "cell_type": "code",
   "execution_count": 75,
   "id": "a68ebe5e",
   "metadata": {},
   "outputs": [
    {
     "data": {
      "text/plain": [
       "' SUDH'"
      ]
     },
     "execution_count": 75,
     "metadata": {},
     "output_type": "execute_result"
    }
   ],
   "source": [
    "s.upper()"
   ]
  },
  {
   "cell_type": "code",
   "execution_count": 76,
   "id": "19ee36a0",
   "metadata": {},
   "outputs": [
    {
     "data": {
      "text/plain": [
       "False"
      ]
     },
     "execution_count": 76,
     "metadata": {},
     "output_type": "execute_result"
    }
   ],
   "source": [
    "s.isupper()"
   ]
  },
  {
   "cell_type": "code",
   "execution_count": 77,
   "id": "f7d5c3ee",
   "metadata": {},
   "outputs": [
    {
     "data": {
      "text/plain": [
       "False"
      ]
     },
     "execution_count": 77,
     "metadata": {},
     "output_type": "execute_result"
    }
   ],
   "source": [
    "s.isalnum()"
   ]
  },
  {
   "cell_type": "code",
   "execution_count": 78,
   "id": "cb1e74fc",
   "metadata": {},
   "outputs": [
    {
     "data": {
      "text/plain": [
       "False"
      ]
     },
     "execution_count": 78,
     "metadata": {},
     "output_type": "execute_result"
    }
   ],
   "source": [
    "s.isspace()"
   ]
  },
  {
   "cell_type": "code",
   "execution_count": 79,
   "id": "a5471c48",
   "metadata": {},
   "outputs": [],
   "source": [
    "s='sudh'"
   ]
  },
  {
   "cell_type": "code",
   "execution_count": 80,
   "id": "a833ea67",
   "metadata": {},
   "outputs": [
    {
     "data": {
      "text/plain": [
       "False"
      ]
     },
     "execution_count": 80,
     "metadata": {},
     "output_type": "execute_result"
    }
   ],
   "source": [
    "s.isdigit()"
   ]
  },
  {
   "cell_type": "code",
   "execution_count": 81,
   "id": "5b623532",
   "metadata": {},
   "outputs": [
    {
     "data": {
      "text/plain": [
       "True"
      ]
     },
     "execution_count": 81,
     "metadata": {},
     "output_type": "execute_result"
    }
   ],
   "source": [
    "s.isalpha()"
   ]
  },
  {
   "cell_type": "code",
   "execution_count": 82,
   "id": "60221cc4",
   "metadata": {},
   "outputs": [
    {
     "data": {
      "text/plain": [
       "False"
      ]
     },
     "execution_count": 82,
     "metadata": {},
     "output_type": "execute_result"
    }
   ],
   "source": [
    "s.endswith('v')\n",
    "# check wheather my string ending with v or not "
   ]
  },
  {
   "cell_type": "code",
   "execution_count": 83,
   "id": "eb804c53",
   "metadata": {},
   "outputs": [
    {
     "data": {
      "text/plain": [
       "True"
      ]
     },
     "execution_count": 83,
     "metadata": {},
     "output_type": "execute_result"
    }
   ],
   "source": [
    "s.startswith('s')"
   ]
  },
  {
   "cell_type": "code",
   "execution_count": 84,
   "id": "c9085ca4",
   "metadata": {},
   "outputs": [
    {
     "data": {
      "text/plain": [
       "False"
      ]
     },
     "execution_count": 84,
     "metadata": {},
     "output_type": "execute_result"
    }
   ],
   "source": [
    "s.istitle()"
   ]
  },
  {
   "cell_type": "code",
   "execution_count": 85,
   "id": "4498a501",
   "metadata": {},
   "outputs": [
    {
     "data": {
      "text/plain": [
       "b'sudh'"
      ]
     },
     "execution_count": 85,
     "metadata": {},
     "output_type": "execute_result"
    }
   ],
   "source": [
    "s.encode()"
   ]
  },
  {
   "cell_type": "markdown",
   "id": "eedabfac",
   "metadata": {},
   "source": [
    "# List"
   ]
  },
  {
   "cell_type": "code",
   "execution_count": 86,
   "id": "6267aaa4",
   "metadata": {},
   "outputs": [],
   "source": [
    "l=['vijit', 'kumar', 955433641, True, 6+5j]"
   ]
  },
  {
   "cell_type": "code",
   "execution_count": 87,
   "id": "6040120f",
   "metadata": {},
   "outputs": [
    {
     "data": {
      "text/plain": [
       "list"
      ]
     },
     "execution_count": 87,
     "metadata": {},
     "output_type": "execute_result"
    }
   ],
   "source": [
    "type(l)"
   ]
  },
  {
   "cell_type": "code",
   "execution_count": 88,
   "id": "2af40f3d",
   "metadata": {},
   "outputs": [
    {
     "data": {
      "text/plain": [
       "['vijit', 'kumar', 955433641, True, (6+5j)]"
      ]
     },
     "execution_count": 88,
     "metadata": {},
     "output_type": "execute_result"
    }
   ],
   "source": [
    "l[::]"
   ]
  },
  {
   "cell_type": "code",
   "execution_count": 89,
   "id": "e421af8c",
   "metadata": {},
   "outputs": [
    {
     "data": {
      "text/plain": [
       "['vijit', 'kumar', 955433641, True]"
      ]
     },
     "execution_count": 89,
     "metadata": {},
     "output_type": "execute_result"
    }
   ],
   "source": [
    "l[:4]"
   ]
  },
  {
   "cell_type": "code",
   "execution_count": 90,
   "id": "794c1c09",
   "metadata": {},
   "outputs": [
    {
     "data": {
      "text/plain": [
       "[(6+5j), True, 955433641, 'kumar', 'vijit']"
      ]
     },
     "execution_count": 90,
     "metadata": {},
     "output_type": "execute_result"
    }
   ],
   "source": [
    "l[::-1]"
   ]
  },
  {
   "cell_type": "code",
   "execution_count": 91,
   "id": "6fc8d748",
   "metadata": {},
   "outputs": [
    {
     "data": {
      "text/plain": [
       "['vijit', 955433641, (6+5j)]"
      ]
     },
     "execution_count": 91,
     "metadata": {},
     "output_type": "execute_result"
    }
   ],
   "source": [
    "l[::2]"
   ]
  },
  {
   "cell_type": "code",
   "execution_count": 92,
   "id": "8a91af53",
   "metadata": {},
   "outputs": [],
   "source": [
    "for i in l:\n",
    "    if type(i)==str:\n",
    "        if i=='u':\n",
    "            print(i)\n",
    "else:\n",
    "    pass"
   ]
  },
  {
   "cell_type": "code",
   "execution_count": 93,
   "id": "2d6f6820",
   "metadata": {},
   "outputs": [
    {
     "name": "stdout",
     "output_type": "stream",
     "text": [
      "vijit\n",
      "kumar\n",
      "6\n"
     ]
    }
   ],
   "source": [
    "n=[]\n",
    "for i in l:\n",
    "    if type(i)==str:\n",
    "        print(i)\n",
    "        n.append(i)\n",
    "n\n",
    "a=str(n)\n",
    "for j in range(len(a)):\n",
    "    if a[j]=='t':\n",
    "        print(j)\n",
    "    "
   ]
  },
  {
   "cell_type": "code",
   "execution_count": 94,
   "id": "48362180",
   "metadata": {},
   "outputs": [
    {
     "data": {
      "text/plain": [
       "'kumar'"
      ]
     },
     "execution_count": 94,
     "metadata": {},
     "output_type": "execute_result"
    }
   ],
   "source": [
    "l.pop(1)"
   ]
  },
  {
   "cell_type": "code",
   "execution_count": 95,
   "id": "94d3d791",
   "metadata": {},
   "outputs": [],
   "source": [
    "l.insert(1,'pal')"
   ]
  },
  {
   "cell_type": "code",
   "execution_count": 96,
   "id": "97af07e0",
   "metadata": {},
   "outputs": [
    {
     "data": {
      "text/plain": [
       "['vijit', 'pal', 955433641, True, (6+5j)]"
      ]
     },
     "execution_count": 96,
     "metadata": {},
     "output_type": "execute_result"
    }
   ],
   "source": [
    "l"
   ]
  },
  {
   "cell_type": "code",
   "execution_count": 97,
   "id": "ed90f625",
   "metadata": {},
   "outputs": [
    {
     "data": {
      "text/plain": [
       "['vijit', 'pal', 955433641, True, (6+5j)]"
      ]
     },
     "execution_count": 97,
     "metadata": {},
     "output_type": "execute_result"
    }
   ],
   "source": [
    "l"
   ]
  },
  {
   "cell_type": "code",
   "execution_count": 98,
   "id": "73da912b",
   "metadata": {},
   "outputs": [],
   "source": [
    "l.insert(2,[56,45,'monika'])"
   ]
  },
  {
   "cell_type": "code",
   "execution_count": 99,
   "id": "db06b450",
   "metadata": {},
   "outputs": [
    {
     "data": {
      "text/plain": [
       "['vijit', 'pal', [56, 45, 'monika'], 955433641, True, (6+5j)]"
      ]
     },
     "execution_count": 99,
     "metadata": {},
     "output_type": "execute_result"
    }
   ],
   "source": [
    "l"
   ]
  },
  {
   "cell_type": "code",
   "execution_count": 100,
   "id": "f1bc27ee",
   "metadata": {},
   "outputs": [
    {
     "data": {
      "text/plain": [
       "'monika'"
      ]
     },
     "execution_count": 100,
     "metadata": {},
     "output_type": "execute_result"
    }
   ],
   "source": [
    "l[2][2]"
   ]
  },
  {
   "cell_type": "code",
   "execution_count": 101,
   "id": "d1b9d3a7",
   "metadata": {},
   "outputs": [],
   "source": [
    "l.append([3,4,5,6])"
   ]
  },
  {
   "cell_type": "code",
   "execution_count": 102,
   "id": "8eafb53c",
   "metadata": {},
   "outputs": [
    {
     "data": {
      "text/plain": [
       "['vijit', 'pal', [56, 45, 'monika'], 955433641, True, (6+5j), [3, 4, 5, 6]]"
      ]
     },
     "execution_count": 102,
     "metadata": {},
     "output_type": "execute_result"
    }
   ],
   "source": [
    "l"
   ]
  },
  {
   "cell_type": "code",
   "execution_count": 103,
   "id": "0eec7c71",
   "metadata": {},
   "outputs": [],
   "source": [
    "l1=[2,3,5,5,5,5]"
   ]
  },
  {
   "cell_type": "code",
   "execution_count": 104,
   "id": "b1237eee",
   "metadata": {},
   "outputs": [],
   "source": [
    "l1.extend(['viji','kumar'])"
   ]
  },
  {
   "cell_type": "code",
   "execution_count": 105,
   "id": "2563bf58",
   "metadata": {},
   "outputs": [
    {
     "data": {
      "text/plain": [
       "[2, 3, 5, 5, 5, 5, 'viji', 'kumar']"
      ]
     },
     "execution_count": 105,
     "metadata": {},
     "output_type": "execute_result"
    }
   ],
   "source": [
    "l1"
   ]
  },
  {
   "cell_type": "code",
   "execution_count": null,
   "id": "2af7f0c9",
   "metadata": {},
   "outputs": [],
   "source": []
  },
  {
   "cell_type": "code",
   "execution_count": 106,
   "id": "fd20ee9a",
   "metadata": {},
   "outputs": [
    {
     "name": "stdout",
     "output_type": "stream",
     "text": [
      "kumar\n",
      "viji\n",
      "5\n",
      "5\n",
      "5\n",
      "5\n",
      "3\n",
      "2\n"
     ]
    }
   ],
   "source": [
    "for i in reversed(l1):\n",
    "    print(i)"
   ]
  },
  {
   "cell_type": "code",
   "execution_count": 107,
   "id": "7bfbb25f",
   "metadata": {},
   "outputs": [],
   "source": [
    "l1.extend('viji')"
   ]
  },
  {
   "cell_type": "code",
   "execution_count": 108,
   "id": "a48a4e37",
   "metadata": {},
   "outputs": [
    {
     "data": {
      "text/plain": [
       "[2, 3, 5, 5, 5, 5, 'viji', 'kumar', 'v', 'i', 'j', 'i']"
      ]
     },
     "execution_count": 108,
     "metadata": {},
     "output_type": "execute_result"
    }
   ],
   "source": [
    "l1"
   ]
  },
  {
   "cell_type": "code",
   "execution_count": 109,
   "id": "3a667b4f",
   "metadata": {},
   "outputs": [
    {
     "ename": "TypeError",
     "evalue": "extend() takes exactly one argument (3 given)",
     "output_type": "error",
     "traceback": [
      "\u001b[1;31m---------------------------------------------------------------------------\u001b[0m",
      "\u001b[1;31mTypeError\u001b[0m                                 Traceback (most recent call last)",
      "\u001b[1;32m<ipython-input-109-57d9a5d37a27>\u001b[0m in \u001b[0;36m<module>\u001b[1;34m\u001b[0m\n\u001b[1;32m----> 1\u001b[1;33m \u001b[0ml1\u001b[0m\u001b[1;33m.\u001b[0m\u001b[0mextend\u001b[0m\u001b[1;33m(\u001b[0m\u001b[1;36m1\u001b[0m\u001b[1;33m,\u001b[0m\u001b[1;36m2\u001b[0m\u001b[1;33m,\u001b[0m\u001b[1;36m3\u001b[0m\u001b[1;33m)\u001b[0m\u001b[1;33m\u001b[0m\u001b[1;33m\u001b[0m\u001b[0m\n\u001b[0m",
      "\u001b[1;31mTypeError\u001b[0m: extend() takes exactly one argument (3 given)"
     ]
    }
   ],
   "source": [
    "l1.extend(1,2,3)"
   ]
  },
  {
   "cell_type": "code",
   "execution_count": 110,
   "id": "4b0c0cd0",
   "metadata": {},
   "outputs": [
    {
     "ename": "TypeError",
     "evalue": "'int' object is not iterable",
     "output_type": "error",
     "traceback": [
      "\u001b[1;31m---------------------------------------------------------------------------\u001b[0m",
      "\u001b[1;31mTypeError\u001b[0m                                 Traceback (most recent call last)",
      "\u001b[1;32m<ipython-input-110-c872e3951ec4>\u001b[0m in \u001b[0;36m<module>\u001b[1;34m\u001b[0m\n\u001b[1;32m----> 1\u001b[1;33m \u001b[0ml1\u001b[0m\u001b[1;33m.\u001b[0m\u001b[0mextend\u001b[0m\u001b[1;33m(\u001b[0m\u001b[1;36m15\u001b[0m\u001b[1;33m)\u001b[0m\u001b[1;33m\u001b[0m\u001b[1;33m\u001b[0m\u001b[0m\n\u001b[0m",
      "\u001b[1;31mTypeError\u001b[0m: 'int' object is not iterable"
     ]
    }
   ],
   "source": [
    "l1.extend(15)"
   ]
  },
  {
   "cell_type": "code",
   "execution_count": 111,
   "id": "306208a0",
   "metadata": {},
   "outputs": [],
   "source": [
    "l1.extend([15,51,58])"
   ]
  },
  {
   "cell_type": "code",
   "execution_count": 112,
   "id": "c98ba948",
   "metadata": {},
   "outputs": [
    {
     "data": {
      "text/plain": [
       "[2, 3, 5, 5, 5, 5, 'viji', 'kumar', 'v', 'i', 'j', 'i', 15, 51, 58]"
      ]
     },
     "execution_count": 112,
     "metadata": {},
     "output_type": "execute_result"
    }
   ],
   "source": [
    "l1"
   ]
  },
  {
   "cell_type": "code",
   "execution_count": 113,
   "id": "1c0b0727",
   "metadata": {},
   "outputs": [],
   "source": [
    "a=\"i am working with ineuron\""
   ]
  },
  {
   "cell_type": "code",
   "execution_count": 114,
   "id": "4eb20d10",
   "metadata": {},
   "outputs": [
    {
     "data": {
      "text/plain": [
       "'i am working wit'"
      ]
     },
     "execution_count": 114,
     "metadata": {},
     "output_type": "execute_result"
    }
   ],
   "source": [
    "a[0:16:]"
   ]
  },
  {
   "cell_type": "code",
   "execution_count": 115,
   "id": "794444e3",
   "metadata": {},
   "outputs": [
    {
     "data": {
      "text/plain": [
       "'i'"
      ]
     },
     "execution_count": 115,
     "metadata": {},
     "output_type": "execute_result"
    }
   ],
   "source": [
    "a[0:-100:-1]"
   ]
  },
  {
   "cell_type": "code",
   "execution_count": 116,
   "id": "1482da89",
   "metadata": {},
   "outputs": [],
   "source": [
    "l1=[2,65,'ravi']"
   ]
  },
  {
   "cell_type": "code",
   "execution_count": 117,
   "id": "74a077a6",
   "metadata": {},
   "outputs": [],
   "source": [
    "g=l1[2].replace('r','s')"
   ]
  },
  {
   "cell_type": "code",
   "execution_count": 118,
   "id": "237d8642",
   "metadata": {},
   "outputs": [
    {
     "data": {
      "text/plain": [
       "'ravi'"
      ]
     },
     "execution_count": 118,
     "metadata": {},
     "output_type": "execute_result"
    }
   ],
   "source": [
    "l1.pop(2)"
   ]
  },
  {
   "cell_type": "code",
   "execution_count": 119,
   "id": "b1abc7db",
   "metadata": {},
   "outputs": [],
   "source": [
    "l1.append(g)"
   ]
  },
  {
   "cell_type": "code",
   "execution_count": 120,
   "id": "9f268dc6",
   "metadata": {},
   "outputs": [
    {
     "data": {
      "text/plain": [
       "[2, 65, 'savi']"
      ]
     },
     "execution_count": 120,
     "metadata": {},
     "output_type": "execute_result"
    }
   ],
   "source": [
    "l1"
   ]
  },
  {
   "cell_type": "code",
   "execution_count": 121,
   "id": "ef11380d",
   "metadata": {},
   "outputs": [],
   "source": [
    "#pop will take character out from list"
   ]
  },
  {
   "cell_type": "code",
   "execution_count": 122,
   "id": "df1d1b7e",
   "metadata": {},
   "outputs": [
    {
     "data": {
      "text/plain": [
       "str"
      ]
     },
     "execution_count": 122,
     "metadata": {},
     "output_type": "execute_result"
    }
   ],
   "source": [
    "type(l1[2])"
   ]
  },
  {
   "cell_type": "code",
   "execution_count": 123,
   "id": "0e687a39",
   "metadata": {},
   "outputs": [
    {
     "data": {
      "text/plain": [
       "False"
      ]
     },
     "execution_count": 123,
     "metadata": {},
     "output_type": "execute_result"
    }
   ],
   "source": [
    "s='USA fdf'\n",
    "s.isupper()"
   ]
  },
  {
   "cell_type": "code",
   "execution_count": 124,
   "id": "0d1b46c3",
   "metadata": {},
   "outputs": [
    {
     "data": {
      "text/plain": [
       "False"
      ]
     },
     "execution_count": 124,
     "metadata": {},
     "output_type": "execute_result"
    }
   ],
   "source": [
    "s.istitle()"
   ]
  },
  {
   "cell_type": "code",
   "execution_count": 125,
   "id": "a3841c33",
   "metadata": {},
   "outputs": [
    {
     "data": {
      "text/plain": [
       "'Usa Fdf'"
      ]
     },
     "execution_count": 125,
     "metadata": {},
     "output_type": "execute_result"
    }
   ],
   "source": [
    "s.title()"
   ]
  },
  {
   "cell_type": "code",
   "execution_count": 8,
   "id": "6f55601e",
   "metadata": {},
   "outputs": [],
   "source": [
    "l4=['name','surname',521,['viji',['kumar']]]\n",
    "g=l4[3][1][0].replace('k','p')\n",
    "#how to replace k with any other character"
   ]
  },
  {
   "cell_type": "code",
   "execution_count": 9,
   "id": "c4ddae72",
   "metadata": {},
   "outputs": [
    {
     "data": {
      "text/plain": [
       "'name'"
      ]
     },
     "execution_count": 9,
     "metadata": {},
     "output_type": "execute_result"
    }
   ],
   "source": [
    "l4[0].replace('k','p')"
   ]
  },
  {
   "cell_type": "code",
   "execution_count": 10,
   "id": "4ee4e1b4",
   "metadata": {},
   "outputs": [
    {
     "data": {
      "text/plain": [
       "['name', 'surname', 521, ['viji', ['kumar']]]"
      ]
     },
     "execution_count": 10,
     "metadata": {},
     "output_type": "execute_result"
    }
   ],
   "source": [
    "l4"
   ]
  },
  {
   "cell_type": "code",
   "execution_count": 11,
   "id": "86686452",
   "metadata": {},
   "outputs": [
    {
     "data": {
      "text/plain": [
       "'kumar'"
      ]
     },
     "execution_count": 11,
     "metadata": {},
     "output_type": "execute_result"
    }
   ],
   "source": [
    "l4[3][1].pop()"
   ]
  },
  {
   "cell_type": "code",
   "execution_count": 12,
   "id": "fdf84612",
   "metadata": {},
   "outputs": [
    {
     "data": {
      "text/plain": [
       "['name', 'surname', 521, ['viji', []]]"
      ]
     },
     "execution_count": 12,
     "metadata": {},
     "output_type": "execute_result"
    }
   ],
   "source": [
    "l4"
   ]
  },
  {
   "cell_type": "code",
   "execution_count": null,
   "id": "9ab948f5",
   "metadata": {},
   "outputs": [],
   "source": []
  },
  {
   "cell_type": "markdown",
   "id": "400c9936",
   "metadata": {},
   "source": [
    "#### "
   ]
  },
  {
   "cell_type": "code",
   "execution_count": 131,
   "id": "3a685e4c",
   "metadata": {},
   "outputs": [
    {
     "data": {
      "text/plain": [
       "['name', 'surname', 521, ['viji', []]]"
      ]
     },
     "execution_count": 131,
     "metadata": {},
     "output_type": "execute_result"
    }
   ],
   "source": [
    "l4"
   ]
  },
  {
   "cell_type": "code",
   "execution_count": 132,
   "id": "ea127b0a",
   "metadata": {},
   "outputs": [],
   "source": [
    "l4[3][1].append(g)"
   ]
  },
  {
   "cell_type": "code",
   "execution_count": 133,
   "id": "11704763",
   "metadata": {},
   "outputs": [
    {
     "data": {
      "text/plain": [
       "['name', 'surname', 521, ['viji', ['pumar']]]"
      ]
     },
     "execution_count": 133,
     "metadata": {},
     "output_type": "execute_result"
    }
   ],
   "source": [
    "l4"
   ]
  },
  {
   "cell_type": "code",
   "execution_count": 134,
   "id": "29c535d4",
   "metadata": {},
   "outputs": [],
   "source": [
    "s='monu'\n",
    "l4.extend(s)"
   ]
  },
  {
   "cell_type": "code",
   "execution_count": 135,
   "id": "b7d77118",
   "metadata": {},
   "outputs": [
    {
     "data": {
      "text/plain": [
       "['name', 'surname', 521, ['viji', ['pumar']], 'm', 'o', 'n', 'u']"
      ]
     },
     "execution_count": 135,
     "metadata": {},
     "output_type": "execute_result"
    }
   ],
   "source": [
    "l4"
   ]
  },
  {
   "cell_type": "code",
   "execution_count": 136,
   "id": "849a3120",
   "metadata": {},
   "outputs": [],
   "source": [
    "l4.extend([s])"
   ]
  },
  {
   "cell_type": "code",
   "execution_count": 137,
   "id": "b77e49aa",
   "metadata": {},
   "outputs": [
    {
     "data": {
      "text/plain": [
       "'m'"
      ]
     },
     "execution_count": 137,
     "metadata": {},
     "output_type": "execute_result"
    }
   ],
   "source": [
    "l4.pop(4)"
   ]
  },
  {
   "cell_type": "code",
   "execution_count": 138,
   "id": "0adbf06b",
   "metadata": {},
   "outputs": [
    {
     "data": {
      "text/plain": [
       "['name', 'surname', 521, ['viji', ['pumar']], 'o', 'n', 'u', 'monu']"
      ]
     },
     "execution_count": 138,
     "metadata": {},
     "output_type": "execute_result"
    }
   ],
   "source": [
    "l4"
   ]
  },
  {
   "cell_type": "code",
   "execution_count": 139,
   "id": "1746b30a",
   "metadata": {},
   "outputs": [
    {
     "data": {
      "text/plain": [
       "'o'"
      ]
     },
     "execution_count": 139,
     "metadata": {},
     "output_type": "execute_result"
    }
   ],
   "source": [
    "l4.pop(4)"
   ]
  },
  {
   "cell_type": "code",
   "execution_count": 140,
   "id": "7c9994d2",
   "metadata": {},
   "outputs": [
    {
     "data": {
      "text/plain": [
       "'monu'"
      ]
     },
     "execution_count": 140,
     "metadata": {},
     "output_type": "execute_result"
    }
   ],
   "source": [
    "l4[6]"
   ]
  },
  {
   "cell_type": "code",
   "execution_count": 141,
   "id": "5e761258",
   "metadata": {},
   "outputs": [
    {
     "data": {
      "text/plain": [
       "[2, 65, 'savi']"
      ]
     },
     "execution_count": 141,
     "metadata": {},
     "output_type": "execute_result"
    }
   ],
   "source": [
    "l1"
   ]
  },
  {
   "cell_type": "code",
   "execution_count": 142,
   "id": "4e4b08a6",
   "metadata": {},
   "outputs": [
    {
     "data": {
      "text/plain": [
       "['name', 'surname', 521, ['viji', ['pumar']], 'n', 'u', 'monu']"
      ]
     },
     "execution_count": 142,
     "metadata": {},
     "output_type": "execute_result"
    }
   ],
   "source": [
    "l4"
   ]
  },
  {
   "cell_type": "code",
   "execution_count": 145,
   "id": "97bbbb4e",
   "metadata": {},
   "outputs": [
    {
     "data": {
      "text/plain": [
       "'ramup'"
      ]
     },
     "execution_count": 145,
     "metadata": {},
     "output_type": "execute_result"
    }
   ],
   "source": [
    "l4[3][1][0][::-1]"
   ]
  },
  {
   "cell_type": "code",
   "execution_count": 144,
   "id": "598051cd",
   "metadata": {},
   "outputs": [
    {
     "data": {
      "text/plain": [
       "['monu', 'u', 'n', ['viji', ['pumar']], 521, 'surname', 'name']"
      ]
     },
     "execution_count": 144,
     "metadata": {},
     "output_type": "execute_result"
    }
   ],
   "source": [
    "l4[::-1]"
   ]
  },
  {
   "cell_type": "code",
   "execution_count": 153,
   "id": "4d426f0a",
   "metadata": {},
   "outputs": [
    {
     "name": "stdout",
     "output_type": "stream",
     "text": [
      "[521, 'viji']\n"
     ]
    }
   ],
   "source": [
    "l5=[]\n",
    "for i in l4:\n",
    "    if type(i)== int:\n",
    "        l5.append(i)\n",
    "for j in l4:\n",
    "    if type(j)==list:\n",
    "        for k in j:\n",
    "            if type(k)==str:\n",
    "                l5.append(k)\n",
    "print(l5)       "
   ]
  },
  {
   "cell_type": "markdown",
   "id": "d51a3bfb",
   "metadata": {},
   "source": [
    "# tuple"
   ]
  },
  {
   "cell_type": "code",
   "execution_count": 1,
   "id": "bd3e3789",
   "metadata": {},
   "outputs": [
    {
     "data": {
      "text/plain": [
       "tuple"
      ]
     },
     "execution_count": 1,
     "metadata": {},
     "output_type": "execute_result"
    }
   ],
   "source": [
    "t=(11,515,5)\n",
    "type(t)"
   ]
  },
  {
   "cell_type": "code",
   "execution_count": 3,
   "id": "3ef5b7ea",
   "metadata": {},
   "outputs": [],
   "source": [
    "t1=('viji',25,6+5j,253.23,[1,2,8])"
   ]
  },
  {
   "cell_type": "code",
   "execution_count": 4,
   "id": "26f571e1",
   "metadata": {},
   "outputs": [
    {
     "data": {
      "text/plain": [
       "tuple"
      ]
     },
     "execution_count": 4,
     "metadata": {},
     "output_type": "execute_result"
    }
   ],
   "source": [
    "type(t1)"
   ]
  },
  {
   "cell_type": "code",
   "execution_count": 5,
   "id": "b2b0b090",
   "metadata": {},
   "outputs": [
    {
     "data": {
      "text/plain": [
       "('viji', 25, (6+5j), 253.23, [1, 2, 8])"
      ]
     },
     "execution_count": 5,
     "metadata": {},
     "output_type": "execute_result"
    }
   ],
   "source": [
    "t1[::]"
   ]
  },
  {
   "cell_type": "code",
   "execution_count": 6,
   "id": "f40605a1",
   "metadata": {},
   "outputs": [],
   "source": [
    "l1=['viji',25,6+5j,253.23,[1,2,8]]"
   ]
  },
  {
   "cell_type": "code",
   "execution_count": 7,
   "id": "bbe5cbb0",
   "metadata": {},
   "outputs": [],
   "source": [
    "l1[0]='sudh'"
   ]
  },
  {
   "cell_type": "code",
   "execution_count": 8,
   "id": "4eea5134",
   "metadata": {},
   "outputs": [
    {
     "data": {
      "text/plain": [
       "['sudh', 25, (6+5j), 253.23, [1, 2, 8]]"
      ]
     },
     "execution_count": 8,
     "metadata": {},
     "output_type": "execute_result"
    }
   ],
   "source": [
    "l1"
   ]
  },
  {
   "cell_type": "code",
   "execution_count": 10,
   "id": "8dd3b034",
   "metadata": {},
   "outputs": [
    {
     "data": {
      "text/plain": [
       "[8, 2, 1]"
      ]
     },
     "execution_count": 10,
     "metadata": {},
     "output_type": "execute_result"
    }
   ],
   "source": [
    "t1[4][::-1]"
   ]
  },
  {
   "cell_type": "code",
   "execution_count": 11,
   "id": "13b24b1c",
   "metadata": {},
   "outputs": [],
   "source": [
    "t2=(2,4,5,6)"
   ]
  },
  {
   "cell_type": "code",
   "execution_count": 12,
   "id": "f87ff3f7",
   "metadata": {},
   "outputs": [
    {
     "data": {
      "text/plain": [
       "('viji', 25, (6+5j), 253.23, [1, 2, 8], 2, 4, 5, 6)"
      ]
     },
     "execution_count": 12,
     "metadata": {},
     "output_type": "execute_result"
    }
   ],
   "source": [
    "t1+t2"
   ]
  },
  {
   "cell_type": "code",
   "execution_count": 13,
   "id": "1a942b62",
   "metadata": {},
   "outputs": [
    {
     "data": {
      "text/plain": [
       "0"
      ]
     },
     "execution_count": 13,
     "metadata": {},
     "output_type": "execute_result"
    }
   ],
   "source": [
    "t1.count(2)"
   ]
  },
  {
   "cell_type": "markdown",
   "id": "c3d5ebb6",
   "metadata": {},
   "source": [
    "# Set"
   ]
  },
  {
   "cell_type": "code",
   "execution_count": 14,
   "id": "21b2f1d6",
   "metadata": {},
   "outputs": [],
   "source": [
    "l=[1,2,3,5,5,5,6,6,8]"
   ]
  },
  {
   "cell_type": "code",
   "execution_count": 15,
   "id": "8e3aec19",
   "metadata": {},
   "outputs": [],
   "source": [
    "s=set(l)"
   ]
  },
  {
   "cell_type": "code",
   "execution_count": 18,
   "id": "f0a8bd61",
   "metadata": {},
   "outputs": [
    {
     "data": {
      "text/plain": [
       "{1, 2, 3, 5, 6, 8}"
      ]
     },
     "execution_count": 18,
     "metadata": {},
     "output_type": "execute_result"
    }
   ],
   "source": [
    "s"
   ]
  },
  {
   "cell_type": "code",
   "execution_count": 21,
   "id": "af35fdc5",
   "metadata": {},
   "outputs": [
    {
     "data": {
      "text/plain": [
       "[1, 2, 3, 5, 6, 8]"
      ]
     },
     "execution_count": 21,
     "metadata": {},
     "output_type": "execute_result"
    }
   ],
   "source": [
    "list(s)"
   ]
  },
  {
   "cell_type": "code",
   "execution_count": 25,
   "id": "8d6b7f07",
   "metadata": {},
   "outputs": [],
   "source": [
    "s={(1,2,30),(1,2,30),5,6}"
   ]
  },
  {
   "cell_type": "code",
   "execution_count": 24,
   "id": "6867e977",
   "metadata": {},
   "outputs": [
    {
     "ename": "TypeError",
     "evalue": "unhashable type: 'list'",
     "output_type": "error",
     "traceback": [
      "\u001b[1;31m---------------------------------------------------------------------------\u001b[0m",
      "\u001b[1;31mTypeError\u001b[0m                                 Traceback (most recent call last)",
      "\u001b[1;32m<ipython-input-24-2912dbc0d9b4>\u001b[0m in \u001b[0;36m<module>\u001b[1;34m\u001b[0m\n\u001b[1;32m----> 1\u001b[1;33m \u001b[1;33m{\u001b[0m\u001b[1;33m[\u001b[0m\u001b[1;36m2\u001b[0m\u001b[1;33m,\u001b[0m\u001b[1;36m5\u001b[0m\u001b[1;33m,\u001b[0m\u001b[1;36m600\u001b[0m\u001b[1;33m]\u001b[0m\u001b[1;33m,\u001b[0m\u001b[1;36m5\u001b[0m\u001b[1;33m,\u001b[0m\u001b[1;36m6\u001b[0m\u001b[1;33m}\u001b[0m\u001b[1;33m\u001b[0m\u001b[1;33m\u001b[0m\u001b[0m\n\u001b[0m\u001b[0;32m      2\u001b[0m \u001b[1;31m# immutalbe is allow in set but mutable not\u001b[0m\u001b[1;33m\u001b[0m\u001b[1;33m\u001b[0m\u001b[1;33m\u001b[0m\u001b[0m\n",
      "\u001b[1;31mTypeError\u001b[0m: unhashable type: 'list'"
     ]
    }
   ],
   "source": [
    "{[2,5,600],5,6}\n",
    "# immutalbe is allow in set but mutable not"
   ]
  },
  {
   "cell_type": "code",
   "execution_count": 27,
   "id": "dd55304e",
   "metadata": {},
   "outputs": [],
   "source": [
    "s.remove(5)"
   ]
  },
  {
   "cell_type": "code",
   "execution_count": 28,
   "id": "18d21dcb",
   "metadata": {},
   "outputs": [
    {
     "data": {
      "text/plain": [
       "{(1, 2, 30), 6}"
      ]
     },
     "execution_count": 28,
     "metadata": {},
     "output_type": "execute_result"
    }
   ],
   "source": [
    "s"
   ]
  },
  {
   "cell_type": "code",
   "execution_count": 29,
   "id": "989e7499",
   "metadata": {},
   "outputs": [],
   "source": [
    "s.discard(6)"
   ]
  },
  {
   "cell_type": "code",
   "execution_count": 30,
   "id": "eb9bc4ab",
   "metadata": {},
   "outputs": [
    {
     "data": {
      "text/plain": [
       "{(1, 2, 30)}"
      ]
     },
     "execution_count": 30,
     "metadata": {},
     "output_type": "execute_result"
    }
   ],
   "source": [
    "s"
   ]
  },
  {
   "cell_type": "code",
   "execution_count": 34,
   "id": "c6a2e08c",
   "metadata": {},
   "outputs": [],
   "source": [
    "s.add(5)"
   ]
  },
  {
   "cell_type": "code",
   "execution_count": 35,
   "id": "4476a7e1",
   "metadata": {},
   "outputs": [],
   "source": [
    "s2={2,5,6,7}"
   ]
  },
  {
   "cell_type": "code",
   "execution_count": 37,
   "id": "87343a72",
   "metadata": {},
   "outputs": [
    {
     "data": {
      "text/plain": [
       "{5}"
      ]
     },
     "execution_count": 37,
     "metadata": {},
     "output_type": "execute_result"
    }
   ],
   "source": [
    "s.intersection(s2)"
   ]
  },
  {
   "cell_type": "code",
   "execution_count": 38,
   "id": "6992cea4",
   "metadata": {},
   "outputs": [
    {
     "data": {
      "text/plain": [
       "False"
      ]
     },
     "execution_count": 38,
     "metadata": {},
     "output_type": "execute_result"
    }
   ],
   "source": [
    "s.issubset(s2)"
   ]
  },
  {
   "cell_type": "code",
   "execution_count": 39,
   "id": "2837419d",
   "metadata": {},
   "outputs": [
    {
     "data": {
      "text/plain": [
       "False"
      ]
     },
     "execution_count": 39,
     "metadata": {},
     "output_type": "execute_result"
    }
   ],
   "source": [
    "s.isdisjoint(s2)"
   ]
  },
  {
   "cell_type": "code",
   "execution_count": 40,
   "id": "20d3850a",
   "metadata": {},
   "outputs": [
    {
     "data": {
      "text/plain": [
       "{(1, 2, 30), 2, 5, 6, 7}"
      ]
     },
     "execution_count": 40,
     "metadata": {},
     "output_type": "execute_result"
    }
   ],
   "source": [
    "s.union(s2)"
   ]
  },
  {
   "cell_type": "code",
   "execution_count": 43,
   "id": "1581c1b5",
   "metadata": {},
   "outputs": [],
   "source": [
    "s.update(s2)"
   ]
  },
  {
   "cell_type": "code",
   "execution_count": 44,
   "id": "c488ed0d",
   "metadata": {},
   "outputs": [
    {
     "data": {
      "text/plain": [
       "{(1, 2, 30), 2, 5, 6, 7}"
      ]
     },
     "execution_count": 44,
     "metadata": {},
     "output_type": "execute_result"
    }
   ],
   "source": [
    "s"
   ]
  },
  {
   "cell_type": "code",
   "execution_count": 45,
   "id": "d3f437e8",
   "metadata": {},
   "outputs": [],
   "source": [
    "s3={'viji','kumar'}"
   ]
  },
  {
   "cell_type": "code",
   "execution_count": 46,
   "id": "eac8cab3",
   "metadata": {},
   "outputs": [],
   "source": [
    "s.update(s3)"
   ]
  },
  {
   "cell_type": "code",
   "execution_count": 47,
   "id": "56a2e102",
   "metadata": {},
   "outputs": [
    {
     "data": {
      "text/plain": [
       "{(1, 2, 30), 2, 5, 6, 7, 'kumar', 'viji'}"
      ]
     },
     "execution_count": 47,
     "metadata": {},
     "output_type": "execute_result"
    }
   ],
   "source": [
    "s"
   ]
  },
  {
   "cell_type": "markdown",
   "id": "528ddc11",
   "metadata": {},
   "source": [
    "# dictonary"
   ]
  },
  {
   "cell_type": "code",
   "execution_count": 48,
   "id": "a6208f04",
   "metadata": {},
   "outputs": [],
   "source": [
    "d={4:'viji'}"
   ]
  },
  {
   "cell_type": "code",
   "execution_count": 49,
   "id": "5b22fa6d",
   "metadata": {},
   "outputs": [],
   "source": [
    "d1={\"key1\":5445,\"key2\":\"viji\",\"key3\":[1,2,3]}"
   ]
  },
  {
   "cell_type": "code",
   "execution_count": 51,
   "id": "ef5b9cf0",
   "metadata": {},
   "outputs": [
    {
     "data": {
      "text/plain": [
       "5445"
      ]
     },
     "execution_count": 51,
     "metadata": {},
     "output_type": "execute_result"
    }
   ],
   "source": [
    "d1.get(\"key1\")"
   ]
  },
  {
   "cell_type": "code",
   "execution_count": 52,
   "id": "bb31ae5e",
   "metadata": {},
   "outputs": [
    {
     "data": {
      "text/plain": [
       "dict_items([('key1', 5445), ('key2', 'viji'), ('key3', [1, 2, 3])])"
      ]
     },
     "execution_count": 52,
     "metadata": {},
     "output_type": "execute_result"
    }
   ],
   "source": [
    "d1.items()"
   ]
  },
  {
   "cell_type": "code",
   "execution_count": 58,
   "id": "46078c1b",
   "metadata": {},
   "outputs": [],
   "source": [
    "d1.update(key1=10)"
   ]
  },
  {
   "cell_type": "code",
   "execution_count": 59,
   "id": "6f3e722b",
   "metadata": {},
   "outputs": [
    {
     "data": {
      "text/plain": [
       "{'key1': 10, 'key2': 'viji', 'key3': [1, 2, 3]}"
      ]
     },
     "execution_count": 59,
     "metadata": {},
     "output_type": "execute_result"
    }
   ],
   "source": [
    "d1"
   ]
  },
  {
   "cell_type": "code",
   "execution_count": 64,
   "id": "0b732a54",
   "metadata": {},
   "outputs": [
    {
     "data": {
      "text/plain": [
       "{'k': 45, 'e': 45, 'y': 45, '4': 45}"
      ]
     },
     "execution_count": 64,
     "metadata": {},
     "output_type": "execute_result"
    }
   ],
   "source": [
    "d.fromkeys('key4',45)"
   ]
  },
  {
   "cell_type": "code",
   "execution_count": 63,
   "id": "70b24aac",
   "metadata": {},
   "outputs": [
    {
     "data": {
      "text/plain": [
       "{'key1': 10, 'key2': 'viji', 'key3': [1, 2, 3]}"
      ]
     },
     "execution_count": 63,
     "metadata": {},
     "output_type": "execute_result"
    }
   ],
   "source": [
    "d1"
   ]
  },
  {
   "cell_type": "code",
   "execution_count": 66,
   "id": "f9169c05",
   "metadata": {},
   "outputs": [],
   "source": [
    "d1={(2,5,6):[2,8,9]}"
   ]
  },
  {
   "cell_type": "code",
   "execution_count": 67,
   "id": "95c3e4b9",
   "metadata": {},
   "outputs": [
    {
     "data": {
      "text/plain": [
       "{(2, 5, 6): [2, 8, 9]}"
      ]
     },
     "execution_count": 67,
     "metadata": {},
     "output_type": "execute_result"
    }
   ],
   "source": [
    "d1"
   ]
  },
  {
   "cell_type": "code",
   "execution_count": 94,
   "id": "c104431e",
   "metadata": {},
   "outputs": [
    {
     "name": "stdout",
     "output_type": "stream",
     "text": [
      "enter a para--Knowledge is power. I try to read a bit every day, to gain more knowledge. It feels good to know more.  But we cannot allow knowledge to render us arrogant Arrogance is a sign of ignorance Arrogance is a sign of extremely limited knowledge.\n"
     ]
    }
   ],
   "source": [
    "l=input('enter a para--')\n",
    "l1=l.split(' ')\n",
    "s=set(l1)\n",
    "l2=list(s)\n",
    "d={}\n",
    "for i in l2:\n",
    "    d[i]=i"
   ]
  },
  {
   "cell_type": "code",
   "execution_count": 95,
   "id": "85e68d2b",
   "metadata": {},
   "outputs": [
    {
     "name": "stdout",
     "output_type": "stream",
     "text": [
      "{'': '', 'is': 'is', 'good': 'good', 'knowledge': 'knowledge', 'But': 'But', 'a': 'a', 'power.': 'power.', 'sign': 'sign', 'knowledge.': 'knowledge.', 'we': 'we', 'Arrogance': 'Arrogance', 'to': 'to', 'allow': 'allow', 'day,': 'day,', 'feels': 'feels', 'gain': 'gain', 'read': 'read', 'of': 'of', 'limited': 'limited', 'us': 'us', 'more': 'more', 'extremely': 'extremely', 'cannot': 'cannot', 'every': 'every', 'more.': 'more.', 'try': 'try', 'I': 'I', 'know': 'know', 'Knowledge': 'Knowledge', 'It': 'It', 'arrogant': 'arrogant', 'ignorance': 'ignorance', 'bit': 'bit', 'render': 'render'}\n"
     ]
    }
   ],
   "source": [
    "print(d)"
   ]
  },
  {
   "cell_type": "code",
   "execution_count": 97,
   "id": "e8afb6ef",
   "metadata": {},
   "outputs": [],
   "source": [
    "d={'key1':'viji','key2':[1,2]}"
   ]
  },
  {
   "cell_type": "code",
   "execution_count": 85,
   "id": "e5b58873",
   "metadata": {},
   "outputs": [],
   "source": [
    "d['key3']=45"
   ]
  },
  {
   "cell_type": "code",
   "execution_count": 86,
   "id": "af921317",
   "metadata": {},
   "outputs": [
    {
     "data": {
      "text/plain": [
       "{'key1': 'viji', 'key2': [1, 2], 'key3': 45}"
      ]
     },
     "execution_count": 86,
     "metadata": {},
     "output_type": "execute_result"
    }
   ],
   "source": [
    "d"
   ]
  },
  {
   "cell_type": "code",
   "execution_count": 98,
   "id": "c0470efc",
   "metadata": {},
   "outputs": [],
   "source": [
    "del d['key1']"
   ]
  },
  {
   "cell_type": "code",
   "execution_count": 99,
   "id": "bddc04bc",
   "metadata": {},
   "outputs": [
    {
     "data": {
      "text/plain": [
       "{'key2': [1, 2]}"
      ]
     },
     "execution_count": 99,
     "metadata": {},
     "output_type": "execute_result"
    }
   ],
   "source": [
    "d"
   ]
  },
  {
   "cell_type": "code",
   "execution_count": 110,
   "id": "564031e7",
   "metadata": {},
   "outputs": [],
   "source": [
    "d1={'key1':'sudh','key2':[4,5,6,4]}"
   ]
  },
  {
   "cell_type": "code",
   "execution_count": 101,
   "id": "04701cb4",
   "metadata": {},
   "outputs": [
    {
     "data": {
      "text/plain": [
       "'sudh'"
      ]
     },
     "execution_count": 101,
     "metadata": {},
     "output_type": "execute_result"
    }
   ],
   "source": [
    "d1.pop('key1')"
   ]
  },
  {
   "cell_type": "code",
   "execution_count": 108,
   "id": "cb206c34",
   "metadata": {},
   "outputs": [
    {
     "data": {
      "text/plain": [
       "{}"
      ]
     },
     "execution_count": 108,
     "metadata": {},
     "output_type": "execute_result"
    }
   ],
   "source": [
    "d1"
   ]
  },
  {
   "cell_type": "code",
   "execution_count": 104,
   "id": "8100c92b",
   "metadata": {},
   "outputs": [
    {
     "data": {
      "text/plain": [
       "('key2', [4, 5, 6, 4])"
      ]
     },
     "execution_count": 104,
     "metadata": {},
     "output_type": "execute_result"
    }
   ],
   "source": [
    "d1.popitem()"
   ]
  },
  {
   "cell_type": "code",
   "execution_count": 105,
   "id": "1f65cd46",
   "metadata": {},
   "outputs": [
    {
     "data": {
      "text/plain": [
       "{'key1': 'sudh'}"
      ]
     },
     "execution_count": 105,
     "metadata": {},
     "output_type": "execute_result"
    }
   ],
   "source": [
    "d1"
   ]
  },
  {
   "cell_type": "code",
   "execution_count": 106,
   "id": "d31627b6",
   "metadata": {},
   "outputs": [
    {
     "data": {
      "text/plain": [
       "('key1', 'sudh')"
      ]
     },
     "execution_count": 106,
     "metadata": {},
     "output_type": "execute_result"
    }
   ],
   "source": [
    "d1.popitem()"
   ]
  },
  {
   "cell_type": "code",
   "execution_count": 107,
   "id": "e1a7c895",
   "metadata": {},
   "outputs": [
    {
     "data": {
      "text/plain": [
       "{}"
      ]
     },
     "execution_count": 107,
     "metadata": {},
     "output_type": "execute_result"
    }
   ],
   "source": [
    "d1"
   ]
  },
  {
   "cell_type": "code",
   "execution_count": 111,
   "id": "c9c976da",
   "metadata": {},
   "outputs": [
    {
     "data": {
      "text/plain": [
       "{'key1': 'sudh', 'key2': [4, 5, 6, 4]}"
      ]
     },
     "execution_count": 111,
     "metadata": {},
     "output_type": "execute_result"
    }
   ],
   "source": [
    "d1"
   ]
  },
  {
   "cell_type": "code",
   "execution_count": 112,
   "id": "4e8a4c7a",
   "metadata": {},
   "outputs": [],
   "source": [
    "d2={'key3':234,'key4':\"kumar\"}"
   ]
  },
  {
   "cell_type": "code",
   "execution_count": 113,
   "id": "0d4314d9",
   "metadata": {},
   "outputs": [],
   "source": [
    "d1.update(d2)"
   ]
  },
  {
   "cell_type": "code",
   "execution_count": 114,
   "id": "95c1686d",
   "metadata": {},
   "outputs": [
    {
     "data": {
      "text/plain": [
       "{'key1': 'sudh', 'key2': [4, 5, 6, 4], 'key3': 234, 'key4': 'kumar'}"
      ]
     },
     "execution_count": 114,
     "metadata": {},
     "output_type": "execute_result"
    }
   ],
   "source": [
    "d1"
   ]
  },
  {
   "cell_type": "code",
   "execution_count": 119,
   "id": "0e3bb8ff",
   "metadata": {},
   "outputs": [],
   "source": [
    "l=[2,4,5]\n",
    "l.extend([l])"
   ]
  },
  {
   "cell_type": "code",
   "execution_count": 120,
   "id": "0837925f",
   "metadata": {},
   "outputs": [
    {
     "data": {
      "text/plain": [
       "[2, 4, 5, [...]]"
      ]
     },
     "execution_count": 120,
     "metadata": {},
     "output_type": "execute_result"
    }
   ],
   "source": [
    "l"
   ]
  },
  {
   "cell_type": "code",
   "execution_count": 121,
   "id": "1c66e366",
   "metadata": {},
   "outputs": [
    {
     "data": {
      "text/plain": [
       "[2, 4, 5, [...]]"
      ]
     },
     "execution_count": 121,
     "metadata": {},
     "output_type": "execute_result"
    }
   ],
   "source": [
    "l[3]"
   ]
  },
  {
   "cell_type": "code",
   "execution_count": 118,
   "id": "12cdffe6",
   "metadata": {},
   "outputs": [
    {
     "data": {
      "text/plain": [
       "5"
      ]
     },
     "execution_count": 118,
     "metadata": {},
     "output_type": "execute_result"
    }
   ],
   "source": [
    "l[2]"
   ]
  },
  {
   "cell_type": "code",
   "execution_count": 157,
   "id": "48d4f6f1",
   "metadata": {},
   "outputs": [],
   "source": [
    "key=('name','mobile','email_id')\n",
    "value=[\"sudh\",'955412345',\"vijitnj45@gmail.com\"]\n",
    "zip_iter=zip(key,value)\n",
    "d=dict(zip_iter)"
   ]
  },
  {
   "cell_type": "code",
   "execution_count": 152,
   "id": "fba66881",
   "metadata": {},
   "outputs": [
    {
     "name": "stdout",
     "output_type": "stream",
     "text": [
      "sudh\n",
      "955412345\n",
      "vijitnj45@gmail.com\n"
     ]
    }
   ],
   "source": [
    "for j in value:\n",
    "    print(j)"
   ]
  },
  {
   "cell_type": "code",
   "execution_count": 148,
   "id": "34528515",
   "metadata": {},
   "outputs": [
    {
     "name": "stdout",
     "output_type": "stream",
     "text": [
      "0\n",
      "1\n",
      "2\n"
     ]
    }
   ],
   "source": [
    "for i in range(len(value)):\n",
    "    print(i)"
   ]
  },
  {
   "cell_type": "code",
   "execution_count": 158,
   "id": "92447f67",
   "metadata": {},
   "outputs": [
    {
     "data": {
      "text/plain": [
       "{'name': 'sudh', 'mobile': '955412345', 'email_id': 'vijitnj45@gmail.com'}"
      ]
     },
     "execution_count": 158,
     "metadata": {},
     "output_type": "execute_result"
    }
   ],
   "source": [
    "d"
   ]
  },
  {
   "cell_type": "code",
   "execution_count": 154,
   "id": "b0898835",
   "metadata": {},
   "outputs": [],
   "source": [
    "count=0\n",
    "for j in value:\n",
    "    value[count]\n",
    "    count=count+1"
   ]
  },
  {
   "cell_type": "code",
   "execution_count": 155,
   "id": "c3188eee",
   "metadata": {},
   "outputs": [
    {
     "name": "stdout",
     "output_type": "stream",
     "text": [
      "vijitnj45@gmail.com\n"
     ]
    }
   ],
   "source": [
    "print(j)"
   ]
  },
  {
   "cell_type": "code",
   "execution_count": 156,
   "id": "774ac2dc",
   "metadata": {},
   "outputs": [
    {
     "data": {
      "text/plain": [
       "3"
      ]
     },
     "execution_count": 156,
     "metadata": {},
     "output_type": "execute_result"
    }
   ],
   "source": [
    "count"
   ]
  },
  {
   "cell_type": "markdown",
   "id": "6e20d09a",
   "metadata": {},
   "source": [
    "# mapping"
   ]
  },
  {
   "cell_type": "code",
   "execution_count": 1,
   "id": "b6de2b62",
   "metadata": {},
   "outputs": [],
   "source": [
    "l = [1,2,3,4,5,6]\n"
   ]
  },
  {
   "cell_type": "code",
   "execution_count": 2,
   "id": "89a30223",
   "metadata": {},
   "outputs": [],
   "source": [
    "l1 = []\n",
    "for i in l:\n",
    "    l1.append(i+5)"
   ]
  },
  {
   "cell_type": "code",
   "execution_count": 3,
   "id": "22f1a20f",
   "metadata": {},
   "outputs": [
    {
     "data": {
      "text/plain": [
       "[6, 7, 8, 9, 10, 11]"
      ]
     },
     "execution_count": 3,
     "metadata": {},
     "output_type": "execute_result"
    }
   ],
   "source": [
    "l1"
   ]
  },
  {
   "cell_type": "code",
   "execution_count": 6,
   "id": "68b4db54",
   "metadata": {},
   "outputs": [],
   "source": [
    "def test(a):\n",
    "    return a+5"
   ]
  },
  {
   "cell_type": "code",
   "execution_count": 4,
   "id": "5f3976ab",
   "metadata": {},
   "outputs": [],
   "source": [
    "import math"
   ]
  },
  {
   "cell_type": "code",
   "execution_count": 5,
   "id": "869a3e8d",
   "metadata": {},
   "outputs": [
    {
     "data": {
      "text/plain": [
       "[1.0,\n",
       " 1.4142135623730951,\n",
       " 1.7320508075688772,\n",
       " 2.0,\n",
       " 2.23606797749979,\n",
       " 2.449489742783178]"
      ]
     },
     "execution_count": 5,
     "metadata": {},
     "output_type": "execute_result"
    }
   ],
   "source": [
    "[math.sqrt(i) for i in l]"
   ]
  },
  {
   "cell_type": "code",
   "execution_count": 10,
   "id": "d703b4c1",
   "metadata": {},
   "outputs": [
    {
     "data": {
      "text/plain": [
       "[6, 7, 8, 9, 10, 11]"
      ]
     },
     "execution_count": 10,
     "metadata": {},
     "output_type": "execute_result"
    }
   ],
   "source": [
    "list(map(test,l))"
   ]
  },
  {
   "cell_type": "code",
   "execution_count": 11,
   "id": "3a3a3945",
   "metadata": {},
   "outputs": [],
   "source": [
    "def test1(a):\n",
    "    return a*354+5"
   ]
  },
  {
   "cell_type": "code",
   "execution_count": 12,
   "id": "eba3d73c",
   "metadata": {},
   "outputs": [
    {
     "data": {
      "text/plain": [
       "[359, 713, 1067, 1421, 1775, 2129]"
      ]
     },
     "execution_count": 12,
     "metadata": {},
     "output_type": "execute_result"
    }
   ],
   "source": [
    "list(map(test1,l))"
   ]
  },
  {
   "cell_type": "code",
   "execution_count": 19,
   "id": "1ab2c037",
   "metadata": {},
   "outputs": [],
   "source": [
    "l1 = ['254','284','253']\n",
    "def test2(a):\n",
    "    return int(a)"
   ]
  },
  {
   "cell_type": "code",
   "execution_count": 20,
   "id": "adea4cda",
   "metadata": {},
   "outputs": [
    {
     "data": {
      "text/plain": [
       "[254, 284, 253]"
      ]
     },
     "execution_count": 20,
     "metadata": {},
     "output_type": "execute_result"
    }
   ],
   "source": [
    "list(map(test2,l1))"
   ]
  },
  {
   "cell_type": "code",
   "execution_count": 21,
   "id": "4bfa539a",
   "metadata": {},
   "outputs": [
    {
     "data": {
      "text/plain": [
       "[254, 284, 253]"
      ]
     },
     "execution_count": 21,
     "metadata": {},
     "output_type": "execute_result"
    }
   ],
   "source": [
    "list(map(lambda a:int(a),l1))"
   ]
  },
  {
   "cell_type": "code",
   "execution_count": 22,
   "id": "c4ba8a48",
   "metadata": {},
   "outputs": [
    {
     "data": {
      "text/plain": [
       "[6, 7, 8, 9, 10, 11]"
      ]
     },
     "execution_count": 22,
     "metadata": {},
     "output_type": "execute_result"
    }
   ],
   "source": [
    "list(map(lambda a : a+5,l))"
   ]
  },
  {
   "cell_type": "markdown",
   "id": "0727820e",
   "metadata": {},
   "source": [
    "# Filter"
   ]
  },
  {
   "cell_type": "code",
   "execution_count": 23,
   "id": "7c0d9bef",
   "metadata": {},
   "outputs": [],
   "source": [
    "l = [4,5,6,7,9,45]"
   ]
  },
  {
   "cell_type": "code",
   "execution_count": 33,
   "id": "53bf3634",
   "metadata": {},
   "outputs": [],
   "source": [
    "def test4(a):\n",
    "    if a%2 == 0:\n",
    "        return a"
   ]
  },
  {
   "cell_type": "code",
   "execution_count": null,
   "id": "b7016717",
   "metadata": {},
   "outputs": [],
   "source": [
    "\n"
   ]
  },
  {
   "cell_type": "code",
   "execution_count": 35,
   "id": "28bd45b1",
   "metadata": {},
   "outputs": [
    {
     "data": {
      "text/plain": [
       "[4, 6]"
      ]
     },
     "execution_count": 35,
     "metadata": {},
     "output_type": "execute_result"
    }
   ],
   "source": [
    "list(filter(test4,l))"
   ]
  },
  {
   "cell_type": "code",
   "execution_count": 36,
   "id": "151353fc",
   "metadata": {},
   "outputs": [
    {
     "data": {
      "text/plain": [
       "[4, 6]"
      ]
     },
     "execution_count": 36,
     "metadata": {},
     "output_type": "execute_result"
    }
   ],
   "source": [
    "list(filter(lambda x: x%2 ==0,l))"
   ]
  },
  {
   "cell_type": "markdown",
   "id": "bb585efb",
   "metadata": {},
   "source": [
    "# Reduse"
   ]
  },
  {
   "cell_type": "code",
   "execution_count": 38,
   "id": "5cfd5518",
   "metadata": {},
   "outputs": [],
   "source": [
    "from functools import reduce"
   ]
  },
  {
   "cell_type": "code",
   "execution_count": 53,
   "id": "2b38a044",
   "metadata": {},
   "outputs": [],
   "source": [
    "l = [3,4,5,6,7,3,8]\n"
   ]
  },
  {
   "cell_type": "code",
   "execution_count": 42,
   "id": "c9d38ac8",
   "metadata": {},
   "outputs": [
    {
     "data": {
      "text/plain": [
       "36"
      ]
     },
     "execution_count": 42,
     "metadata": {},
     "output_type": "execute_result"
    }
   ],
   "source": [
    "sum(l)"
   ]
  },
  {
   "cell_type": "code",
   "execution_count": 48,
   "id": "d94acf37",
   "metadata": {},
   "outputs": [],
   "source": [
    "def test5(a,b):\n",
    "    return a*b"
   ]
  },
  {
   "cell_type": "code",
   "execution_count": 49,
   "id": "ceacb3aa",
   "metadata": {},
   "outputs": [
    {
     "data": {
      "text/plain": [
       "60480"
      ]
     },
     "execution_count": 49,
     "metadata": {},
     "output_type": "execute_result"
    }
   ],
   "source": [
    "reduce(test5,l)"
   ]
  },
  {
   "cell_type": "code",
   "execution_count": 50,
   "id": "afda6fa9",
   "metadata": {},
   "outputs": [],
   "source": [
    "l = [3]"
   ]
  },
  {
   "cell_type": "code",
   "execution_count": 51,
   "id": "9679dac3",
   "metadata": {},
   "outputs": [
    {
     "data": {
      "text/plain": [
       "3"
      ]
     },
     "execution_count": 51,
     "metadata": {},
     "output_type": "execute_result"
    }
   ],
   "source": [
    "reduce(test5,l)"
   ]
  },
  {
   "cell_type": "code",
   "execution_count": 54,
   "id": "85a5f60c",
   "metadata": {},
   "outputs": [
    {
     "data": {
      "text/plain": [
       "60480"
      ]
     },
     "execution_count": 54,
     "metadata": {},
     "output_type": "execute_result"
    }
   ],
   "source": [
    "reduce(lambda x,y : x*y ,l)"
   ]
  },
  {
   "cell_type": "markdown",
   "id": "ccdfbdbc",
   "metadata": {},
   "source": [
    "# zip"
   ]
  },
  {
   "cell_type": "code",
   "execution_count": 55,
   "id": "d81f2b49",
   "metadata": {},
   "outputs": [],
   "source": [
    "l = [1,2,3,4,5]\n",
    "l1 = [4,5,6,7,8]"
   ]
  },
  {
   "cell_type": "code",
   "execution_count": 56,
   "id": "7eff7a06",
   "metadata": {},
   "outputs": [
    {
     "data": {
      "text/plain": [
       "[(1, 4), (2, 5), (3, 6), (4, 7), (5, 8)]"
      ]
     },
     "execution_count": 56,
     "metadata": {},
     "output_type": "execute_result"
    }
   ],
   "source": [
    "list(zip(l,l1))"
   ]
  },
  {
   "cell_type": "raw",
   "id": "5a352d0b",
   "metadata": {},
   "source": [
    "\"\"\"Task for today :\n",
    "  dataset -   https://archive.ics.uci.edu/ml/datasets/Bag+of+Words\n",
    "    \n",
    "    q1 = try to find out a count of each and every word in a respective file return a list of tuple with word and its respective count \n",
    "       sample example -  [('sudh', 6 ) , ('kumar',3)]\n",
    "    q2 = try to perform a reduce operation to get a count of all the word starting with same alphabet\n",
    "        sample examle = [(a,56) , (b,34),...........]\n",
    "    q3 = Try to filter out all the words from dataset . \n",
    "    \n",
    "    .001.abstract = abstract\n",
    "    =.002 = delete\n",
    "    q4 = create a tuple set of all the records avaialble in all the five file and then store it in sqllite DB . \n",
    "    (aah,>=,354,fdsf,wer)\n",
    "    \n",
    "    Top 10 will be able to get kids neuron \"\"\""
   ]
  },
  {
   "cell_type": "code",
   "execution_count": null,
   "id": "c9617713",
   "metadata": {},
   "outputs": [],
   "source": []
  }
 ],
 "metadata": {
  "kernelspec": {
   "display_name": "Python 3 (ipykernel)",
   "language": "python",
   "name": "python3"
  },
  "language_info": {
   "codemirror_mode": {
    "name": "ipython",
    "version": 3
   },
   "file_extension": ".py",
   "mimetype": "text/x-python",
   "name": "python",
   "nbconvert_exporter": "python",
   "pygments_lexer": "ipython3",
   "version": "3.9.7"
  }
 },
 "nbformat": 4,
 "nbformat_minor": 5
}
