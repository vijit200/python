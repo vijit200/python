{
 "cells": [
  {
   "cell_type": "code",
   "execution_count": 1,
   "id": "f1ecd331",
   "metadata": {},
   "outputs": [],
   "source": [
    "import sqlite3"
   ]
  },
  {
   "cell_type": "code",
   "execution_count": 2,
   "id": "95cbb556",
   "metadata": {},
   "outputs": [],
   "source": [
    "db = sqlite3.connect('ineuron.db')"
   ]
  },
  {
   "cell_type": "code",
   "execution_count": 8,
   "id": "fe4e0736",
   "metadata": {},
   "outputs": [
    {
     "name": "stdout",
     "output_type": "stream",
     "text": [
      " Volume in drive C has no label.\n",
      " Volume Serial Number is B48C-87E8\n",
      "\n",
      " Directory of C:\\Users\\vijit kumar\\Desktop\\i neuron full stack data science 2021\\python\\DATABASE\\SQL_Lite\n",
      "\n",
      "20-02-2022  10:39    <DIR>          .\n",
      "20-02-2022  10:14    <DIR>          ..\n",
      "20-02-2022  10:17    <DIR>          .ipynb_checkpoints\n",
      "20-02-2022  10:38             8,192 ineuron.db\n",
      "20-02-2022  10:39                 0 ineuron.db-journal\n",
      "20-02-2022  10:38             2,014 SQL_Lite.ipynb\n",
      "               3 File(s)         10,206 bytes\n",
      "               3 Dir(s)  111,699,755,008 bytes free\n"
     ]
    }
   ],
   "source": [
    "ls"
   ]
  },
  {
   "cell_type": "code",
   "execution_count": 5,
   "id": "ac2b8a90",
   "metadata": {},
   "outputs": [],
   "source": [
    "c = db.cursor()"
   ]
  },
  {
   "cell_type": "code",
   "execution_count": 6,
   "id": "2deade68",
   "metadata": {},
   "outputs": [
    {
     "data": {
      "text/plain": [
       "<sqlite3.Cursor at 0x25fd6d8a2d0>"
      ]
     },
     "execution_count": 6,
     "metadata": {},
     "output_type": "execute_result"
    }
   ],
   "source": [
    "c.execute('create table fsds(name text,batchid int,marks real)')"
   ]
  },
  {
   "cell_type": "code",
   "execution_count": 7,
   "id": "acd1656e",
   "metadata": {},
   "outputs": [
    {
     "data": {
      "text/plain": [
       "<sqlite3.Cursor at 0x25fd6d8a2d0>"
      ]
     },
     "execution_count": 7,
     "metadata": {},
     "output_type": "execute_result"
    }
   ],
   "source": [
    "c.execute('insert into fsds values(\"sudh\",3545,454.67)')"
   ]
  },
  {
   "cell_type": "code",
   "execution_count": 10,
   "id": "af5e5f93",
   "metadata": {},
   "outputs": [
    {
     "data": {
      "text/plain": [
       "<sqlite3.Cursor at 0x25fd6d8a2d0>"
      ]
     },
     "execution_count": 10,
     "metadata": {},
     "output_type": "execute_result"
    }
   ],
   "source": [
    "c.execute('insert into fsds values(\"sudh\",3545,454.67)')\n",
    "c.execute('insert into fsds values(\"sudh\",3545,454.67)')\n",
    "c.execute('insert into fsds values(\"sudh\",3545,454.67)')"
   ]
  },
  {
   "cell_type": "code",
   "execution_count": 11,
   "id": "c2552ca7",
   "metadata": {},
   "outputs": [
    {
     "data": {
      "text/plain": [
       "<sqlite3.Cursor at 0x25fd6d8a2d0>"
      ]
     },
     "execution_count": 11,
     "metadata": {},
     "output_type": "execute_result"
    }
   ],
   "source": [
    "c.execute('insert into fsds values(\"sudh\",3545,454.67)')\n",
    "c.execute('insert into fsds values(\"sudh\",3545,454.67)')\n",
    "c.execute('insert into fsds values(\"sudh\",3545,454.67)')\n",
    "c.execute('insert into fsds values(\"sudh\",3545,454.67)')\n",
    "c.execute('insert into fsds values(\"sudh\",3545,454.67)')"
   ]
  },
  {
   "cell_type": "code",
   "execution_count": 14,
   "id": "93c4e17c",
   "metadata": {},
   "outputs": [],
   "source": [
    "d =c.execute('select * from fsds')"
   ]
  },
  {
   "cell_type": "code",
   "execution_count": 15,
   "id": "cb73b65f",
   "metadata": {},
   "outputs": [
    {
     "name": "stdout",
     "output_type": "stream",
     "text": [
      "('sudh', 3545, 454.67)\n",
      "('sudh', 3545, 454.67)\n",
      "('sudh', 3545, 454.67)\n",
      "('sudh', 3545, 454.67)\n",
      "('sudh', 3545, 454.67)\n",
      "('sudh', 3545, 454.67)\n",
      "('sudh', 3545, 454.67)\n",
      "('sudh', 3545, 454.67)\n",
      "('sudh', 3545, 454.67)\n",
      "('sudh', 3545, 454.67)\n",
      "('sudh', 3545, 454.67)\n",
      "('sudh', 3545, 454.67)\n"
     ]
    }
   ],
   "source": [
    "for i in d:\n",
    "    print(i)"
   ]
  },
  {
   "cell_type": "code",
   "execution_count": 16,
   "id": "8be35ba6",
   "metadata": {},
   "outputs": [],
   "source": [
    "db.commit()"
   ]
  },
  {
   "cell_type": "code",
   "execution_count": 17,
   "id": "bfcb5a87",
   "metadata": {},
   "outputs": [],
   "source": [
    "db.close()"
   ]
  },
  {
   "cell_type": "code",
   "execution_count": 18,
   "id": "d5610cb4",
   "metadata": {},
   "outputs": [],
   "source": [
    "db = sqlite3.connect('ineuron.db')"
   ]
  },
  {
   "cell_type": "code",
   "execution_count": 19,
   "id": "db8c0615",
   "metadata": {},
   "outputs": [],
   "source": [
    "c = db.cursor()"
   ]
  },
  {
   "cell_type": "code",
   "execution_count": 21,
   "id": "a571916e",
   "metadata": {},
   "outputs": [],
   "source": [
    "data = c.execute('select * from fsds where marks >400')"
   ]
  },
  {
   "cell_type": "code",
   "execution_count": 22,
   "id": "beb4a81a",
   "metadata": {},
   "outputs": [
    {
     "name": "stdout",
     "output_type": "stream",
     "text": [
      "('sudh', 3545, 454.67)\n",
      "('sudh', 3545, 454.67)\n",
      "('sudh', 3545, 454.67)\n",
      "('sudh', 3545, 454.67)\n",
      "('sudh', 3545, 454.67)\n",
      "('sudh', 3545, 454.67)\n",
      "('sudh', 3545, 454.67)\n",
      "('sudh', 3545, 454.67)\n",
      "('sudh', 3545, 454.67)\n",
      "('sudh', 3545, 454.67)\n",
      "('sudh', 3545, 454.67)\n",
      "('sudh', 3545, 454.67)\n"
     ]
    }
   ],
   "source": [
    "for i in data:\n",
    "    print(i)"
   ]
  },
  {
   "cell_type": "code",
   "execution_count": 23,
   "id": "60bb6f2b",
   "metadata": {},
   "outputs": [],
   "source": [
    "d = c.execute('select * from fsds order by marks')"
   ]
  },
  {
   "cell_type": "code",
   "execution_count": 24,
   "id": "b48c98e0",
   "metadata": {},
   "outputs": [
    {
     "name": "stdout",
     "output_type": "stream",
     "text": [
      "('sudh', 3545, 454.67)\n",
      "('sudh', 3545, 454.67)\n",
      "('sudh', 3545, 454.67)\n",
      "('sudh', 3545, 454.67)\n",
      "('sudh', 3545, 454.67)\n",
      "('sudh', 3545, 454.67)\n",
      "('sudh', 3545, 454.67)\n",
      "('sudh', 3545, 454.67)\n",
      "('sudh', 3545, 454.67)\n",
      "('sudh', 3545, 454.67)\n",
      "('sudh', 3545, 454.67)\n",
      "('sudh', 3545, 454.67)\n"
     ]
    }
   ],
   "source": [
    "for i in d:\n",
    "    print(i)"
   ]
  },
  {
   "cell_type": "code",
   "execution_count": 25,
   "id": "5638c955",
   "metadata": {},
   "outputs": [],
   "source": [
    "db.close()"
   ]
  },
  {
   "cell_type": "code",
   "execution_count": 26,
   "id": "b056fab4",
   "metadata": {},
   "outputs": [],
   "source": [
    "db = sqlite3.connect('person.db')"
   ]
  },
  {
   "cell_type": "code",
   "execution_count": 27,
   "id": "d4db94b1",
   "metadata": {},
   "outputs": [],
   "source": [
    "c = db.cursor()"
   ]
  },
  {
   "cell_type": "code",
   "execution_count": 28,
   "id": "a3f81440",
   "metadata": {},
   "outputs": [
    {
     "data": {
      "text/plain": [
       "<sqlite3.Cursor at 0x25fd6e58ab0>"
      ]
     },
     "execution_count": 28,
     "metadata": {},
     "output_type": "execute_result"
    }
   ],
   "source": [
    "c.execute('create table person_table(name text , email text,id int,salary real )')"
   ]
  },
  {
   "cell_type": "code",
   "execution_count": 30,
   "id": "5f9ca241",
   "metadata": {},
   "outputs": [
    {
     "data": {
      "text/plain": [
       "<sqlite3.Cursor at 0x25fd6e58ab0>"
      ]
     },
     "execution_count": 30,
     "metadata": {},
     "output_type": "execute_result"
    }
   ],
   "source": [
    "c.execute('insert into person_table values(\"vijit\",\"vijitkumar1245@gmail.com\",2422,400000)')"
   ]
  },
  {
   "cell_type": "code",
   "execution_count": 31,
   "id": "8eac59fc",
   "metadata": {},
   "outputs": [
    {
     "name": "stdout",
     "output_type": "stream",
     "text": [
      "('vijit', 'vijitkumar1245@gmail.com', 2422, 400000.0)\n"
     ]
    }
   ],
   "source": [
    "for i in c.execute('select * from person_table'):\n",
    "    print(i)"
   ]
  },
  {
   "cell_type": "code",
   "execution_count": 32,
   "id": "b2fd365f",
   "metadata": {},
   "outputs": [],
   "source": [
    "db.commit()\n",
    "db.close()"
   ]
  },
  {
   "cell_type": "code",
   "execution_count": 44,
   "id": "3a8999bc",
   "metadata": {},
   "outputs": [],
   "source": [
    "db = sqlite3.connect('person.db')"
   ]
  },
  {
   "cell_type": "code",
   "execution_count": 45,
   "id": "85a93f7b",
   "metadata": {},
   "outputs": [],
   "source": [
    "c = db.cursor()"
   ]
  },
  {
   "cell_type": "code",
   "execution_count": 46,
   "id": "a3448723",
   "metadata": {},
   "outputs": [
    {
     "ename": "OperationalError",
     "evalue": "near \"db\": syntax error",
     "output_type": "error",
     "traceback": [
      "\u001b[1;31m---------------------------------------------------------------------------\u001b[0m",
      "\u001b[1;31mOperationalError\u001b[0m                          Traceback (most recent call last)",
      "\u001b[1;32mC:\\Users\\VIJITK~1\\AppData\\Local\\Temp/ipykernel_4040/1356381505.py\u001b[0m in \u001b[0;36m<module>\u001b[1;34m\u001b[0m\n\u001b[1;32m----> 1\u001b[1;33m \u001b[0mc\u001b[0m\u001b[1;33m.\u001b[0m\u001b[0mexecute\u001b[0m\u001b[1;33m(\u001b[0m\u001b[1;34m'drop db person'\u001b[0m\u001b[1;33m)\u001b[0m\u001b[1;33m\u001b[0m\u001b[1;33m\u001b[0m\u001b[0m\n\u001b[0m",
      "\u001b[1;31mOperationalError\u001b[0m: near \"db\": syntax error"
     ]
    }
   ],
   "source": [
    "c.execute('drop db person')"
   ]
  },
  {
   "cell_type": "code",
   "execution_count": 47,
   "id": "f943000c",
   "metadata": {},
   "outputs": [],
   "source": [
    "db.close()"
   ]
  },
  {
   "cell_type": "markdown",
   "id": "d2baadd9",
   "metadata": {},
   "source": [
    "# join op"
   ]
  },
  {
   "cell_type": "code",
   "execution_count": 48,
   "id": "16851e22",
   "metadata": {},
   "outputs": [],
   "source": [
    "db = sqlite3.connect('jodb.db')"
   ]
  },
  {
   "cell_type": "code",
   "execution_count": 49,
   "id": "6712fd55",
   "metadata": {},
   "outputs": [],
   "source": [
    "c = db.cursor()"
   ]
  },
  {
   "cell_type": "code",
   "execution_count": 42,
   "id": "8897dedf",
   "metadata": {},
   "outputs": [
    {
     "data": {
      "text/plain": [
       "<sqlite3.Cursor at 0x25fd7481dc0>"
      ]
     },
     "execution_count": 42,
     "metadata": {},
     "output_type": "execute_result"
    }
   ],
   "source": [
    "c.execute(\"create table student(student_id int,student_name text,student_mail text,marks int)\")"
   ]
  },
  {
   "cell_type": "code",
   "execution_count": 43,
   "id": "58b84ff7",
   "metadata": {},
   "outputs": [
    {
     "data": {
      "text/plain": [
       "<sqlite3.Cursor at 0x25fd7481dc0>"
      ]
     },
     "execution_count": 43,
     "metadata": {},
     "output_type": "execute_result"
    }
   ],
   "source": [
    "c.execute('create table address(student_id int,pincode text,location text,ph_no int)')"
   ]
  },
  {
   "cell_type": "code",
   "execution_count": 51,
   "id": "3570ceef",
   "metadata": {},
   "outputs": [
    {
     "data": {
      "text/plain": [
       "<sqlite3.Cursor at 0x25fd7483810>"
      ]
     },
     "execution_count": 51,
     "metadata": {},
     "output_type": "execute_result"
    }
   ],
   "source": [
    "c.execute('insert into student values(234,\"vijit\",\"viji55@gmail.com\",245)')\n",
    "c.execute('insert into student values(235,\"vijit\",\"viji55@gmail.com\",245)')\n",
    "c.execute('insert into student values(236,\"vijit\",\"viji55@gmail.com\",245)')\n",
    "c.execute('insert into student values(237,\"vijit\",\"viji55@gmail.com\",245)')\n",
    "c.execute('insert into student values(238,\"vijit\",\"viji55@gmail.com\",245)')\n",
    "c.execute('insert into student values(239,\"vijit\",\"viji55@gmail.com\",245)')\n",
    "c.execute('insert into student values(2310,\"vijit\",\"viji55@gmail.com\",245)')\n",
    "c.execute('insert into student values(2311,\"vijit\",\"viji55@gmail.com\",245)')\n",
    "c.execute('insert into student values(2312,\"vijit\",\"viji55@gmail.com\",245)')\n",
    "c.execute('insert into student values(2313,\"vijit\",\"viji55@gmail.com\",245)')\n",
    "c.execute('insert into student values(2314,\"vijit\",\"viji55@gmail.com\",245)')\n",
    "c.execute('insert into student values(2315,\"vijit\",\"viji55@gmail.com\",245)')"
   ]
  },
  {
   "cell_type": "code",
   "execution_count": 53,
   "id": "aabbbdf4",
   "metadata": {},
   "outputs": [
    {
     "data": {
      "text/plain": [
       "<sqlite3.Cursor at 0x25fd7483810>"
      ]
     },
     "execution_count": 53,
     "metadata": {},
     "output_type": "execute_result"
    }
   ],
   "source": [
    "c.execute(\"insert into address values(235,'53142','dbhn',245324534)\")"
   ]
  },
  {
   "cell_type": "code",
   "execution_count": 55,
   "id": "86c9faa9",
   "metadata": {},
   "outputs": [
    {
     "data": {
      "text/plain": [
       "<sqlite3.Cursor at 0x25fd7483810>"
      ]
     },
     "execution_count": 55,
     "metadata": {},
     "output_type": "execute_result"
    }
   ],
   "source": [
    "c.execute(\"insert into address values(236,'53142','dbhn',245324534)\")\n",
    "c.execute(\"insert into address values(237,'53142','dbhn',245324534)\")\n",
    "c.execute(\"insert into address values(238,'53142','dbhn',245324534)\")\n",
    "c.execute(\"insert into address values(239,'53142','dbhn',245324534)\")\n",
    "c.execute(\"insert into address values(2310,'53142','dbhn',245324534)\")\n",
    "c.execute(\"insert into address values(2311,'53142','dbhn',245324534)\")\n",
    "c.execute(\"insert into address values(2312,'53142','dbhn',245324534)\")\n",
    "c.execute(\"insert into address values(2313,'53142','dbhn',245324534)\")\n",
    "c.execute(\"insert into address values(2314,'53142','dbhn',245324534)\")\n",
    "c.execute(\"insert into address values(2315,'53142','dbhn',245324534)\")\n",
    "c.execute(\"insert into address values(2316,'53142','dbhn',245324534)\")\n",
    "c.execute(\"insert into address values(2317,'53142','dbhn',245324534)\")\n",
    "c.execute(\"insert into address values(2318,'53142','dbhn',245324534)\")\n",
    "c.execute(\"insert into address values(2319,'53142','dbhn',245324534)\")\n",
    "c.execute(\"insert into address values(2320,'53142','dbhn',245324534)\")\n",
    "c.execute(\"insert into address values(2321,'53142','dbhn',245324534)\")\n",
    "c.execute(\"insert into address values(2322,'53142','dbhn',245324534)\")\n",
    "c.execute(\"insert into address values(2323,'53142','dbhn',245324534)\")\n",
    "c.execute(\"insert into address values(2324,'53142','dbhn',245324534)\")\n",
    "c.execute(\"insert into address values(2325,'53142','dbhn',245324534)\")\n",
    "c.execute(\"insert into address values(2326,'53142','dbhn',245324534)\")"
   ]
  },
  {
   "cell_type": "code",
   "execution_count": 56,
   "id": "3e7fbd52",
   "metadata": {},
   "outputs": [],
   "source": [
    "d = c.execute('select * from address')"
   ]
  },
  {
   "cell_type": "code",
   "execution_count": 57,
   "id": "578c2e92",
   "metadata": {},
   "outputs": [
    {
     "name": "stdout",
     "output_type": "stream",
     "text": [
      "(235, '53142', 'dbhn', 245324534)\n",
      "(235, '53142', 'dbhn', 245324534)\n",
      "(236, '53142', 'dbhn', 245324534)\n",
      "(237, '53142', 'dbhn', 245324534)\n",
      "(238, '53142', 'dbhn', 245324534)\n",
      "(239, '53142', 'dbhn', 245324534)\n",
      "(2310, '53142', 'dbhn', 245324534)\n",
      "(2311, '53142', 'dbhn', 245324534)\n",
      "(2312, '53142', 'dbhn', 245324534)\n",
      "(2313, '53142', 'dbhn', 245324534)\n",
      "(2314, '53142', 'dbhn', 245324534)\n",
      "(2315, '53142', 'dbhn', 245324534)\n",
      "(2316, '53142', 'dbhn', 245324534)\n",
      "(2317, '53142', 'dbhn', 245324534)\n",
      "(2318, '53142', 'dbhn', 245324534)\n",
      "(2319, '53142', 'dbhn', 245324534)\n",
      "(2320, '53142', 'dbhn', 245324534)\n",
      "(2321, '53142', 'dbhn', 245324534)\n",
      "(2322, '53142', 'dbhn', 245324534)\n",
      "(2323, '53142', 'dbhn', 245324534)\n",
      "(2324, '53142', 'dbhn', 245324534)\n",
      "(2325, '53142', 'dbhn', 245324534)\n",
      "(2326, '53142', 'dbhn', 245324534)\n"
     ]
    }
   ],
   "source": [
    "for i in d :\n",
    "    print(i)"
   ]
  },
  {
   "cell_type": "code",
   "execution_count": 58,
   "id": "9bd67ee7",
   "metadata": {},
   "outputs": [
    {
     "name": "stdout",
     "output_type": "stream",
     "text": [
      "(234, 'vijit', 'viji55@gmail.com', 245)\n",
      "(234, 'vijit', 'viji55@gmail.com', 245)\n",
      "(234, 'vijit', 'viji55@gmail.com', 245)\n",
      "(234, 'vijit', 'viji55@gmail.com', 245)\n",
      "(234, 'vijit', 'viji55@gmail.com', 245)\n",
      "(234, 'vijit', 'viji55@gmail.com', 245)\n",
      "(234, 'vijit', 'viji55@gmail.com', 245)\n",
      "(234, 'vijit', 'viji55@gmail.com', 245)\n",
      "(234, 'vijit', 'viji55@gmail.com', 245)\n",
      "(234, 'vijit', 'viji55@gmail.com', 245)\n",
      "(234, 'vijit', 'viji55@gmail.com', 245)\n",
      "(234, 'vijit', 'viji55@gmail.com', 245)\n",
      "(234, 'vijit', 'viji55@gmail.com', 245)\n",
      "(235, 'vijit', 'viji55@gmail.com', 245)\n",
      "(236, 'vijit', 'viji55@gmail.com', 245)\n",
      "(237, 'vijit', 'viji55@gmail.com', 245)\n",
      "(238, 'vijit', 'viji55@gmail.com', 245)\n",
      "(239, 'vijit', 'viji55@gmail.com', 245)\n",
      "(2310, 'vijit', 'viji55@gmail.com', 245)\n",
      "(2311, 'vijit', 'viji55@gmail.com', 245)\n",
      "(2312, 'vijit', 'viji55@gmail.com', 245)\n",
      "(2313, 'vijit', 'viji55@gmail.com', 245)\n",
      "(2314, 'vijit', 'viji55@gmail.com', 245)\n",
      "(2315, 'vijit', 'viji55@gmail.com', 245)\n"
     ]
    }
   ],
   "source": [
    "for i in c.execute('select * from student'):\n",
    "    print(i)"
   ]
  },
  {
   "cell_type": "code",
   "execution_count": 59,
   "id": "a05c02cb",
   "metadata": {},
   "outputs": [],
   "source": [
    "d = c.execute('select * from student s left join address a on s.student_id = a.student_id')"
   ]
  },
  {
   "cell_type": "code",
   "execution_count": 60,
   "id": "eb90bc8b",
   "metadata": {},
   "outputs": [
    {
     "name": "stdout",
     "output_type": "stream",
     "text": [
      "(234, 'vijit', 'viji55@gmail.com', 245, None, None, None, None)\n",
      "(234, 'vijit', 'viji55@gmail.com', 245, None, None, None, None)\n",
      "(234, 'vijit', 'viji55@gmail.com', 245, None, None, None, None)\n",
      "(234, 'vijit', 'viji55@gmail.com', 245, None, None, None, None)\n",
      "(234, 'vijit', 'viji55@gmail.com', 245, None, None, None, None)\n",
      "(234, 'vijit', 'viji55@gmail.com', 245, None, None, None, None)\n",
      "(234, 'vijit', 'viji55@gmail.com', 245, None, None, None, None)\n",
      "(234, 'vijit', 'viji55@gmail.com', 245, None, None, None, None)\n",
      "(234, 'vijit', 'viji55@gmail.com', 245, None, None, None, None)\n",
      "(234, 'vijit', 'viji55@gmail.com', 245, None, None, None, None)\n",
      "(234, 'vijit', 'viji55@gmail.com', 245, None, None, None, None)\n",
      "(234, 'vijit', 'viji55@gmail.com', 245, None, None, None, None)\n",
      "(234, 'vijit', 'viji55@gmail.com', 245, None, None, None, None)\n",
      "(235, 'vijit', 'viji55@gmail.com', 245, 235, '53142', 'dbhn', 245324534)\n",
      "(235, 'vijit', 'viji55@gmail.com', 245, 235, '53142', 'dbhn', 245324534)\n",
      "(236, 'vijit', 'viji55@gmail.com', 245, 236, '53142', 'dbhn', 245324534)\n",
      "(237, 'vijit', 'viji55@gmail.com', 245, 237, '53142', 'dbhn', 245324534)\n",
      "(238, 'vijit', 'viji55@gmail.com', 245, 238, '53142', 'dbhn', 245324534)\n",
      "(239, 'vijit', 'viji55@gmail.com', 245, 239, '53142', 'dbhn', 245324534)\n",
      "(2310, 'vijit', 'viji55@gmail.com', 245, 2310, '53142', 'dbhn', 245324534)\n",
      "(2311, 'vijit', 'viji55@gmail.com', 245, 2311, '53142', 'dbhn', 245324534)\n",
      "(2312, 'vijit', 'viji55@gmail.com', 245, 2312, '53142', 'dbhn', 245324534)\n",
      "(2313, 'vijit', 'viji55@gmail.com', 245, 2313, '53142', 'dbhn', 245324534)\n",
      "(2314, 'vijit', 'viji55@gmail.com', 245, 2314, '53142', 'dbhn', 245324534)\n",
      "(2315, 'vijit', 'viji55@gmail.com', 245, 2315, '53142', 'dbhn', 245324534)\n"
     ]
    }
   ],
   "source": [
    "for i in d :\n",
    "    print(i)"
   ]
  },
  {
   "cell_type": "code",
   "execution_count": 61,
   "id": "59f46edd",
   "metadata": {},
   "outputs": [],
   "source": [
    "d = c.execute('select * from student s left join address a on s.student_id = a.student_id where a.student_id is not null')"
   ]
  },
  {
   "cell_type": "code",
   "execution_count": 62,
   "id": "9e65b7c4",
   "metadata": {},
   "outputs": [
    {
     "name": "stdout",
     "output_type": "stream",
     "text": [
      "(235, 'vijit', 'viji55@gmail.com', 245, 235, '53142', 'dbhn', 245324534)\n",
      "(235, 'vijit', 'viji55@gmail.com', 245, 235, '53142', 'dbhn', 245324534)\n",
      "(236, 'vijit', 'viji55@gmail.com', 245, 236, '53142', 'dbhn', 245324534)\n",
      "(237, 'vijit', 'viji55@gmail.com', 245, 237, '53142', 'dbhn', 245324534)\n",
      "(238, 'vijit', 'viji55@gmail.com', 245, 238, '53142', 'dbhn', 245324534)\n",
      "(239, 'vijit', 'viji55@gmail.com', 245, 239, '53142', 'dbhn', 245324534)\n",
      "(2310, 'vijit', 'viji55@gmail.com', 245, 2310, '53142', 'dbhn', 245324534)\n",
      "(2311, 'vijit', 'viji55@gmail.com', 245, 2311, '53142', 'dbhn', 245324534)\n",
      "(2312, 'vijit', 'viji55@gmail.com', 245, 2312, '53142', 'dbhn', 245324534)\n",
      "(2313, 'vijit', 'viji55@gmail.com', 245, 2313, '53142', 'dbhn', 245324534)\n",
      "(2314, 'vijit', 'viji55@gmail.com', 245, 2314, '53142', 'dbhn', 245324534)\n",
      "(2315, 'vijit', 'viji55@gmail.com', 245, 2315, '53142', 'dbhn', 245324534)\n"
     ]
    }
   ],
   "source": [
    "for i in d :\n",
    "    print(i)"
   ]
  },
  {
   "cell_type": "code",
   "execution_count": 63,
   "id": "28004555",
   "metadata": {},
   "outputs": [],
   "source": [
    "d = c.execute('select * from student s inner join address a on s.student_id = a.student_id')"
   ]
  },
  {
   "cell_type": "code",
   "execution_count": 64,
   "id": "95326fe0",
   "metadata": {},
   "outputs": [
    {
     "name": "stdout",
     "output_type": "stream",
     "text": [
      "(235, 'vijit', 'viji55@gmail.com', 245, 235, '53142', 'dbhn', 245324534)\n",
      "(235, 'vijit', 'viji55@gmail.com', 245, 235, '53142', 'dbhn', 245324534)\n",
      "(236, 'vijit', 'viji55@gmail.com', 245, 236, '53142', 'dbhn', 245324534)\n",
      "(237, 'vijit', 'viji55@gmail.com', 245, 237, '53142', 'dbhn', 245324534)\n",
      "(238, 'vijit', 'viji55@gmail.com', 245, 238, '53142', 'dbhn', 245324534)\n",
      "(239, 'vijit', 'viji55@gmail.com', 245, 239, '53142', 'dbhn', 245324534)\n",
      "(2310, 'vijit', 'viji55@gmail.com', 245, 2310, '53142', 'dbhn', 245324534)\n",
      "(2311, 'vijit', 'viji55@gmail.com', 245, 2311, '53142', 'dbhn', 245324534)\n",
      "(2312, 'vijit', 'viji55@gmail.com', 245, 2312, '53142', 'dbhn', 245324534)\n",
      "(2313, 'vijit', 'viji55@gmail.com', 245, 2313, '53142', 'dbhn', 245324534)\n",
      "(2314, 'vijit', 'viji55@gmail.com', 245, 2314, '53142', 'dbhn', 245324534)\n",
      "(2315, 'vijit', 'viji55@gmail.com', 245, 2315, '53142', 'dbhn', 245324534)\n"
     ]
    }
   ],
   "source": [
    "for i in d:\n",
    "    print(i)"
   ]
  },
  {
   "cell_type": "code",
   "execution_count": 65,
   "id": "6d92f40e",
   "metadata": {},
   "outputs": [],
   "source": [
    "d = c.execute('select * from address s left join student a on s.student_id = a.student_id')"
   ]
  },
  {
   "cell_type": "code",
   "execution_count": 66,
   "id": "8b186014",
   "metadata": {},
   "outputs": [
    {
     "name": "stdout",
     "output_type": "stream",
     "text": [
      "(235, '53142', 'dbhn', 245324534, 235, 'vijit', 'viji55@gmail.com', 245)\n",
      "(235, '53142', 'dbhn', 245324534, 235, 'vijit', 'viji55@gmail.com', 245)\n",
      "(236, '53142', 'dbhn', 245324534, 236, 'vijit', 'viji55@gmail.com', 245)\n",
      "(237, '53142', 'dbhn', 245324534, 237, 'vijit', 'viji55@gmail.com', 245)\n",
      "(238, '53142', 'dbhn', 245324534, 238, 'vijit', 'viji55@gmail.com', 245)\n",
      "(239, '53142', 'dbhn', 245324534, 239, 'vijit', 'viji55@gmail.com', 245)\n",
      "(2310, '53142', 'dbhn', 245324534, 2310, 'vijit', 'viji55@gmail.com', 245)\n",
      "(2311, '53142', 'dbhn', 245324534, 2311, 'vijit', 'viji55@gmail.com', 245)\n",
      "(2312, '53142', 'dbhn', 245324534, 2312, 'vijit', 'viji55@gmail.com', 245)\n",
      "(2313, '53142', 'dbhn', 245324534, 2313, 'vijit', 'viji55@gmail.com', 245)\n",
      "(2314, '53142', 'dbhn', 245324534, 2314, 'vijit', 'viji55@gmail.com', 245)\n",
      "(2315, '53142', 'dbhn', 245324534, 2315, 'vijit', 'viji55@gmail.com', 245)\n",
      "(2316, '53142', 'dbhn', 245324534, None, None, None, None)\n",
      "(2317, '53142', 'dbhn', 245324534, None, None, None, None)\n",
      "(2318, '53142', 'dbhn', 245324534, None, None, None, None)\n",
      "(2319, '53142', 'dbhn', 245324534, None, None, None, None)\n",
      "(2320, '53142', 'dbhn', 245324534, None, None, None, None)\n",
      "(2321, '53142', 'dbhn', 245324534, None, None, None, None)\n",
      "(2322, '53142', 'dbhn', 245324534, None, None, None, None)\n",
      "(2323, '53142', 'dbhn', 245324534, None, None, None, None)\n",
      "(2324, '53142', 'dbhn', 245324534, None, None, None, None)\n",
      "(2325, '53142', 'dbhn', 245324534, None, None, None, None)\n",
      "(2326, '53142', 'dbhn', 245324534, None, None, None, None)\n"
     ]
    }
   ],
   "source": [
    "for i in d:\n",
    "    print(i)"
   ]
  },
  {
   "cell_type": "code",
   "execution_count": 67,
   "id": "5a8656ea",
   "metadata": {},
   "outputs": [
    {
     "name": "stdout",
     "output_type": "stream",
     "text": [
      " Volume in drive C has no label.\n",
      " Volume Serial Number is B48C-87E8\n",
      "\n",
      " Directory of C:\\Users\\vijit kumar\\Desktop\\i neuron full stack data science 2021\\python\\DATABASE\\SQL_Lite\n",
      "\n",
      "20-02-2022  11:42    <DIR>          .\n",
      "20-02-2022  10:14    <DIR>          ..\n",
      "20-02-2022  10:17    <DIR>          .ipynb_checkpoints\n",
      "20-02-2022  10:43             8,192 ineuron.db\n",
      "20-02-2022  11:18            12,288 jodb.db\n",
      "20-02-2022  11:21                 0 jodb.db-journal\n",
      "20-02-2022  11:03                 0 person\n",
      "20-02-2022  11:03             8,192 person.db\n",
      "20-02-2022  11:42            26,743 SQL_Lite.ipynb\n",
      "               6 File(s)         55,415 bytes\n",
      "               3 Dir(s)  111,296,925,696 bytes free\n"
     ]
    }
   ],
   "source": [
    "ls"
   ]
  },
  {
   "cell_type": "code",
   "execution_count": 72,
   "id": "97bcdaec",
   "metadata": {},
   "outputs": [
    {
     "name": "stdout",
     "output_type": "stream",
     "text": [
      "(234, 'vijit', 'viji55@gmail.com', 245)\n",
      "(234, 'vijit', 'viji55@gmail.com', 245)\n",
      "(234, 'vijit', 'viji55@gmail.com', 245)\n",
      "(234, 'vijit', 'viji55@gmail.com', 245)\n",
      "(234, 'vijit', 'viji55@gmail.com', 245)\n",
      "(234, 'vijit', 'viji55@gmail.com', 245)\n",
      "(234, 'vijit', 'viji55@gmail.com', 245)\n",
      "(234, 'vijit', 'viji55@gmail.com', 245)\n",
      "(234, 'vijit', 'viji55@gmail.com', 245)\n",
      "(234, 'vijit', 'viji55@gmail.com', 245)\n",
      "(234, 'vijit', 'viji55@gmail.com', 245)\n",
      "(234, 'vijit', 'viji55@gmail.com', 245)\n",
      "(234, 'vijit', 'viji55@gmail.com', 245)\n",
      "(235, 'vijit', 'viji55@gmail.com', 245)\n",
      "(1000, 'vijit', 'viji55@gmail.com', 245)\n",
      "(237, 'vijit', 'viji55@gmail.com', 245)\n",
      "(238, 'vijit', 'viji55@gmail.com', 245)\n",
      "(239, 'vijit', 'viji55@gmail.com', 245)\n"
     ]
    }
   ],
   "source": [
    "for i in c.execute(\"select * from student\"):\n",
    "    print(i)"
   ]
  },
  {
   "cell_type": "code",
   "execution_count": 69,
   "id": "8e04da29",
   "metadata": {},
   "outputs": [
    {
     "data": {
      "text/plain": [
       "<sqlite3.Cursor at 0x25fd7483810>"
      ]
     },
     "execution_count": 69,
     "metadata": {},
     "output_type": "execute_result"
    }
   ],
   "source": [
    "c.execute('delete from  student where student_id >= 2000 ')"
   ]
  },
  {
   "cell_type": "code",
   "execution_count": 71,
   "id": "dce50376",
   "metadata": {},
   "outputs": [
    {
     "data": {
      "text/plain": [
       "<sqlite3.Cursor at 0x25fd7483810>"
      ]
     },
     "execution_count": 71,
     "metadata": {},
     "output_type": "execute_result"
    }
   ],
   "source": [
    "c.execute('update student set student_id = 1000 where student_id = 236 ')"
   ]
  },
  {
   "cell_type": "code",
   "execution_count": 75,
   "id": "cce6dcf1",
   "metadata": {},
   "outputs": [],
   "source": [
    "db.close()"
   ]
  },
  {
   "cell_type": "code",
   "execution_count": null,
   "id": "19f04104",
   "metadata": {},
   "outputs": [],
   "source": []
  },
  {
   "cell_type": "code",
   "execution_count": null,
   "id": "8e20307b",
   "metadata": {},
   "outputs": [],
   "source": []
  }
 ],
 "metadata": {
  "kernelspec": {
   "display_name": "Python 3 (ipykernel)",
   "language": "python",
   "name": "python3"
  },
  "language_info": {
   "codemirror_mode": {
    "name": "ipython",
    "version": 3
   },
   "file_extension": ".py",
   "mimetype": "text/x-python",
   "name": "python",
   "nbconvert_exporter": "python",
   "pygments_lexer": "ipython3",
   "version": "3.9.7"
  }
 },
 "nbformat": 4,
 "nbformat_minor": 5
}
