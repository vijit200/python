{
 "cells": [
  {
   "cell_type": "code",
   "execution_count": 1,
   "metadata": {},
   "outputs": [
    {
     "data": {
      "text/plain": [
       "'1 . you have to write a fun which will take string and return a len of \\nit without using a inbuilt fun len\\n2 . write a fun which will be able to print an index of all premitive element which you will pass \\n3 . Write a fun which will take input as a dict and give me out as a list of all the values \\neven in case of 2 level nesting it should work . \\n4 . write a fun which will take another function as an input and return me an output \\n5. write a function whihc will take multiple list as a input and give me concatnation of all the element as \\nand output \\n6 . write a function which will be able to take a list as an input return an index of each element \\nlike a inbuilt index function but even if we have repetative element it should return index \\n7 . Write a function which will whould return list of all the file name from a directory . \\n8  . write a function which will be able to show your system configuration . \\n9 . write a function which will be able to show date and time  . \\n10 . write a function whihc will be able to read a image file and show it to you .\\n11 . write a function which can read video file and play for you . \\n12  . write a function whihc can move a file from one directory to another directory . \\n13 . write a function which will be able to shutdonw your system . \\n14 . write a function whihc will be able to access your mail . \\n15 . write a func bywhcih i can send a mail to anyone \\n16. write a func to read a complete PDf file . \\n17. write a function to read a word file . \\n18 . write a function which can help you to filter only word file from a directory . \\n19 . write a function by which you can print an ip address of your system . \\n20 . write a function by whihc you will be able to append two PDF files . '"
      ]
     },
     "execution_count": 1,
     "metadata": {},
     "output_type": "execute_result"
    }
   ],
   "source": [
    "\"\"\"1 . you have to write a fun which will take string and return a len of \n",
    "it without using a inbuilt fun len\n",
    "2 . write a fun which will be able to print an index of all premitive element which you will pass \n",
    "3 . Write a fun which will take input as a dict and give me out as a list of all the values \n",
    "even in case of 2 level nesting it should work . \n",
    "4 . write a fun which will take another function as an input and return me an output \n",
    "5. write a function whihc will take multiple list as a input and give me concatnation of all the element as \n",
    "and output \n",
    "6 . write a function which will be able to take a list as an input return an index of each element \n",
    "like a inbuilt index function but even if we have repetative element it should return index \n",
    "7 . Write a function which will whould return list of all the file name from a directory . \n",
    "8  . write a function which will be able to show your system configuration . \n",
    "9 . write a function which will be able to show date and time  . \n",
    "10 . write a function whihc will be able to read a image file and show it to you .\n",
    "11 . write a function which can read video file and play for you . \n",
    "12  . write a function whihc can move a file from one directory to another directory . \n",
    "13 . write a function which will be able to shutdonw your system . \n",
    "14 . write a function whihc will be able to access your mail . \n",
    "15 . write a func bywhcih i can send a mail to anyone \n",
    "16. write a func to read a complete PDf file . \n",
    "17. write a function to read a word file . \n",
    "18 . write a function which can help you to filter only word file from a directory . \n",
    "19 . write a function by which you can print an ip address of your system . \n",
    "20 . write a function by whihc you will be able to append two PDF files . \"\"\""
   ]
  },
  {
   "cell_type": "code",
   "execution_count": 7,
   "metadata": {},
   "outputs": [],
   "source": [
    "#1\n",
    "def test12(n):\n",
    "    if type(n)==str:\n",
    "        counter =0\n",
    "        for i in n:\n",
    "            counter = counter +1\n",
    "        return counter\n",
    "    else:\n",
    "        return \"plzz input string as input\"\n",
    "#2\n",
    "def test13(n):\n",
    "    for i in range(len(n)):\n",
    "        print(i)\n",
    "#3\n",
    "def test14(n):\n",
    "    l1=[]\n",
    "    if type(n) == dict:\n",
    "        l1.append(n.values())\n",
    "    for i in n.values():\n",
    "        if type(i)==dict:\n",
    "            l1.append(i.values())\n",
    "        \n",
    "    return l1\n",
    "#4\n",
    "\n",
    "#5\n",
    "def test15(*args):\n",
    "        l2=[]\n",
    "        for i in args:\n",
    "            if type(i)==list:\n",
    "                for j in i :\n",
    "                    l2.append(j)\n",
    "        return l2\n",
    "#6\n",
    "def test16(n):\n",
    "    if type(n) == list:\n",
    "        for i in range(len(n)):\n",
    "            print(i,\"this is index of{}\".format(n[i]))\n",
    "    else:\n",
    "        print(\"plzz enter list data type\")\n",
    "        \n",
    "#7        \n",
    "\n",
    "def test17(n):\n",
    "    import os\n",
    "    \"\"\"enter directory path whose file you want to know\"\"\"\n",
    "    d = os.listdir(n)\n",
    "    return d\n",
    "\n",
    "#8\n",
    "\n",
    "def test18():\n",
    "    import platform\n",
    "    plt= platform.uname()\n",
    "    return plt\n",
    "#9\n",
    "    \n",
    "def test19():\n",
    "    import datetime\n",
    "    now=datetime.datetime.now()\n",
    "    print('this is time now')\n",
    "    print(now.strftime(\"%Y-%M-%D  %H:%M:%S\"))\n",
    "\n",
    "#10\n",
    "\n",
    "def test20(n):\n",
    "    from PIL import Image\n",
    "    \"\"\"enter the path of image\"\"\"\n",
    "    path=Image.open(r\"{}\".format(n))\n",
    "    return path.show()\n",
    "\n",
    "#11\n",
    "from moviepy.editor import *\n",
    "def test21(n):\n",
    "    clip = VideoFileClip(\"{}\".format(n)).subclip(10,50)\n",
    "    clip_s = clip.ipython_display(width = 280,maxduration=80)\n",
    "    return clip_s\n",
    "\n",
    "\n",
    "#12\n",
    "def test22(a,b):\n",
    "    import shutil\n",
    "    \"\"\"a = enter path of file you want to move, b = enter path of directory in which you want to move\"\"\" \n",
    "    source = '{}'.format(a)\n",
    "    destination = \"{}\".format(b)\n",
    "    dest= shutil.move(a,b)\n",
    "    return dest\n",
    "\n",
    "#13\n",
    "def test23():\n",
    "    \"\"\"input yes if you want to shutdown or no if not\"\"\"\n",
    "    n = input('Enter yes if you want to shutdown your pc else no --')\n",
    "    if n == \"no\":\n",
    "        print('nothing happen') \n",
    "    else :\n",
    "        os.system(\"shutdown /s /t  1\")\n",
    "\n",
    "#16\n",
    "import PyPDF2\n",
    "from PyPDF2 import *\n",
    "def test24():\n",
    "   \n",
    "    n = input('Enter the path of pdf -- ')\n",
    "    pdf = open(n,\"rb\")\n",
    "    pdf2 = PdfFileReader(pdf)\n",
    "    info = pdf2.getDocumentInfo()\n",
    "    page = pdf2.getNumPages()\n",
    "    text=''\n",
    "    for i in range(0,pdf2.numPages):\n",
    "    # creating a page object\n",
    "        pageObj = pdfReader.getPage(i)\n",
    "    # extracting text from page\n",
    "        text=text+pageObj.extractText()\n",
    "    print(text)\n",
    "    return info ,page\n",
    "\n",
    "#17\n",
    "def test25():\n",
    "    import docx\n",
    "    n = input('Enter the path of document -- ')\n",
    "    doc = docx.Document(n)\n",
    "    for i in doc.paragraphs:\n",
    "        print(i.text)\n",
    "#18\n",
    "def test26():\n",
    "    import os\n",
    "    import shutil\n",
    "    n =input(\"Enter the path -- \")\n",
    "    l = []\n",
    "    for i in os.listdir(n):\n",
    "        if i[:-5:-1] == \"xcod\":\n",
    "            l.append(i)\n",
    "    return l\n",
    "#19\n",
    "def test27():\n",
    "    import socket\n",
    "    host = socket.gethostname()\n",
    "    ip = socket.gethostbyname(host)\n",
    "    return host , ip \n",
    "#20 \n",
    "def test28(*args):\n",
    "    \"\"\"enter all the path of pdf file u want to merge\"\"\"\n",
    "    from PyPDF2 import PdfFileReader\n",
    "    import PyPDF2\n",
    "    mergeFile2 = PyPDF2.PdfFileMerger()\n",
    "    for i in args:\n",
    "        mergeFile2.append(PyPDF2.PdfFileReader(i , 'rb'))\n",
    "        mergeFile2.write(\"NewMergedFile2.pdf\")"
   ]
  },
  {
   "cell_type": "code",
   "execution_count": 3,
   "metadata": {},
   "outputs": [
    {
     "data": {
      "text/plain": [
       "[dict_values([4, 6, 5, {'t': 7, 'y': 8}]), dict_values([7, 8])]"
      ]
     },
     "execution_count": 3,
     "metadata": {},
     "output_type": "execute_result"
    }
   ],
   "source": [
    "test14({\"as\":4,\"b\":6,\"c\":5,\"d\":{\"t\":7,\"y\":8}})"
   ]
  },
  {
   "cell_type": "code",
   "execution_count": 2,
   "metadata": {},
   "outputs": [
    {
     "name": "stdout",
     "output_type": "stream",
     "text": [
      "Collecting PyPDF2\n",
      "  Using cached PyPDF2-1.26.0.tar.gz (77 kB)\n",
      "Building wheels for collected packages: PyPDF2\n",
      "  Building wheel for PyPDF2 (setup.py): started\n",
      "  Building wheel for PyPDF2 (setup.py): finished with status 'done'\n",
      "  Created wheel for PyPDF2: filename=PyPDF2-1.26.0-py3-none-any.whl size=61101 sha256=a28f9a484dc2aacefba4a44cdd00bea6bf2edfc2dc5e162ec611be34bb71dabb\n",
      "  Stored in directory: c:\\users\\vijit kumar\\appdata\\local\\pip\\cache\\wheels\\d9\\dc\\ec\\72da68331f30074b9950c1737c23cb8a67484e61498bc9713d\n",
      "Successfully built PyPDF2\n",
      "Installing collected packages: PyPDF2\n",
      "Successfully installed PyPDF2-1.26.0\n"
     ]
    }
   ],
   "source": [
    "!pip install PyPDF2"
   ]
  },
  {
   "cell_type": "code",
   "execution_count": 9,
   "metadata": {},
   "outputs": [],
   "source": [
    "test28('C:\\\\Users\\\\vijit kumar\\\\OneDrive\\\\Desktop\\\\aakroti adhar.pdf',\n",
    " 'C:\\\\Users\\\\vijit kumar\\\\OneDrive\\\\Desktop\\\\info techno unit test.pdf')"
   ]
  },
  {
   "cell_type": "code",
   "execution_count": null,
   "metadata": {},
   "outputs": [],
   "source": []
  }
 ],
 "metadata": {
  "kernelspec": {
   "display_name": "Python 3 (ipykernel)",
   "language": "python",
   "name": "python3"
  },
  "language_info": {
   "codemirror_mode": {
    "name": "ipython",
    "version": 3
   },
   "file_extension": ".py",
   "mimetype": "text/x-python",
   "name": "python",
   "nbconvert_exporter": "python",
   "pygments_lexer": "ipython3",
   "version": "3.9.7"
  }
 },
 "nbformat": 4,
 "nbformat_minor": 4
}
