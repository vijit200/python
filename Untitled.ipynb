{
 "cells": [
  {
   "cell_type": "code",
   "execution_count": 2,
   "id": "ab20c228",
   "metadata": {},
   "outputs": [],
   "source": [
    "import dicto"
   ]
  },
  {
   "cell_type": "code",
   "execution_count": 4,
   "id": "c1079307",
   "metadata": {},
   "outputs": [],
   "source": [
    "s = dicto.dict_parsing({\"vijit\":\"kumar\" , \"monika\" : \"kumar\"})"
   ]
  },
  {
   "cell_type": "code",
   "execution_count": 5,
   "id": "73e7a9f2",
   "metadata": {},
   "outputs": [
    {
     "data": {
      "text/plain": [
       "['kumar', 'kumar']"
      ]
     },
     "execution_count": 5,
     "metadata": {},
     "output_type": "execute_result"
    }
   ],
   "source": [
    "s.dic_values()"
   ]
  },
  {
   "cell_type": "code",
   "execution_count": 6,
   "id": "adb70269",
   "metadata": {},
   "outputs": [
    {
     "data": {
      "text/plain": [
       "['vijit', 'monika']"
      ]
     },
     "execution_count": 6,
     "metadata": {},
     "output_type": "execute_result"
    }
   ],
   "source": [
    "s.dic_keys()"
   ]
  },
  {
   "cell_type": "code",
   "execution_count": 1,
   "id": "a3747bbb",
   "metadata": {},
   "outputs": [
    {
     "name": "stdout",
     "output_type": "stream",
     "text": [
      "Collecting kivy\n",
      "  Downloading Kivy-2.0.0-cp39-cp39-win_amd64.whl (4.1 MB)\n",
      "Collecting kivy-deps.angle~=0.3.0\n",
      "  Downloading kivy_deps.angle-0.3.1-cp39-cp39-win_amd64.whl (4.8 MB)\n",
      "Collecting kivy-deps.sdl2~=0.3.1\n",
      "  Downloading kivy_deps.sdl2-0.3.1-cp39-cp39-win_amd64.whl (2.5 MB)\n",
      "Requirement already satisfied: docutils in c:\\users\\vijit kumar\\.conda\\lib\\site-packages (from kivy) (0.17.1)\n",
      "Collecting Kivy-Garden>=0.1.4\n",
      "  Downloading kivy-garden-0.1.4.tar.gz (6.8 kB)\n",
      "Collecting pypiwin32\n",
      "  Downloading pypiwin32-223-py3-none-any.whl (1.7 kB)\n",
      "Requirement already satisfied: pygments in c:\\users\\vijit kumar\\.conda\\lib\\site-packages (from kivy) (2.10.0)\n",
      "Collecting kivy-deps.glew~=0.3.0\n",
      "  Downloading kivy_deps.glew-0.3.0-cp39-cp39-win_amd64.whl (123 kB)\n",
      "Requirement already satisfied: requests in c:\\users\\vijit kumar\\.conda\\lib\\site-packages (from Kivy-Garden>=0.1.4->kivy) (2.26.0)\n",
      "Requirement already satisfied: pywin32>=223 in c:\\users\\vijit kumar\\.conda\\lib\\site-packages (from pypiwin32->kivy) (228)\n",
      "Requirement already satisfied: urllib3<1.27,>=1.21.1 in c:\\users\\vijit kumar\\.conda\\lib\\site-packages (from requests->Kivy-Garden>=0.1.4->kivy) (1.26.7)\n",
      "Requirement already satisfied: idna<4,>=2.5 in c:\\users\\vijit kumar\\.conda\\lib\\site-packages (from requests->Kivy-Garden>=0.1.4->kivy) (3.2)\n",
      "Requirement already satisfied: charset-normalizer~=2.0.0 in c:\\users\\vijit kumar\\.conda\\lib\\site-packages (from requests->Kivy-Garden>=0.1.4->kivy) (2.0.4)\n",
      "Requirement already satisfied: certifi>=2017.4.17 in c:\\users\\vijit kumar\\.conda\\lib\\site-packages (from requests->Kivy-Garden>=0.1.4->kivy) (2021.10.8)\n",
      "Building wheels for collected packages: Kivy-Garden\n",
      "  Building wheel for Kivy-Garden (setup.py): started\n",
      "  Building wheel for Kivy-Garden (setup.py): finished with status 'done'\n",
      "  Created wheel for Kivy-Garden: filename=Kivy_Garden-0.1.4-py3-none-any.whl size=4531 sha256=4c47a682f6fab30e17dd3e2058c4912d518bd7ad6d97779de3d44fac106a995a\n",
      "  Stored in directory: c:\\users\\vijit kumar\\appdata\\local\\pip\\cache\\wheels\\19\\1b\\96\\2e2906a93ec4b5d3463b0b803112feab5511a2c37dc07faed3\n",
      "Successfully built Kivy-Garden\n",
      "Installing collected packages: pypiwin32, Kivy-Garden, kivy-deps.sdl2, kivy-deps.glew, kivy-deps.angle, kivy\n",
      "Successfully installed Kivy-Garden-0.1.4 kivy-2.0.0 kivy-deps.angle-0.3.1 kivy-deps.glew-0.3.0 kivy-deps.sdl2-0.3.1 pypiwin32-223\n"
     ]
    }
   ],
   "source": [
    "!pip install kivy"
   ]
  },
  {
   "cell_type": "code",
   "execution_count": 1,
   "id": "f582832c",
   "metadata": {},
   "outputs": [],
   "source": [
    "import os\n",
    "import PyPDF2\n",
    "from PyPDF2 import PdfFileMerger\n",
    "def concat_pdf(x):\n",
    "    l = []\n",
    "    merger = PdfFileMerger()\n",
    "    for i in os.listdir(x):\n",
    "        if i.endswith (\"pdf\"):\n",
    "            merger.append(x + \"//\" +i)\n",
    "    merger.write(\"conatPDF.pdf\")\n",
    "    merger.close()\n",
    "            \n",
    "        "
   ]
  },
  {
   "cell_type": "code",
   "execution_count": 2,
   "id": "a79db676",
   "metadata": {},
   "outputs": [],
   "source": [
    "concat_pdf(\"C:\\\\Users\\\\vijit kumar\\\\OneDrive\\\\Desktop\")"
   ]
  },
  {
   "cell_type": "code",
   "execution_count": 2,
   "id": "a6a15d03",
   "metadata": {},
   "outputs": [
    {
     "name": "stderr",
     "output_type": "stream",
     "text": [
      "[INFO   ] [Logger      ] Record log in C:\\Users\\vijit kumar\\.kivy\\logs\\kivy_22-01-27_37.txt\n",
      "[INFO   ] [deps        ] Successfully imported \"kivy_deps.gstreamer\" 0.3.3\n",
      "[INFO   ] [deps        ] Successfully imported \"kivy_deps.angle\" 0.3.1\n",
      "[INFO   ] [deps        ] Successfully imported \"kivy_deps.glew\" 0.3.0\n",
      "[INFO   ] [deps        ] Successfully imported \"kivy_deps.sdl2\" 0.3.1\n",
      "[INFO   ] [Kivy        ] v2.0.0\n",
      "[INFO   ] [Kivy        ] Installed at \"C:\\Users\\vijit kumar\\anaconda3\\envs\\App\\lib\\site-packages\\kivy\\__init__.py\"\n",
      "[INFO   ] [Python      ] v3.9.7 (default, Sep 16 2021, 16:59:28) [MSC v.1916 64 bit (AMD64)]\n",
      "[INFO   ] [Python      ] Interpreter at \"C:\\Users\\vijit kumar\\anaconda3\\envs\\App\\python.exe\"\n",
      "[INFO   ] [Factory     ] 186 symbols loaded\n",
      "[INFO   ] [Image       ] Providers: img_tex, img_dds, img_sdl2 (img_pil, img_ffpyplayer ignored)\n",
      "[INFO   ] [Text        ] Provider: sdl2\n",
      "[INFO   ] [Window      ] Provider: sdl2\n",
      "[INFO   ] [GL          ] Using the \"OpenGL\" graphics system\n",
      "[INFO   ] [GL          ] GLEW initialization succeeded\n",
      "[INFO   ] [GL          ] Backend used <glew>\n",
      "[INFO   ] [GL          ] OpenGL version <b'4.6.0 - Build 30.0.101.1157'>\n",
      "[INFO   ] [GL          ] OpenGL vendor <b'Intel'>\n",
      "[INFO   ] [GL          ] OpenGL renderer <b'Intel(R) UHD Graphics 630'>\n",
      "[INFO   ] [GL          ] OpenGL parsed version: 4, 6\n",
      "[INFO   ] [GL          ] Shading version <b'4.60 - Build 30.0.101.1157'>\n",
      "[INFO   ] [GL          ] Texture max size <16384>\n",
      "[INFO   ] [GL          ] Texture max units <32>\n",
      "[INFO   ] [Window      ] auto add sdl2 input provider\n",
      "[INFO   ] [Window      ] virtual keyboard not allowed, single mode, not docked\n",
      "[CRITICAL] App.root must be an _instance_ of Widget\n"
     ]
    },
    {
     "ename": "Exception",
     "evalue": "Invalid instance in App.root",
     "output_type": "error",
     "traceback": [
      "\u001b[1;31m---------------------------------------------------------------------------\u001b[0m",
      "\u001b[1;31mException\u001b[0m                                 Traceback (most recent call last)",
      "\u001b[1;32mC:\\Users\\VIJITK~1\\AppData\\Local\\Temp/ipykernel_9016/4111260140.py\u001b[0m in \u001b[0;36m<module>\u001b[1;34m\u001b[0m\n\u001b[0;32m     18\u001b[0m \u001b[1;33m\u001b[0m\u001b[0m\n\u001b[0;32m     19\u001b[0m \u001b[1;32mif\u001b[0m \u001b[0m__name__\u001b[0m \u001b[1;33m==\u001b[0m \u001b[1;34m\"__main__\"\u001b[0m\u001b[1;33m:\u001b[0m\u001b[1;33m\u001b[0m\u001b[1;33m\u001b[0m\u001b[0m\n\u001b[1;32m---> 20\u001b[1;33m     \u001b[0mMyApp\u001b[0m\u001b[1;33m(\u001b[0m\u001b[1;33m)\u001b[0m\u001b[1;33m.\u001b[0m\u001b[0mrun\u001b[0m\u001b[1;33m(\u001b[0m\u001b[1;33m)\u001b[0m\u001b[1;33m\u001b[0m\u001b[1;33m\u001b[0m\u001b[0m\n\u001b[0m",
      "\u001b[1;32m~\\anaconda3\\envs\\App\\lib\\site-packages\\kivy\\app.py\u001b[0m in \u001b[0;36mrun\u001b[1;34m(self)\u001b[0m\n\u001b[0;32m    947\u001b[0m         '''Launches the app in standalone mode.\n\u001b[0;32m    948\u001b[0m         '''\n\u001b[1;32m--> 949\u001b[1;33m         \u001b[0mself\u001b[0m\u001b[1;33m.\u001b[0m\u001b[0m_run_prepare\u001b[0m\u001b[1;33m(\u001b[0m\u001b[1;33m)\u001b[0m\u001b[1;33m\u001b[0m\u001b[1;33m\u001b[0m\u001b[0m\n\u001b[0m\u001b[0;32m    950\u001b[0m         \u001b[0mrunTouchApp\u001b[0m\u001b[1;33m(\u001b[0m\u001b[1;33m)\u001b[0m\u001b[1;33m\u001b[0m\u001b[1;33m\u001b[0m\u001b[0m\n\u001b[0;32m    951\u001b[0m         \u001b[0mself\u001b[0m\u001b[1;33m.\u001b[0m\u001b[0mstop\u001b[0m\u001b[1;33m(\u001b[0m\u001b[1;33m)\u001b[0m\u001b[1;33m\u001b[0m\u001b[1;33m\u001b[0m\u001b[0m\n",
      "\u001b[1;32m~\\anaconda3\\envs\\App\\lib\\site-packages\\kivy\\app.py\u001b[0m in \u001b[0;36m_run_prepare\u001b[1;34m(self)\u001b[0m\n\u001b[0;32m    923\u001b[0m             \u001b[1;32mif\u001b[0m \u001b[1;32mnot\u001b[0m \u001b[0misinstance\u001b[0m\u001b[1;33m(\u001b[0m\u001b[0mself\u001b[0m\u001b[1;33m.\u001b[0m\u001b[0mroot\u001b[0m\u001b[1;33m,\u001b[0m \u001b[0mWidget\u001b[0m\u001b[1;33m)\u001b[0m\u001b[1;33m:\u001b[0m\u001b[1;33m\u001b[0m\u001b[1;33m\u001b[0m\u001b[0m\n\u001b[0;32m    924\u001b[0m                 \u001b[0mLogger\u001b[0m\u001b[1;33m.\u001b[0m\u001b[0mcritical\u001b[0m\u001b[1;33m(\u001b[0m\u001b[1;34m'App.root must be an _instance_ of Widget'\u001b[0m\u001b[1;33m)\u001b[0m\u001b[1;33m\u001b[0m\u001b[1;33m\u001b[0m\u001b[0m\n\u001b[1;32m--> 925\u001b[1;33m                 \u001b[1;32mraise\u001b[0m \u001b[0mException\u001b[0m\u001b[1;33m(\u001b[0m\u001b[1;34m'Invalid instance in App.root'\u001b[0m\u001b[1;33m)\u001b[0m\u001b[1;33m\u001b[0m\u001b[1;33m\u001b[0m\u001b[0m\n\u001b[0m\u001b[0;32m    926\u001b[0m             \u001b[1;32mfrom\u001b[0m \u001b[0mkivy\u001b[0m\u001b[1;33m.\u001b[0m\u001b[0mcore\u001b[0m\u001b[1;33m.\u001b[0m\u001b[0mwindow\u001b[0m \u001b[1;32mimport\u001b[0m \u001b[0mWindow\u001b[0m\u001b[1;33m\u001b[0m\u001b[1;33m\u001b[0m\u001b[0m\n\u001b[0;32m    927\u001b[0m             \u001b[0mWindow\u001b[0m\u001b[1;33m.\u001b[0m\u001b[0madd_widget\u001b[0m\u001b[1;33m(\u001b[0m\u001b[0mself\u001b[0m\u001b[1;33m.\u001b[0m\u001b[0mroot\u001b[0m\u001b[1;33m)\u001b[0m\u001b[1;33m\u001b[0m\u001b[1;33m\u001b[0m\u001b[0m\n",
      "\u001b[1;31mException\u001b[0m: Invalid instance in App.root"
     ]
    }
   ],
   "source": [
    "import kivy\n",
    "from kivy.app import App\n",
    "from kivy.uix.label import Label\n",
    "from kivy.uix.gridlayout import GridLayout\n",
    "from kivy.uix.textinput import TextInput\n",
    "from kivy.uix.button import Button\n",
    "\n",
    "class MyGrid_layout(GridLayout):\n",
    "    def __init__(self, **kwargs):\n",
    "        super(MyGrid_layout,self).__init__(**kwargs)\n",
    "        \n",
    "        self.col = 1\n",
    "        self.link = TextInput(multiline = False)\n",
    "        self.add_widget(self.link)\n",
    "class MyApp(App):\n",
    "    def build(self):\n",
    "        return MyGrid_layout\n",
    "    \n",
    "if __name__ == \"__main__\":\n",
    "    MyApp().run()"
   ]
  },
  {
   "cell_type": "code",
   "execution_count": 1,
   "id": "40bf9273",
   "metadata": {},
   "outputs": [
    {
     "name": "stderr",
     "output_type": "stream",
     "text": [
      "ERROR: Could not find a version that satisfies the requirement kivygui (from versions: none)\n",
      "ERROR: No matching distribution found for kivygui\n"
     ]
    }
   ],
   "source": [
    "!pip install kivygui"
   ]
  },
  {
   "cell_type": "code",
   "execution_count": 1,
   "id": "77d15696",
   "metadata": {},
   "outputs": [
    {
     "name": "stderr",
     "output_type": "stream",
     "text": [
      "ERROR: Could not find a version that satisfies the requirement kivy.app (from versions: none)\n",
      "ERROR: No matching distribution found for kivy.app\n"
     ]
    }
   ],
   "source": [
    "!pip install kivy.app"
   ]
  },
  {
   "cell_type": "code",
   "execution_count": null,
   "id": "324948b3",
   "metadata": {},
   "outputs": [],
   "source": []
  }
 ],
 "metadata": {
  "kernelspec": {
   "display_name": "Python 3 (ipykernel)",
   "language": "python",
   "name": "python3"
  },
  "language_info": {
   "codemirror_mode": {
    "name": "ipython",
    "version": 3
   },
   "file_extension": ".py",
   "mimetype": "text/x-python",
   "name": "python",
   "nbconvert_exporter": "python",
   "pygments_lexer": "ipython3",
   "version": "3.9.7"
  }
 },
 "nbformat": 4,
 "nbformat_minor": 5
}
