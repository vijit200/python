{
 "cells": [
  {
   "cell_type": "markdown",
   "id": "65f2c195",
   "metadata": {},
   "source": [
    "# Import lib"
   ]
  },
  {
   "cell_type": "code",
   "execution_count": 1,
   "id": "ed1c0c92",
   "metadata": {},
   "outputs": [],
   "source": [
    "import csv\n",
    "import pandas as pd\n",
    "import mysql.connector as conn\n",
    "from mysql.connector import Error"
   ]
  },
  {
   "cell_type": "markdown",
   "id": "618d1aec",
   "metadata": {},
   "source": [
    "# Converting CSV  into  DataFrame"
   ]
  },
  {
   "cell_type": "code",
   "execution_count": 10,
   "id": "b066085b",
   "metadata": {},
   "outputs": [
    {
     "data": {
      "text/html": [
       "<div>\n",
       "<style scoped>\n",
       "    .dataframe tbody tr th:only-of-type {\n",
       "        vertical-align: middle;\n",
       "    }\n",
       "\n",
       "    .dataframe tbody tr th {\n",
       "        vertical-align: top;\n",
       "    }\n",
       "\n",
       "    .dataframe thead th {\n",
       "        text-align: right;\n",
       "    }\n",
       "</style>\n",
       "<table border=\"1\" class=\"dataframe\">\n",
       "  <thead>\n",
       "    <tr style=\"text-align: right;\">\n",
       "      <th></th>\n",
       "      <th>anchor_ratio</th>\n",
       "      <th>trans_range</th>\n",
       "      <th>node_density</th>\n",
       "      <th>iterations</th>\n",
       "      <th>ale</th>\n",
       "      <th>sd_ale</th>\n",
       "    </tr>\n",
       "  </thead>\n",
       "  <tbody>\n",
       "    <tr>\n",
       "      <th>0</th>\n",
       "      <td>30</td>\n",
       "      <td>15</td>\n",
       "      <td>200</td>\n",
       "      <td>40</td>\n",
       "      <td>0.773546</td>\n",
       "      <td>0.250555</td>\n",
       "    </tr>\n",
       "    <tr>\n",
       "      <th>1</th>\n",
       "      <td>15</td>\n",
       "      <td>15</td>\n",
       "      <td>100</td>\n",
       "      <td>70</td>\n",
       "      <td>0.911941</td>\n",
       "      <td>0.498329</td>\n",
       "    </tr>\n",
       "    <tr>\n",
       "      <th>2</th>\n",
       "      <td>30</td>\n",
       "      <td>15</td>\n",
       "      <td>100</td>\n",
       "      <td>50</td>\n",
       "      <td>0.814867</td>\n",
       "      <td>0.255546</td>\n",
       "    </tr>\n",
       "    <tr>\n",
       "      <th>3</th>\n",
       "      <td>15</td>\n",
       "      <td>20</td>\n",
       "      <td>100</td>\n",
       "      <td>20</td>\n",
       "      <td>1.435332</td>\n",
       "      <td>0.394603</td>\n",
       "    </tr>\n",
       "    <tr>\n",
       "      <th>4</th>\n",
       "      <td>30</td>\n",
       "      <td>15</td>\n",
       "      <td>100</td>\n",
       "      <td>40</td>\n",
       "      <td>1.265909</td>\n",
       "      <td>0.302943</td>\n",
       "    </tr>\n",
       "    <tr>\n",
       "      <th>...</th>\n",
       "      <td>...</td>\n",
       "      <td>...</td>\n",
       "      <td>...</td>\n",
       "      <td>...</td>\n",
       "      <td>...</td>\n",
       "      <td>...</td>\n",
       "    </tr>\n",
       "    <tr>\n",
       "      <th>102</th>\n",
       "      <td>18</td>\n",
       "      <td>23</td>\n",
       "      <td>100</td>\n",
       "      <td>20</td>\n",
       "      <td>1.287472</td>\n",
       "      <td>0.375227</td>\n",
       "    </tr>\n",
       "    <tr>\n",
       "      <th>103</th>\n",
       "      <td>14</td>\n",
       "      <td>17</td>\n",
       "      <td>200</td>\n",
       "      <td>60</td>\n",
       "      <td>0.899102</td>\n",
       "      <td>0.231822</td>\n",
       "    </tr>\n",
       "    <tr>\n",
       "      <th>104</th>\n",
       "      <td>15</td>\n",
       "      <td>20</td>\n",
       "      <td>100</td>\n",
       "      <td>50</td>\n",
       "      <td>1.171140</td>\n",
       "      <td>0.372001</td>\n",
       "    </tr>\n",
       "    <tr>\n",
       "      <th>105</th>\n",
       "      <td>20</td>\n",
       "      <td>20</td>\n",
       "      <td>100</td>\n",
       "      <td>40</td>\n",
       "      <td>1.234493</td>\n",
       "      <td>0.599834</td>\n",
       "    </tr>\n",
       "    <tr>\n",
       "      <th>106</th>\n",
       "      <td>15</td>\n",
       "      <td>15</td>\n",
       "      <td>200</td>\n",
       "      <td>40</td>\n",
       "      <td>0.635426</td>\n",
       "      <td>0.139791</td>\n",
       "    </tr>\n",
       "  </tbody>\n",
       "</table>\n",
       "<p>107 rows × 6 columns</p>\n",
       "</div>"
      ],
      "text/plain": [
       "     anchor_ratio  trans_range  node_density  iterations       ale    sd_ale\n",
       "0              30           15           200          40  0.773546  0.250555\n",
       "1              15           15           100          70  0.911941  0.498329\n",
       "2              30           15           100          50  0.814867  0.255546\n",
       "3              15           20           100          20  1.435332  0.394603\n",
       "4              30           15           100          40  1.265909  0.302943\n",
       "..            ...          ...           ...         ...       ...       ...\n",
       "102            18           23           100          20  1.287472  0.375227\n",
       "103            14           17           200          60  0.899102  0.231822\n",
       "104            15           20           100          50  1.171140  0.372001\n",
       "105            20           20           100          40  1.234493  0.599834\n",
       "106            15           15           200          40  0.635426  0.139791\n",
       "\n",
       "[107 rows x 6 columns]"
      ]
     },
     "execution_count": 10,
     "metadata": {},
     "output_type": "execute_result"
    }
   ],
   "source": [
    "msc = pd.read_csv(\"mcs_ds_edited_iter_shuffled.csv\", index_col=False,delimiter=\",\")\n",
    "msc"
   ]
  },
  {
   "cell_type": "markdown",
   "id": "5a434aa8",
   "metadata": {},
   "source": [
    "# Connection & Database"
   ]
  },
  {
   "cell_type": "code",
   "execution_count": 3,
   "id": "1ff975a3",
   "metadata": {},
   "outputs": [
    {
     "name": "stdout",
     "output_type": "stream",
     "text": [
      "Database Created\n"
     ]
    }
   ],
   "source": [
    "try :\n",
    "    mydb = conn.connect(host =\"localhost\", user = \"root\", passwd = \"Vijit699@\")\n",
    "    if mydb.is_connected():\n",
    "        cur = mydb.cursor()\n",
    "        cur.execute(\"CREATE DATABASE IF NOT EXISTS mcs\")\n",
    "        print(\"Database Created\")\n",
    "except Exception as e:\n",
    "    print(e)"
   ]
  },
  {
   "cell_type": "markdown",
   "id": "364eb4a6",
   "metadata": {},
   "source": [
    "# Creating table and inserting values"
   ]
  },
  {
   "cell_type": "code",
   "execution_count": 8,
   "id": "18c9c323",
   "metadata": {},
   "outputs": [],
   "source": [
    "cur.execute(\"DROP TABLE mcs.mcsdata\")\n",
    "cur.execute(\"CREATE TABLE IF NOT EXISTS mcs.mcsdata(anchor_ratio INT(25),trans_range INT(25),node_density INT(25),iterations INT(25),ale FLOAT(40,15),sd_ale FLOAT(40,15))\")"
   ]
  },
  {
   "cell_type": "code",
   "execution_count": 11,
   "id": "03b155b2",
   "metadata": {},
   "outputs": [
    {
     "name": "stdout",
     "output_type": "stream",
     "text": [
      "data is inserted\n"
     ]
    }
   ],
   "source": [
    "try:\n",
    "    for i,rows in msc.iterrows():\n",
    "        sql = \"INSERT INTO mcs.mcsdata VALUES(%s,%s,%s,%s,%s,%s)\"\n",
    "        cur.execute(sql,tuple(rows))\n",
    "        mydb.commit()\n",
    "    print(\"data is inserted\")\n",
    "except Exception as e:\n",
    "    print(e)"
   ]
  },
  {
   "cell_type": "code",
   "execution_count": null,
   "id": "6793192a",
   "metadata": {},
   "outputs": [],
   "source": []
  }
 ],
 "metadata": {
  "kernelspec": {
   "display_name": "Python 3 (ipykernel)",
   "language": "python",
   "name": "python3"
  },
  "language_info": {
   "codemirror_mode": {
    "name": "ipython",
    "version": 3
   },
   "file_extension": ".py",
   "mimetype": "text/x-python",
   "name": "python",
   "nbconvert_exporter": "python",
   "pygments_lexer": "ipython3",
   "version": "3.9.7"
  }
 },
 "nbformat": 4,
 "nbformat_minor": 5
}
