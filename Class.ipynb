{
 "cells": [
  {
   "cell_type": "code",
   "execution_count": 1,
   "id": "5bb32d9a",
   "metadata": {},
   "outputs": [],
   "source": [
    "class car :\n",
    "    pass"
   ]
  },
  {
   "cell_type": "code",
   "execution_count": 13,
   "id": "c7b37bd0",
   "metadata": {},
   "outputs": [],
   "source": [
    "class car :\n",
    "    def __init__(self , brand_name , fuletype , body_type):\n",
    "        self.brand_name = brand_name\n",
    "        self.fuletype = fuletype\n",
    "        self.body_type = body_type\n",
    "    def des_car(self):\n",
    "        print(self.brand_name,self.fuletype,self.body_type)\n",
    "    def __str__(self):\n",
    "        return \"this is car class\""
   ]
  },
  {
   "cell_type": "code",
   "execution_count": 14,
   "id": "f5c21eba",
   "metadata": {},
   "outputs": [],
   "source": [
    "innova = car(\"toyota\" , \"petrol\" , \"suv\")"
   ]
  },
  {
   "cell_type": "code",
   "execution_count": 15,
   "id": "168a31f7",
   "metadata": {},
   "outputs": [
    {
     "name": "stdout",
     "output_type": "stream",
     "text": [
      "toyota petrol suv\n"
     ]
    }
   ],
   "source": [
    "innova.des_car()"
   ]
  },
  {
   "cell_type": "code",
   "execution_count": 16,
   "id": "03bbc724",
   "metadata": {},
   "outputs": [
    {
     "name": "stdout",
     "output_type": "stream",
     "text": [
      "this is car class\n"
     ]
    }
   ],
   "source": [
    "print(innova)"
   ]
  },
  {
   "cell_type": "code",
   "execution_count": 26,
   "id": "973d9047",
   "metadata": {},
   "outputs": [],
   "source": [
    "class list_parser :\n",
    "    def __init__(self , a):\n",
    "        self.a = a\n",
    "        \n",
    "    def parcer(self):\n",
    "        if type(self.a) == list:\n",
    "            for i in self.a:\n",
    "                print(i)\n",
    "                \n",
    "    def reverse_list(self):\n",
    "        if type(self.a)==list:\n",
    "            return self.a[::-1]"
   ]
  },
  {
   "cell_type": "code",
   "execution_count": 27,
   "id": "8bbfe54c",
   "metadata": {},
   "outputs": [],
   "source": [
    "c = list_parser([1,2,3,5])"
   ]
  },
  {
   "cell_type": "code",
   "execution_count": 28,
   "id": "5a122348",
   "metadata": {},
   "outputs": [
    {
     "name": "stdout",
     "output_type": "stream",
     "text": [
      "1\n",
      "2\n",
      "3\n",
      "5\n"
     ]
    }
   ],
   "source": [
    "c.parcer()"
   ]
  },
  {
   "cell_type": "code",
   "execution_count": 30,
   "id": "9670d0f3",
   "metadata": {},
   "outputs": [
    {
     "data": {
      "text/plain": [
       "[5, 3, 2, 1]"
      ]
     },
     "execution_count": 30,
     "metadata": {},
     "output_type": "execute_result"
    }
   ],
   "source": [
    "c.reverse_list()"
   ]
  },
  {
   "cell_type": "raw",
   "id": "47b91fc9",
   "metadata": {},
   "source": [
    "create a class for dictonary parsing\n",
    "1. write a fun to give all keys\n",
    "2.write a fun to give all value\n",
    "3. write a fun to throw an exception in case of input is not dict\n",
    "4. write a function to take input from user\n",
    "5. write a funtion to insert new key value pare into dict"
   ]
  },
  {
   "cell_type": "code",
   "execution_count": 19,
   "id": "e6d01bf4",
   "metadata": {},
   "outputs": [],
   "source": [
    "import logging as lg\n",
    "lg.basicConfig(filename = \"dict.log\")\n",
    "f = open(\"dicto.py\" ,\"w\")\n",
    "f.write(\"\"\"import logging as lg\n",
    "lg.basicConfig(filename = \"dict.log\")\n",
    "\n",
    "class dict_parsing :\n",
    "    \n",
    "    def __init__(self,a):\n",
    "        self.a = a\n",
    "    def dic_keys(self):\n",
    "        try:\n",
    "            l = list(self.a.keys())\n",
    "            return l\n",
    "        except :\n",
    "            self.logger(\"enter dictonary\")\n",
    "    def dic_values(self):\n",
    "        try:\n",
    "            return list(self.a.values())\n",
    "        except:\n",
    "            self.logger(\"enter dictonary\")\n",
    "    def insert_dic(self,**kwargs):\n",
    "        try:\n",
    "            self.a.update(kwargs)\n",
    "            return self.a\n",
    "        except:\n",
    "            self.logger(\"enter dictonary\")\n",
    "    def logger(self,log):\n",
    "        logger = lg.error(log)\n",
    "    def check(self):\n",
    "        if type(self.a) != dict:\n",
    "            raise Exception (\"not a dictonary\")\n",
    "        else:\n",
    "            print(\"it is a dictonary\")\n",
    "    def __str__(self):\n",
    "        return 'this is class for dictonary parsing'\"\"\")\n",
    "f.close()"
   ]
  },
  {
   "cell_type": "code",
   "execution_count": 9,
   "id": "c15c9a25",
   "metadata": {},
   "outputs": [],
   "source": [
    "x = dict_parsing({\"vijit\":\"kumar\" , \"monika\" : \"kumar\"})"
   ]
  },
  {
   "cell_type": "code",
   "execution_count": 10,
   "id": "f3562c5a",
   "metadata": {},
   "outputs": [
    {
     "data": {
      "text/plain": [
       "{'vijit': 'kumar', 'monika': 'kumar', 'c': 45, 'b': 56}"
      ]
     },
     "execution_count": 10,
     "metadata": {},
     "output_type": "execute_result"
    }
   ],
   "source": [
    "x.insert_dic(c = 45 , b = 56)"
   ]
  },
  {
   "cell_type": "code",
   "execution_count": 11,
   "id": "97128cc7",
   "metadata": {},
   "outputs": [
    {
     "data": {
      "text/plain": [
       "['vijit', 'monika', 'c', 'b']"
      ]
     },
     "execution_count": 11,
     "metadata": {},
     "output_type": "execute_result"
    }
   ],
   "source": [
    "x.dic_keys()"
   ]
  },
  {
   "cell_type": "code",
   "execution_count": 12,
   "id": "29fd3bd9",
   "metadata": {},
   "outputs": [
    {
     "data": {
      "text/plain": [
       "['kumar', 'kumar', 45, 56]"
      ]
     },
     "execution_count": 12,
     "metadata": {},
     "output_type": "execute_result"
    }
   ],
   "source": [
    "x.dic_values()"
   ]
  },
  {
   "cell_type": "code",
   "execution_count": 13,
   "id": "40344d5f",
   "metadata": {},
   "outputs": [
    {
     "name": "stdout",
     "output_type": "stream",
     "text": [
      "it is a dictonary\n"
     ]
    }
   ],
   "source": [
    "x.check()"
   ]
  },
  {
   "cell_type": "code",
   "execution_count": 14,
   "id": "6c65ff9e",
   "metadata": {},
   "outputs": [
    {
     "name": "stdout",
     "output_type": "stream",
     "text": [
      "{\"vijit\":\"kumar\" , \"monika\" : \"kumar\"}\n"
     ]
    }
   ],
   "source": [
    "y = eval(input())"
   ]
  },
  {
   "cell_type": "code",
   "execution_count": 15,
   "id": "2f2a405b",
   "metadata": {},
   "outputs": [
    {
     "data": {
      "text/plain": [
       "dict"
      ]
     },
     "execution_count": 15,
     "metadata": {},
     "output_type": "execute_result"
    }
   ],
   "source": [
    "type(y)"
   ]
  },
  {
   "cell_type": "raw",
   "id": "ad8cc183",
   "metadata": {},
   "source": [
    "Q1 . Create own package for all list func\n",
    "Q2 . create own pakage for all tuple func\n",
    "Q3 . Create own package for all dict func\n",
    "Q4 . Create own package for all set func\n",
    "restriction :\n",
    "always use exception handling\n",
    "never use print\n",
    "always use logging while writing a code and log every activity performed by code in respective logging file\n",
    "sudhanshu@ineuron.ai"
   ]
  },
  {
   "cell_type": "code",
   "execution_count": null,
   "id": "95812eb7",
   "metadata": {},
   "outputs": [],
   "source": []
  },
  {
   "cell_type": "code",
   "execution_count": null,
   "id": "f7f090b1",
   "metadata": {},
   "outputs": [],
   "source": []
  },
  {
   "cell_type": "code",
   "execution_count": null,
   "id": "77104149",
   "metadata": {},
   "outputs": [],
   "source": []
  },
  {
   "cell_type": "code",
   "execution_count": null,
   "id": "99bb02eb",
   "metadata": {},
   "outputs": [],
   "source": []
  },
  {
   "cell_type": "code",
   "execution_count": null,
   "id": "8c1e772c",
   "metadata": {},
   "outputs": [],
   "source": []
  }
 ],
 "metadata": {
  "kernelspec": {
   "display_name": "Python 3 (ipykernel)",
   "language": "python",
   "name": "python3"
  },
  "language_info": {
   "codemirror_mode": {
    "name": "ipython",
    "version": 3
   },
   "file_extension": ".py",
   "mimetype": "text/x-python",
   "name": "python",
   "nbconvert_exporter": "python",
   "pygments_lexer": "ipython3",
   "version": "3.9.7"
  }
 },
 "nbformat": 4,
 "nbformat_minor": 5
}
