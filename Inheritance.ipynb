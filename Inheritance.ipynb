{
 "cells": [
  {
   "cell_type": "code",
   "execution_count": null,
   "id": "edb43298",
   "metadata": {},
   "outputs": [],
   "source": []
  },
  {
   "cell_type": "markdown",
   "id": "c2d84f58",
   "metadata": {},
   "source": [
    "# Inheritance"
   ]
  },
  {
   "cell_type": "code",
   "execution_count": 13,
   "id": "b192a9fc",
   "metadata": {},
   "outputs": [],
   "source": [
    "class xyz:\n",
    "    def __init__(self , a, b, c):\n",
    "        self.a = a\n",
    "        self.b = b\n",
    "        self.c = c\n",
    "        \n",
    "    def test(self):\n",
    "        print(\"this is my first method in xyz class\")\n",
    "    \n",
    "    def test2(self):\n",
    "        print(\"this is my test2 method in xyz class\")\n",
    "        \n"
   ]
  },
  {
   "cell_type": "code",
   "execution_count": 14,
   "id": "b3f27c41",
   "metadata": {},
   "outputs": [],
   "source": [
    "class xyz1(xyz):\n",
    "    def test(self):\n",
    "        print(\"this is my test3 method in xyz1 class\")\n",
    "        "
   ]
  },
  {
   "cell_type": "code",
   "execution_count": 15,
   "id": "cfbe85a1",
   "metadata": {},
   "outputs": [],
   "source": [
    "s = xyz1(4,5,6)"
   ]
  },
  {
   "cell_type": "code",
   "execution_count": 17,
   "id": "2b6afa51",
   "metadata": {},
   "outputs": [
    {
     "name": "stdout",
     "output_type": "stream",
     "text": [
      "this is my test3 method in xyz1 class\n"
     ]
    }
   ],
   "source": [
    "s.test()"
   ]
  },
  {
   "cell_type": "code",
   "execution_count": 8,
   "id": "d756505c",
   "metadata": {},
   "outputs": [],
   "source": [
    "def ls_count(s,a):\n",
    "    if type(s) == list:\n",
    "        print(s.count(a))\n",
    "    "
   ]
  },
  {
   "cell_type": "code",
   "execution_count": 9,
   "id": "4b1479aa",
   "metadata": {},
   "outputs": [
    {
     "name": "stdout",
     "output_type": "stream",
     "text": [
      "2\n"
     ]
    }
   ],
   "source": [
    "ls_count([4,4,5,6] , 4)"
   ]
  },
  {
   "cell_type": "code",
   "execution_count": 25,
   "id": "3a4ea733",
   "metadata": {},
   "outputs": [],
   "source": [
    "class xyz:\n",
    "    def __init__(self,a,b,c):\n",
    "        self.a = a\n",
    "        self.b = b\n",
    "        self.c = c\n",
    "        \n",
    "    def test(self):\n",
    "        print(\"this is meth of xyz class\")\n",
    "        \n",
    "class xyz1:\n",
    "    \n",
    "    def __init__(self , p, q, v):\n",
    "        self.p = p\n",
    "        self.q = q\n",
    "        self.v = v\n",
    "        \n",
    "    def test1(self):\n",
    "        print(\"this is meth for class xyz1\")\n",
    "        \n",
    "class child(xyz1,xyz):\n",
    "    pass"
   ]
  },
  {
   "cell_type": "code",
   "execution_count": 47,
   "id": "2850a0e7",
   "metadata": {},
   "outputs": [],
   "source": [
    "s = child(4,5,6,p=8,q=9,v=10,r=1)"
   ]
  },
  {
   "cell_type": "code",
   "execution_count": 45,
   "id": "8eb3709c",
   "metadata": {},
   "outputs": [],
   "source": [
    "class xyz:\n",
    "    def __init__(self,a,b,c):\n",
    "        self.a = a\n",
    "        self.b = b\n",
    "        self.c = c\n",
    "        \n",
    "    def test(self):\n",
    "        print(\"this is meth of xyz class\")\n",
    "        \n",
    "class xyz1:\n",
    "    \n",
    "    def __init__(self , p, q, v,r):\n",
    "        self.p = p\n",
    "        self.q = q\n",
    "        self.v = v\n",
    "        self.r = r\n",
    "    def test1(self):\n",
    "        print(\"this is meth for class xyz1\")\n",
    "        \n",
    "class child(xyz1,xyz):\n",
    "    def __init__(self,*args,**k):\n",
    "        xyz.__init__(self,*args)\n",
    "        xyz1.__init__(self,**k)"
   ]
  },
  {
   "cell_type": "code",
   "execution_count": 48,
   "id": "6ff2de3b",
   "metadata": {},
   "outputs": [
    {
     "data": {
      "text/plain": [
       "9"
      ]
     },
     "execution_count": 48,
     "metadata": {},
     "output_type": "execute_result"
    }
   ],
   "source": [
    "s.q"
   ]
  },
  {
   "cell_type": "code",
   "execution_count": 50,
   "id": "142bb9d9",
   "metadata": {},
   "outputs": [
    {
     "name": "stdout",
     "output_type": "stream",
     "text": [
      "this is meth for class xyz1\n"
     ]
    }
   ],
   "source": [
    "s.test1()"
   ]
  },
  {
   "cell_type": "code",
   "execution_count": 51,
   "id": "45f5cdd0",
   "metadata": {},
   "outputs": [],
   "source": [
    "class xyz:\n",
    "    def __init__(self,a,b,c):\n",
    "        self.a = a\n",
    "        self.b = b\n",
    "        self.c = c\n",
    "        \n",
    "    def test(self):\n",
    "        print(\"this is meth of xyz class\")\n",
    "        \n",
    "class xyz1(xyz):\n",
    "        \n",
    "    def test1(self):\n",
    "        print(\"this is meth for class xyz1\")\n",
    "        \n",
    "class xyz2(xyz1):\n",
    "    def test2(self):\n",
    "        print(\"this is method of class xyz2\")"
   ]
  },
  {
   "cell_type": "code",
   "execution_count": 52,
   "id": "7ac4fd9c",
   "metadata": {},
   "outputs": [],
   "source": [
    "v = xyz2(4,5,6)"
   ]
  },
  {
   "cell_type": "code",
   "execution_count": 53,
   "id": "8eb6fc9b",
   "metadata": {},
   "outputs": [
    {
     "data": {
      "text/plain": [
       "4"
      ]
     },
     "execution_count": 53,
     "metadata": {},
     "output_type": "execute_result"
    }
   ],
   "source": [
    "v.a"
   ]
  },
  {
   "cell_type": "raw",
   "id": "f601957e",
   "metadata": {},
   "source": [
    "Q1 create a file class reading data from respective file\n",
    "Q2 try to inherit read and write methodfrom parent class to child to perform read and write"
   ]
  },
  {
   "cell_type": "code",
   "execution_count": 9,
   "id": "4335e938",
   "metadata": {},
   "outputs": [],
   "source": [
    "import logging as lg\n",
    "lg.basicConfig(filename = \"file_error.log\")\n",
    "\n",
    "class write:\n",
    "    def __init__(self , file_name):\n",
    "        self.file_name = file_name\n",
    "    \n",
    "    try:    \n",
    "        def write_file(self,*args):\n",
    "            f = open(self.file_name , \"w\")\n",
    "            f.write(*args)\n",
    "            f.close()\n",
    "    except Exception as e :\n",
    "        self.logger(e)\n",
    "    def logger(self,log):\n",
    "        logger = log.error(log)\n",
    "    \n",
    "        \n",
    "class read(write):\n",
    "    try:\n",
    "        def read_file(self):\n",
    "            f = open(self.file_name , \"r\")\n",
    "            return f.read()\n",
    "            f.close()\n",
    "    except Exception as e:\n",
    "        self.logger(e)\n",
    "class child(read):\n",
    "    \n",
    "    pass"
   ]
  },
  {
   "cell_type": "code",
   "execution_count": 14,
   "id": "ef83344e",
   "metadata": {},
   "outputs": [],
   "source": [
    "s = child(\"file.txt\")"
   ]
  },
  {
   "cell_type": "code",
   "execution_count": 15,
   "id": "96b3a8ef",
   "metadata": {},
   "outputs": [],
   "source": [
    "s.write_file(\"dvknlvk\")"
   ]
  },
  {
   "cell_type": "code",
   "execution_count": 16,
   "id": "1c5ba631",
   "metadata": {},
   "outputs": [
    {
     "data": {
      "text/plain": [
       "'dvknlvk'"
      ]
     },
     "execution_count": 16,
     "metadata": {},
     "output_type": "execute_result"
    }
   ],
   "source": [
    "s.read_file()"
   ]
  },
  {
   "cell_type": "code",
   "execution_count": 17,
   "id": "6f77bbd9",
   "metadata": {},
   "outputs": [],
   "source": [
    "s.write_file(\"super class is not here \")"
   ]
  },
  {
   "cell_type": "markdown",
   "id": "2cf00092",
   "metadata": {},
   "source": [
    "# Private Variable , Encapsulation"
   ]
  },
  {
   "cell_type": "code",
   "execution_count": 20,
   "id": "ec56749a",
   "metadata": {},
   "outputs": [],
   "source": [
    "class test:\n",
    "    def __init__(self):\n",
    "        self.__a = 4\n",
    "        \n",
    "class test1(test):\n",
    "    def __init__(self):\n",
    "        self.a = 7\n",
    "        \n",
    "u = test()"
   ]
  },
  {
   "cell_type": "code",
   "execution_count": 22,
   "id": "1eb38cfb",
   "metadata": {},
   "outputs": [
    {
     "data": {
      "text/plain": [
       "4"
      ]
     },
     "execution_count": 22,
     "metadata": {},
     "output_type": "execute_result"
    }
   ],
   "source": [
    "u._test__a"
   ]
  },
  {
   "cell_type": "code",
   "execution_count": 23,
   "id": "f8832ae2",
   "metadata": {},
   "outputs": [],
   "source": [
    "class bonus_calculator:\n",
    "    def __init__(self,empid,emidrating):\n",
    "        self.empid = empid\n",
    "        self.emidrating = emidrating\n",
    "        self.__bonusforratingA = \"70%\"\n",
    "        self.__bonusforratingB = \"60%\"\n",
    "        self.__bonusforratingC = \"40%\"\n",
    "        \n",
    "    def bonuscalculator(self):\n",
    "        if self.emidrating == \"A\":\n",
    "            bonus = self.__bonusforratingA\n",
    "            return bonus\n",
    "        elif self.emidrating == \"B\":\n",
    "            bonus = self.__bonusforratingB\n",
    "            return bonus\n",
    "        else:\n",
    "            bonus = self.__bonusforratingC\n",
    "            return bonus\n",
    "    "
   ]
  },
  {
   "cell_type": "code",
   "execution_count": 24,
   "id": "efe3db4b",
   "metadata": {},
   "outputs": [],
   "source": [
    "emp1 = bonus_calculator(101 , \"A\")"
   ]
  },
  {
   "cell_type": "code",
   "execution_count": 30,
   "id": "c70cbb2b",
   "metadata": {},
   "outputs": [
    {
     "data": {
      "text/plain": [
       "'60%'"
      ]
     },
     "execution_count": 30,
     "metadata": {},
     "output_type": "execute_result"
    }
   ],
   "source": [
    "emp1.bonuscalculator()"
   ]
  },
  {
   "cell_type": "code",
   "execution_count": 27,
   "id": "c891450d",
   "metadata": {},
   "outputs": [],
   "source": [
    "emp1.emidrating =\"B\""
   ]
  },
  {
   "cell_type": "code",
   "execution_count": 29,
   "id": "3949b848",
   "metadata": {},
   "outputs": [],
   "source": [
    "emp1.__bonusforratingB = \"90%\""
   ]
  },
  {
   "cell_type": "code",
   "execution_count": 31,
   "id": "019b27b2",
   "metadata": {},
   "outputs": [
    {
     "data": {
      "text/plain": [
       "'60%'"
      ]
     },
     "execution_count": 31,
     "metadata": {},
     "output_type": "execute_result"
    }
   ],
   "source": [
    "emp2 = bonus_calculator(102,\"B\")\n",
    "emp2.bonuscalculator()"
   ]
  },
  {
   "cell_type": "markdown",
   "id": "e23c4394",
   "metadata": {},
   "source": [
    "# Polymorphisim"
   ]
  },
  {
   "cell_type": "code",
   "execution_count": 1,
   "id": "1a3784ff",
   "metadata": {},
   "outputs": [],
   "source": [
    "def test(a,b):\n",
    "    return a+b"
   ]
  },
  {
   "cell_type": "code",
   "execution_count": 2,
   "id": "85f5d713",
   "metadata": {},
   "outputs": [
    {
     "data": {
      "text/plain": [
       "7"
      ]
     },
     "execution_count": 2,
     "metadata": {},
     "output_type": "execute_result"
    }
   ],
   "source": [
    "test(3,4)"
   ]
  },
  {
   "cell_type": "code",
   "execution_count": 3,
   "id": "b608277c",
   "metadata": {},
   "outputs": [
    {
     "data": {
      "text/plain": [
       "'vijitkumar'"
      ]
     },
     "execution_count": 3,
     "metadata": {},
     "output_type": "execute_result"
    }
   ],
   "source": [
    "test(\"vijit\",\"kumar\")"
   ]
  },
  {
   "cell_type": "code",
   "execution_count": 4,
   "id": "d3111134",
   "metadata": {},
   "outputs": [],
   "source": [
    "class insta:\n",
    "    def share_story(self):\n",
    "        print(\"this will share my insta story\")\n",
    "        \n",
    "class facebook:\n",
    "    def share_story(self):\n",
    "        print(\"this will share my facebook story\")"
   ]
  },
  {
   "cell_type": "code",
   "execution_count": 5,
   "id": "d23ea95c",
   "metadata": {},
   "outputs": [],
   "source": [
    "def sharestories(app):\n",
    "    app.share_story()"
   ]
  },
  {
   "cell_type": "code",
   "execution_count": 6,
   "id": "e38084a3",
   "metadata": {},
   "outputs": [
    {
     "name": "stdout",
     "output_type": "stream",
     "text": [
      "this will share my insta story\n",
      "this will share my facebook story\n"
     ]
    }
   ],
   "source": [
    "i = insta()\n",
    "f = facebook()\n",
    "sharestories(i)\n",
    "sharestories(f)"
   ]
  },
  {
   "cell_type": "code",
   "execution_count": 7,
   "id": "3f36c332",
   "metadata": {},
   "outputs": [],
   "source": [
    "class social_media:\n",
    "    def share_story(self):\n",
    "        print(\"share a story\")\n",
    "    def upload_pic(self):\n",
    "        print(\"this will healp to upload pic\")\n",
    "class facebook(social_media):\n",
    "    def share_story(self):\n",
    "        print(\"this is fun to share story on facebook\")\n",
    "        \n",
    "class insta(social_media):\n",
    "    def share_story(self):\n",
    "        print(\"this will print story for insta\")"
   ]
  },
  {
   "cell_type": "code",
   "execution_count": 8,
   "id": "fd1ddf5f",
   "metadata": {},
   "outputs": [],
   "source": [
    "f = facebook()\n",
    "i = insta()"
   ]
  },
  {
   "cell_type": "code",
   "execution_count": 9,
   "id": "1fc179a5",
   "metadata": {},
   "outputs": [
    {
     "name": "stdout",
     "output_type": "stream",
     "text": [
      "this is fun to share story on facebook\n"
     ]
    }
   ],
   "source": [
    "f.share_story()"
   ]
  },
  {
   "cell_type": "code",
   "execution_count": 10,
   "id": "a24ba4fe",
   "metadata": {},
   "outputs": [
    {
     "name": "stdout",
     "output_type": "stream",
     "text": [
      "this will print story for insta\n"
     ]
    }
   ],
   "source": [
    "i.share_story()"
   ]
  },
  {
   "cell_type": "code",
   "execution_count": 13,
   "id": "c98a549e",
   "metadata": {},
   "outputs": [],
   "source": [
    "class test(Exception):\n",
    "    def __init__(self , msg, ):\n",
    "        self.msg = msg\n",
    "        self.myval = 5"
   ]
  },
  {
   "cell_type": "code",
   "execution_count": 14,
   "id": "2444dc19",
   "metadata": {},
   "outputs": [
    {
     "name": "stdout",
     "output_type": "stream",
     "text": [
      "this is my own exception class\n"
     ]
    }
   ],
   "source": [
    "try:\n",
    "    raise(test(\"this is my own exception class\"))\n",
    "except test as t:\n",
    "    print(t)"
   ]
  },
  {
   "cell_type": "code",
   "execution_count": null,
   "id": "6c23c465",
   "metadata": {},
   "outputs": [],
   "source": [
    "class account_detail:\n",
    "    account_no = \"435343456343\"\n",
    "    "
   ]
  },
  {
   "cell_type": "markdown",
   "id": "f123cce3",
   "metadata": {},
   "source": [
    "# Abstraction\n"
   ]
  },
  {
   "cell_type": "code",
   "execution_count": 27,
   "id": "40f20b0c",
   "metadata": {},
   "outputs": [],
   "source": [
    "from abc import abstractmethod\n",
    "class data_project:\n",
    "    @abstractmethod\n",
    "    def read_file(self):\n",
    "        pass\n",
    "    def validate_file_name(self):\n",
    "        pass\n",
    "    def validate_datatype(self):\n",
    "        pass\n",
    "    def validate_db_conn(self):\n",
    "        pass\n",
    "    def create_conn(self):\n",
    "        pass\n",
    "    def insert_data(self):\n",
    "        pass\n",
    "    def delete_data(self):\n",
    "        pass\n",
    "    def update_data(self):\n",
    "        pass\n",
    "    def perform_stats(self):\n",
    "        pass"
   ]
  },
  {
   "cell_type": "markdown",
   "id": "aff1cfc3",
   "metadata": {},
   "source": [
    "#  Overloading Overriding"
   ]
  },
  {
   "cell_type": "code",
   "execution_count": 32,
   "id": "c728a06d",
   "metadata": {},
   "outputs": [],
   "source": [
    "class test:\n",
    "    def fun(self):\n",
    "        print('this is my sample class')\n",
    "        \n",
    "    def __str__(self):\n",
    "        return \"this is a function called at a time of object print\"\n",
    "    #str is use to overload msg over object"
   ]
  },
  {
   "cell_type": "code",
   "execution_count": 30,
   "id": "4a4875a9",
   "metadata": {},
   "outputs": [],
   "source": [
    "t = test()"
   ]
  },
  {
   "cell_type": "code",
   "execution_count": 31,
   "id": "ef9bfa03",
   "metadata": {},
   "outputs": [
    {
     "name": "stdout",
     "output_type": "stream",
     "text": [
      "this is a function called at a time of object print\n"
     ]
    }
   ],
   "source": [
    "print(t)"
   ]
  },
  {
   "cell_type": "code",
   "execution_count": null,
   "id": "5b0a2955",
   "metadata": {},
   "outputs": [],
   "source": []
  }
 ],
 "metadata": {
  "kernelspec": {
   "display_name": "Python 3 (ipykernel)",
   "language": "python",
   "name": "python3"
  },
  "language_info": {
   "codemirror_mode": {
    "name": "ipython",
    "version": 3
   },
   "file_extension": ".py",
   "mimetype": "text/x-python",
   "name": "python",
   "nbconvert_exporter": "python",
   "pygments_lexer": "ipython3",
   "version": "3.9.7"
  }
 },
 "nbformat": 4,
 "nbformat_minor": 5
}
