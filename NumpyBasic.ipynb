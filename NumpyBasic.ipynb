{
 "cells": [
  {
   "cell_type": "code",
   "execution_count": 1,
   "id": "7dca96a5",
   "metadata": {},
   "outputs": [],
   "source": [
    "import numpy as np"
   ]
  },
  {
   "cell_type": "code",
   "execution_count": 2,
   "id": "a0e5b0e4",
   "metadata": {},
   "outputs": [],
   "source": [
    "l = ['as',1,2,3,5]"
   ]
  },
  {
   "cell_type": "code",
   "execution_count": 3,
   "id": "1c11a47f",
   "metadata": {},
   "outputs": [
    {
     "data": {
      "text/plain": [
       "list"
      ]
     },
     "execution_count": 3,
     "metadata": {},
     "output_type": "execute_result"
    }
   ],
   "source": [
    "type(l)"
   ]
  },
  {
   "cell_type": "code",
   "execution_count": 5,
   "id": "995fbd04",
   "metadata": {},
   "outputs": [
    {
     "data": {
      "text/plain": [
       "numpy.ndarray"
      ]
     },
     "execution_count": 5,
     "metadata": {},
     "output_type": "execute_result"
    }
   ],
   "source": [
    "type(np.array(l))"
   ]
  },
  {
   "cell_type": "code",
   "execution_count": 13,
   "id": "392251c7",
   "metadata": {},
   "outputs": [],
   "source": [
    "a1 = np.array(l)"
   ]
  },
  {
   "cell_type": "code",
   "execution_count": 14,
   "id": "52b9734a",
   "metadata": {},
   "outputs": [],
   "source": [
    "a1 = np.array([3,4,5,6,3.0])"
   ]
  },
  {
   "cell_type": "code",
   "execution_count": 9,
   "id": "3d47647c",
   "metadata": {},
   "outputs": [],
   "source": [
    "a = np.array([[1,2],[3,4]])"
   ]
  },
  {
   "cell_type": "code",
   "execution_count": 10,
   "id": "900f3787",
   "metadata": {},
   "outputs": [
    {
     "data": {
      "text/plain": [
       "array([[1, 2],\n",
       "       [3, 4]])"
      ]
     },
     "execution_count": 10,
     "metadata": {},
     "output_type": "execute_result"
    }
   ],
   "source": [
    "a"
   ]
  },
  {
   "cell_type": "code",
   "execution_count": 12,
   "id": "4fae82a0",
   "metadata": {},
   "outputs": [
    {
     "data": {
      "text/plain": [
       "4"
      ]
     },
     "execution_count": 12,
     "metadata": {},
     "output_type": "execute_result"
    }
   ],
   "source": [
    "a[1][1]"
   ]
  },
  {
   "cell_type": "code",
   "execution_count": 16,
   "id": "e84fb3a6",
   "metadata": {},
   "outputs": [
    {
     "data": {
      "text/plain": [
       "4.0"
      ]
     },
     "execution_count": 16,
     "metadata": {},
     "output_type": "execute_result"
    }
   ],
   "source": [
    "a1[1]"
   ]
  },
  {
   "cell_type": "code",
   "execution_count": 17,
   "id": "7e815861",
   "metadata": {},
   "outputs": [
    {
     "data": {
      "text/plain": [
       "array([3., 4., 5., 6., 3.])"
      ]
     },
     "execution_count": 17,
     "metadata": {},
     "output_type": "execute_result"
    }
   ],
   "source": [
    "a1"
   ]
  },
  {
   "cell_type": "code",
   "execution_count": 25,
   "id": "e452de82",
   "metadata": {},
   "outputs": [],
   "source": [
    "a2 = np.array([[1,2,3,4]],ndmin = 4 )"
   ]
  },
  {
   "cell_type": "code",
   "execution_count": 28,
   "id": "4ad6577e",
   "metadata": {},
   "outputs": [
    {
     "data": {
      "text/plain": [
       "1"
      ]
     },
     "execution_count": 28,
     "metadata": {},
     "output_type": "execute_result"
    }
   ],
   "source": [
    "a2[0][0][0][0]"
   ]
  },
  {
   "cell_type": "code",
   "execution_count": 29,
   "id": "71d2ca9f",
   "metadata": {},
   "outputs": [
    {
     "data": {
      "text/plain": [
       "array([[1, 2],\n",
       "       [3, 4]])"
      ]
     },
     "execution_count": 29,
     "metadata": {},
     "output_type": "execute_result"
    }
   ],
   "source": [
    "a"
   ]
  },
  {
   "cell_type": "code",
   "execution_count": 30,
   "id": "58e51646",
   "metadata": {},
   "outputs": [
    {
     "data": {
      "text/plain": [
       "array([1, 2, 4, 5])"
      ]
     },
     "execution_count": 30,
     "metadata": {},
     "output_type": "execute_result"
    }
   ],
   "source": [
    "np.asanyarray([1,2,4,5])"
   ]
  },
  {
   "cell_type": "code",
   "execution_count": 33,
   "id": "6ca78ec8",
   "metadata": {},
   "outputs": [],
   "source": [
    "m = np.mat([[1,2,5,4],[6,7,8,9]])"
   ]
  },
  {
   "cell_type": "code",
   "execution_count": 34,
   "id": "8b14f331",
   "metadata": {},
   "outputs": [
    {
     "data": {
      "text/plain": [
       "matrix([[1, 2, 5, 4],\n",
       "        [6, 7, 8, 9]])"
      ]
     },
     "execution_count": 34,
     "metadata": {},
     "output_type": "execute_result"
    }
   ],
   "source": [
    "np.asanyarray(m)"
   ]
  },
  {
   "cell_type": "code",
   "execution_count": 35,
   "id": "2b51b2bb",
   "metadata": {},
   "outputs": [
    {
     "data": {
      "text/plain": [
       "matrix([[1, 2],\n",
       "        [3, 4]])"
      ]
     },
     "execution_count": 35,
     "metadata": {},
     "output_type": "execute_result"
    }
   ],
   "source": [
    "np.mat(a)"
   ]
  },
  {
   "cell_type": "code",
   "execution_count": 36,
   "id": "a365965a",
   "metadata": {},
   "outputs": [
    {
     "data": {
      "text/plain": [
       "array([[ True, False, False],\n",
       "       [False,  True, False],\n",
       "       [False, False,  True]])"
      ]
     },
     "execution_count": 36,
     "metadata": {},
     "output_type": "execute_result"
    }
   ],
   "source": [
    "np.fromfunction(lambda i , j: i == j ,(3,3))"
   ]
  },
  {
   "cell_type": "code",
   "execution_count": 40,
   "id": "cdc68edf",
   "metadata": {},
   "outputs": [
    {
     "data": {
      "text/plain": [
       "matrix([[0, 0, 0, 0],\n",
       "        [0, 1, 2, 3],\n",
       "        [0, 2, 4, 6],\n",
       "        [0, 3, 6, 9]])"
      ]
     },
     "execution_count": 40,
     "metadata": {},
     "output_type": "execute_result"
    }
   ],
   "source": [
    "np.mat(np.fromfunction(lambda i , j :i*j , (4,4),dtype = int))"
   ]
  },
  {
   "cell_type": "code",
   "execution_count": 50,
   "id": "cc416ee8",
   "metadata": {},
   "outputs": [
    {
     "data": {
      "text/plain": [
       "array([[[0, 0],\n",
       "        [0, 0],\n",
       "        [0, 0]],\n",
       "\n",
       "       [[0, 0],\n",
       "        [0, 1],\n",
       "        [0, 2]],\n",
       "\n",
       "       [[0, 0],\n",
       "        [0, 2],\n",
       "        [0, 4]]])"
      ]
     },
     "execution_count": 50,
     "metadata": {},
     "output_type": "execute_result"
    }
   ],
   "source": [
    "np.fromfunction(lambda i , j, z :i*j*z , (3,3,2),dtype = int)"
   ]
  },
  {
   "cell_type": "code",
   "execution_count": 52,
   "id": "debfd44e",
   "metadata": {},
   "outputs": [
    {
     "data": {
      "text/plain": [
       "array([[[[0, 0],\n",
       "         [0, 0]],\n",
       "\n",
       "        [[0, 0],\n",
       "         [0, 0]],\n",
       "\n",
       "        [[0, 0],\n",
       "         [0, 0]]],\n",
       "\n",
       "\n",
       "       [[[0, 0],\n",
       "         [0, 0]],\n",
       "\n",
       "        [[0, 0],\n",
       "         [0, 1]],\n",
       "\n",
       "        [[0, 0],\n",
       "         [0, 2]]],\n",
       "\n",
       "\n",
       "       [[[0, 0],\n",
       "         [0, 0]],\n",
       "\n",
       "        [[0, 0],\n",
       "         [0, 2]],\n",
       "\n",
       "        [[0, 0],\n",
       "         [0, 4]]],\n",
       "\n",
       "\n",
       "       [[[0, 0],\n",
       "         [0, 0]],\n",
       "\n",
       "        [[0, 0],\n",
       "         [0, 3]],\n",
       "\n",
       "        [[0, 0],\n",
       "         [0, 6]]]])"
      ]
     },
     "execution_count": 52,
     "metadata": {},
     "output_type": "execute_result"
    }
   ],
   "source": [
    "np.fromfunction(lambda i , j,z,p :i*j*z*p , (4,3,2,2),dtype = int)"
   ]
  },
  {
   "cell_type": "code",
   "execution_count": 55,
   "id": "969bf188",
   "metadata": {},
   "outputs": [],
   "source": [
    "a = np.fromfunction(lambda i , j,z :i*j*z , (4,3,2),dtype = int)"
   ]
  },
  {
   "cell_type": "code",
   "execution_count": 56,
   "id": "d93f9cea",
   "metadata": {},
   "outputs": [
    {
     "data": {
      "text/plain": [
       "array([[[0, 0],\n",
       "        [0, 0],\n",
       "        [0, 0]],\n",
       "\n",
       "       [[0, 0],\n",
       "        [0, 1],\n",
       "        [0, 2]],\n",
       "\n",
       "       [[0, 0],\n",
       "        [0, 2],\n",
       "        [0, 4]],\n",
       "\n",
       "       [[0, 0],\n",
       "        [0, 3],\n",
       "        [0, 6]]])"
      ]
     },
     "execution_count": 56,
     "metadata": {},
     "output_type": "execute_result"
    }
   ],
   "source": [
    "a"
   ]
  },
  {
   "cell_type": "code",
   "execution_count": 57,
   "id": "65702638",
   "metadata": {},
   "outputs": [
    {
     "data": {
      "text/plain": [
       "3"
      ]
     },
     "execution_count": 57,
     "metadata": {},
     "output_type": "execute_result"
    }
   ],
   "source": [
    "a.ndim"
   ]
  },
  {
   "cell_type": "code",
   "execution_count": 58,
   "id": "c41c8e83",
   "metadata": {},
   "outputs": [
    {
     "data": {
      "text/plain": [
       "24"
      ]
     },
     "execution_count": 58,
     "metadata": {},
     "output_type": "execute_result"
    }
   ],
   "source": [
    "a.size"
   ]
  },
  {
   "cell_type": "code",
   "execution_count": 59,
   "id": "7a1a449d",
   "metadata": {},
   "outputs": [
    {
     "data": {
      "text/plain": [
       "(4, 3, 2)"
      ]
     },
     "execution_count": 59,
     "metadata": {},
     "output_type": "execute_result"
    }
   ],
   "source": [
    "a.shape"
   ]
  },
  {
   "cell_type": "code",
   "execution_count": 60,
   "id": "363a0fb1",
   "metadata": {},
   "outputs": [
    {
     "data": {
      "text/plain": [
       "dtype('int32')"
      ]
     },
     "execution_count": 60,
     "metadata": {},
     "output_type": "execute_result"
    }
   ],
   "source": [
    "a.dtype"
   ]
  },
  {
   "cell_type": "code",
   "execution_count": 61,
   "id": "b57f9968",
   "metadata": {},
   "outputs": [],
   "source": [
    "import pandas as pd"
   ]
  },
  {
   "cell_type": "code",
   "execution_count": 62,
   "id": "369090ff",
   "metadata": {},
   "outputs": [
    {
     "ename": "ValueError",
     "evalue": "Must pass 2-d input. shape=(4, 3, 2)",
     "output_type": "error",
     "traceback": [
      "\u001b[1;31m---------------------------------------------------------------------------\u001b[0m",
      "\u001b[1;31mValueError\u001b[0m                                Traceback (most recent call last)",
      "\u001b[1;32mC:\\Users\\VIJITK~1\\AppData\\Local\\Temp/ipykernel_11252/516763050.py\u001b[0m in \u001b[0;36m<module>\u001b[1;34m\u001b[0m\n\u001b[1;32m----> 1\u001b[1;33m \u001b[0mpd\u001b[0m\u001b[1;33m.\u001b[0m\u001b[0mDataFrame\u001b[0m\u001b[1;33m(\u001b[0m\u001b[0ma\u001b[0m\u001b[1;33m)\u001b[0m\u001b[1;33m\u001b[0m\u001b[1;33m\u001b[0m\u001b[0m\n\u001b[0m",
      "\u001b[1;32m~\\.conda\\lib\\site-packages\\pandas\\core\\frame.py\u001b[0m in \u001b[0;36m__init__\u001b[1;34m(self, data, index, columns, dtype, copy)\u001b[0m\n\u001b[0;32m    670\u001b[0m                 )\n\u001b[0;32m    671\u001b[0m             \u001b[1;32melse\u001b[0m\u001b[1;33m:\u001b[0m\u001b[1;33m\u001b[0m\u001b[1;33m\u001b[0m\u001b[0m\n\u001b[1;32m--> 672\u001b[1;33m                 mgr = ndarray_to_mgr(\n\u001b[0m\u001b[0;32m    673\u001b[0m                     \u001b[0mdata\u001b[0m\u001b[1;33m,\u001b[0m\u001b[1;33m\u001b[0m\u001b[1;33m\u001b[0m\u001b[0m\n\u001b[0;32m    674\u001b[0m                     \u001b[0mindex\u001b[0m\u001b[1;33m,\u001b[0m\u001b[1;33m\u001b[0m\u001b[1;33m\u001b[0m\u001b[0m\n",
      "\u001b[1;32m~\\.conda\\lib\\site-packages\\pandas\\core\\internals\\construction.py\u001b[0m in \u001b[0;36mndarray_to_mgr\u001b[1;34m(values, index, columns, dtype, copy, typ)\u001b[0m\n\u001b[0;32m    302\u001b[0m         \u001b[1;31m# by definition an array here\u001b[0m\u001b[1;33m\u001b[0m\u001b[1;33m\u001b[0m\u001b[0m\n\u001b[0;32m    303\u001b[0m         \u001b[1;31m# the dtypes will be coerced to a single dtype\u001b[0m\u001b[1;33m\u001b[0m\u001b[1;33m\u001b[0m\u001b[0m\n\u001b[1;32m--> 304\u001b[1;33m         \u001b[0mvalues\u001b[0m \u001b[1;33m=\u001b[0m \u001b[0m_prep_ndarray\u001b[0m\u001b[1;33m(\u001b[0m\u001b[0mvalues\u001b[0m\u001b[1;33m,\u001b[0m \u001b[0mcopy\u001b[0m\u001b[1;33m=\u001b[0m\u001b[0mcopy\u001b[0m\u001b[1;33m)\u001b[0m\u001b[1;33m\u001b[0m\u001b[1;33m\u001b[0m\u001b[0m\n\u001b[0m\u001b[0;32m    305\u001b[0m \u001b[1;33m\u001b[0m\u001b[0m\n\u001b[0;32m    306\u001b[0m     \u001b[1;32mif\u001b[0m \u001b[0mdtype\u001b[0m \u001b[1;32mis\u001b[0m \u001b[1;32mnot\u001b[0m \u001b[1;32mNone\u001b[0m \u001b[1;32mand\u001b[0m \u001b[1;32mnot\u001b[0m \u001b[0mis_dtype_equal\u001b[0m\u001b[1;33m(\u001b[0m\u001b[0mvalues\u001b[0m\u001b[1;33m.\u001b[0m\u001b[0mdtype\u001b[0m\u001b[1;33m,\u001b[0m \u001b[0mdtype\u001b[0m\u001b[1;33m)\u001b[0m\u001b[1;33m:\u001b[0m\u001b[1;33m\u001b[0m\u001b[1;33m\u001b[0m\u001b[0m\n",
      "\u001b[1;32m~\\.conda\\lib\\site-packages\\pandas\\core\\internals\\construction.py\u001b[0m in \u001b[0;36m_prep_ndarray\u001b[1;34m(values, copy)\u001b[0m\n\u001b[0;32m    553\u001b[0m         \u001b[0mvalues\u001b[0m \u001b[1;33m=\u001b[0m \u001b[0mvalues\u001b[0m\u001b[1;33m.\u001b[0m\u001b[0mreshape\u001b[0m\u001b[1;33m(\u001b[0m\u001b[1;33m(\u001b[0m\u001b[0mvalues\u001b[0m\u001b[1;33m.\u001b[0m\u001b[0mshape\u001b[0m\u001b[1;33m[\u001b[0m\u001b[1;36m0\u001b[0m\u001b[1;33m]\u001b[0m\u001b[1;33m,\u001b[0m \u001b[1;36m1\u001b[0m\u001b[1;33m)\u001b[0m\u001b[1;33m)\u001b[0m\u001b[1;33m\u001b[0m\u001b[1;33m\u001b[0m\u001b[0m\n\u001b[0;32m    554\u001b[0m     \u001b[1;32melif\u001b[0m \u001b[0mvalues\u001b[0m\u001b[1;33m.\u001b[0m\u001b[0mndim\u001b[0m \u001b[1;33m!=\u001b[0m \u001b[1;36m2\u001b[0m\u001b[1;33m:\u001b[0m\u001b[1;33m\u001b[0m\u001b[1;33m\u001b[0m\u001b[0m\n\u001b[1;32m--> 555\u001b[1;33m         \u001b[1;32mraise\u001b[0m \u001b[0mValueError\u001b[0m\u001b[1;33m(\u001b[0m\u001b[1;34mf\"Must pass 2-d input. shape={values.shape}\"\u001b[0m\u001b[1;33m)\u001b[0m\u001b[1;33m\u001b[0m\u001b[1;33m\u001b[0m\u001b[0m\n\u001b[0m\u001b[0;32m    556\u001b[0m \u001b[1;33m\u001b[0m\u001b[0m\n\u001b[0;32m    557\u001b[0m     \u001b[1;32mreturn\u001b[0m \u001b[0mvalues\u001b[0m\u001b[1;33m\u001b[0m\u001b[1;33m\u001b[0m\u001b[0m\n",
      "\u001b[1;31mValueError\u001b[0m: Must pass 2-d input. shape=(4, 3, 2)"
     ]
    }
   ],
   "source": [
    "pd.DataFrame(a)"
   ]
  },
  {
   "cell_type": "code",
   "execution_count": 4,
   "id": "fd8833a4",
   "metadata": {},
   "outputs": [],
   "source": [
    "d = np.fromfunction(lambda i , j :i*j , (4,3),dtype = int)"
   ]
  },
  {
   "cell_type": "code",
   "execution_count": 64,
   "id": "303a7bde",
   "metadata": {},
   "outputs": [
    {
     "data": {
      "text/html": [
       "<div>\n",
       "<style scoped>\n",
       "    .dataframe tbody tr th:only-of-type {\n",
       "        vertical-align: middle;\n",
       "    }\n",
       "\n",
       "    .dataframe tbody tr th {\n",
       "        vertical-align: top;\n",
       "    }\n",
       "\n",
       "    .dataframe thead th {\n",
       "        text-align: right;\n",
       "    }\n",
       "</style>\n",
       "<table border=\"1\" class=\"dataframe\">\n",
       "  <thead>\n",
       "    <tr style=\"text-align: right;\">\n",
       "      <th></th>\n",
       "      <th>0</th>\n",
       "      <th>1</th>\n",
       "      <th>2</th>\n",
       "    </tr>\n",
       "  </thead>\n",
       "  <tbody>\n",
       "    <tr>\n",
       "      <th>0</th>\n",
       "      <td>0</td>\n",
       "      <td>0</td>\n",
       "      <td>0</td>\n",
       "    </tr>\n",
       "    <tr>\n",
       "      <th>1</th>\n",
       "      <td>0</td>\n",
       "      <td>1</td>\n",
       "      <td>2</td>\n",
       "    </tr>\n",
       "    <tr>\n",
       "      <th>2</th>\n",
       "      <td>0</td>\n",
       "      <td>2</td>\n",
       "      <td>4</td>\n",
       "    </tr>\n",
       "    <tr>\n",
       "      <th>3</th>\n",
       "      <td>0</td>\n",
       "      <td>3</td>\n",
       "      <td>6</td>\n",
       "    </tr>\n",
       "  </tbody>\n",
       "</table>\n",
       "</div>"
      ],
      "text/plain": [
       "   0  1  2\n",
       "0  0  0  0\n",
       "1  0  1  2\n",
       "2  0  2  4\n",
       "3  0  3  6"
      ]
     },
     "execution_count": 64,
     "metadata": {},
     "output_type": "execute_result"
    }
   ],
   "source": [
    "pd.DataFrame(d)"
   ]
  },
  {
   "cell_type": "code",
   "execution_count": 71,
   "id": "895dfddc",
   "metadata": {},
   "outputs": [
    {
     "data": {
      "text/html": [
       "<div>\n",
       "<style scoped>\n",
       "    .dataframe tbody tr th:only-of-type {\n",
       "        vertical-align: middle;\n",
       "    }\n",
       "\n",
       "    .dataframe tbody tr th {\n",
       "        vertical-align: top;\n",
       "    }\n",
       "\n",
       "    .dataframe thead th {\n",
       "        text-align: right;\n",
       "    }\n",
       "</style>\n",
       "<table border=\"1\" class=\"dataframe\">\n",
       "  <thead>\n",
       "    <tr style=\"text-align: right;\">\n",
       "      <th></th>\n",
       "      <th>0</th>\n",
       "      <th>1</th>\n",
       "      <th>2</th>\n",
       "      <th>3</th>\n",
       "      <th>4</th>\n",
       "    </tr>\n",
       "  </thead>\n",
       "  <tbody>\n",
       "    <tr>\n",
       "      <th>0</th>\n",
       "      <td>0.607400</td>\n",
       "      <td>0.690362</td>\n",
       "      <td>0.607300</td>\n",
       "      <td>0.603865</td>\n",
       "      <td>0.757292</td>\n",
       "    </tr>\n",
       "    <tr>\n",
       "      <th>1</th>\n",
       "      <td>0.089757</td>\n",
       "      <td>0.830047</td>\n",
       "      <td>0.408860</td>\n",
       "      <td>0.741264</td>\n",
       "      <td>0.421868</td>\n",
       "    </tr>\n",
       "    <tr>\n",
       "      <th>2</th>\n",
       "      <td>0.902787</td>\n",
       "      <td>0.800038</td>\n",
       "      <td>0.719530</td>\n",
       "      <td>0.358399</td>\n",
       "      <td>0.924337</td>\n",
       "    </tr>\n",
       "    <tr>\n",
       "      <th>3</th>\n",
       "      <td>0.243748</td>\n",
       "      <td>0.507680</td>\n",
       "      <td>0.080242</td>\n",
       "      <td>0.459119</td>\n",
       "      <td>0.721930</td>\n",
       "    </tr>\n",
       "    <tr>\n",
       "      <th>4</th>\n",
       "      <td>0.708875</td>\n",
       "      <td>0.742769</td>\n",
       "      <td>0.123383</td>\n",
       "      <td>0.351799</td>\n",
       "      <td>0.145069</td>\n",
       "    </tr>\n",
       "    <tr>\n",
       "      <th>...</th>\n",
       "      <td>...</td>\n",
       "      <td>...</td>\n",
       "      <td>...</td>\n",
       "      <td>...</td>\n",
       "      <td>...</td>\n",
       "    </tr>\n",
       "    <tr>\n",
       "      <th>95</th>\n",
       "      <td>0.406416</td>\n",
       "      <td>0.935699</td>\n",
       "      <td>0.165262</td>\n",
       "      <td>0.011655</td>\n",
       "      <td>0.006609</td>\n",
       "    </tr>\n",
       "    <tr>\n",
       "      <th>96</th>\n",
       "      <td>0.543230</td>\n",
       "      <td>0.629670</td>\n",
       "      <td>0.795922</td>\n",
       "      <td>0.202732</td>\n",
       "      <td>0.221427</td>\n",
       "    </tr>\n",
       "    <tr>\n",
       "      <th>97</th>\n",
       "      <td>0.838649</td>\n",
       "      <td>0.674328</td>\n",
       "      <td>0.967956</td>\n",
       "      <td>0.025284</td>\n",
       "      <td>0.840245</td>\n",
       "    </tr>\n",
       "    <tr>\n",
       "      <th>98</th>\n",
       "      <td>0.328526</td>\n",
       "      <td>0.903401</td>\n",
       "      <td>0.156196</td>\n",
       "      <td>0.715633</td>\n",
       "      <td>0.856956</td>\n",
       "    </tr>\n",
       "    <tr>\n",
       "      <th>99</th>\n",
       "      <td>0.032760</td>\n",
       "      <td>0.099642</td>\n",
       "      <td>0.150748</td>\n",
       "      <td>0.622356</td>\n",
       "      <td>0.834487</td>\n",
       "    </tr>\n",
       "  </tbody>\n",
       "</table>\n",
       "<p>100 rows × 5 columns</p>\n",
       "</div>"
      ],
      "text/plain": [
       "           0         1         2         3         4\n",
       "0   0.607400  0.690362  0.607300  0.603865  0.757292\n",
       "1   0.089757  0.830047  0.408860  0.741264  0.421868\n",
       "2   0.902787  0.800038  0.719530  0.358399  0.924337\n",
       "3   0.243748  0.507680  0.080242  0.459119  0.721930\n",
       "4   0.708875  0.742769  0.123383  0.351799  0.145069\n",
       "..       ...       ...       ...       ...       ...\n",
       "95  0.406416  0.935699  0.165262  0.011655  0.006609\n",
       "96  0.543230  0.629670  0.795922  0.202732  0.221427\n",
       "97  0.838649  0.674328  0.967956  0.025284  0.840245\n",
       "98  0.328526  0.903401  0.156196  0.715633  0.856956\n",
       "99  0.032760  0.099642  0.150748  0.622356  0.834487\n",
       "\n",
       "[100 rows x 5 columns]"
      ]
     },
     "execution_count": 71,
     "metadata": {},
     "output_type": "execute_result"
    }
   ],
   "source": [
    "pd.DataFrame(np.random.rand(100,5))"
   ]
  },
  {
   "cell_type": "code",
   "execution_count": 68,
   "id": "4abe662e",
   "metadata": {},
   "outputs": [
    {
     "data": {
      "text/plain": [
       "14"
      ]
     },
     "execution_count": 68,
     "metadata": {},
     "output_type": "execute_result"
    }
   ],
   "source": [
    "np.random.randint(4,50)"
   ]
  },
  {
   "cell_type": "code",
   "execution_count": 70,
   "id": "e8bb1a78",
   "metadata": {},
   "outputs": [
    {
     "data": {
      "text/html": [
       "<div>\n",
       "<style scoped>\n",
       "    .dataframe tbody tr th:only-of-type {\n",
       "        vertical-align: middle;\n",
       "    }\n",
       "\n",
       "    .dataframe tbody tr th {\n",
       "        vertical-align: top;\n",
       "    }\n",
       "\n",
       "    .dataframe thead th {\n",
       "        text-align: right;\n",
       "    }\n",
       "</style>\n",
       "<table border=\"1\" class=\"dataframe\">\n",
       "  <thead>\n",
       "    <tr style=\"text-align: right;\">\n",
       "      <th></th>\n",
       "      <th>0</th>\n",
       "      <th>1</th>\n",
       "      <th>2</th>\n",
       "      <th>3</th>\n",
       "      <th>4</th>\n",
       "    </tr>\n",
       "  </thead>\n",
       "  <tbody>\n",
       "    <tr>\n",
       "      <th>0</th>\n",
       "      <td>1.146105</td>\n",
       "      <td>0.065062</td>\n",
       "      <td>-0.567776</td>\n",
       "      <td>1.363534</td>\n",
       "      <td>0.834894</td>\n",
       "    </tr>\n",
       "    <tr>\n",
       "      <th>1</th>\n",
       "      <td>-0.124961</td>\n",
       "      <td>0.332914</td>\n",
       "      <td>0.822022</td>\n",
       "      <td>1.261901</td>\n",
       "      <td>-2.246455</td>\n",
       "    </tr>\n",
       "    <tr>\n",
       "      <th>2</th>\n",
       "      <td>1.293278</td>\n",
       "      <td>1.174499</td>\n",
       "      <td>0.174734</td>\n",
       "      <td>1.195384</td>\n",
       "      <td>-2.020629</td>\n",
       "    </tr>\n",
       "    <tr>\n",
       "      <th>3</th>\n",
       "      <td>-1.834795</td>\n",
       "      <td>2.983770</td>\n",
       "      <td>-1.170411</td>\n",
       "      <td>-0.963198</td>\n",
       "      <td>-0.678446</td>\n",
       "    </tr>\n",
       "  </tbody>\n",
       "</table>\n",
       "</div>"
      ],
      "text/plain": [
       "          0         1         2         3         4\n",
       "0  1.146105  0.065062 -0.567776  1.363534  0.834894\n",
       "1 -0.124961  0.332914  0.822022  1.261901 -2.246455\n",
       "2  1.293278  1.174499  0.174734  1.195384 -2.020629\n",
       "3 -1.834795  2.983770 -1.170411 -0.963198 -0.678446"
      ]
     },
     "execution_count": 70,
     "metadata": {},
     "output_type": "execute_result"
    }
   ],
   "source": [
    "pd.DataFrame(np.random.randn(4,5))"
   ]
  },
  {
   "cell_type": "code",
   "execution_count": 79,
   "id": "cf2044f3",
   "metadata": {},
   "outputs": [
    {
     "data": {
      "text/plain": [
       "array([[[[0, 0, 0]],\n",
       "\n",
       "        [[0, 0, 0]]],\n",
       "\n",
       "\n",
       "       [[[0, 0, 0]],\n",
       "\n",
       "        [[1, 0, 2]]],\n",
       "\n",
       "\n",
       "       [[[0, 0, 0]],\n",
       "\n",
       "        [[2, 0, 4]]],\n",
       "\n",
       "\n",
       "       [[[0, 0, 0]],\n",
       "\n",
       "        [[3, 0, 6]]]])"
      ]
     },
     "execution_count": 79,
     "metadata": {},
     "output_type": "execute_result"
    }
   ],
   "source": [
    "a.reshape(4,2,1,3)\n",
    "#combination is equal to shape of array"
   ]
  },
  {
   "cell_type": "code",
   "execution_count": 82,
   "id": "253512aa",
   "metadata": {},
   "outputs": [
    {
     "data": {
      "text/plain": [
       "array([[[0, 0, 0],\n",
       "        [0, 0, 0]],\n",
       "\n",
       "       [[0, 0, 0],\n",
       "        [1, 0, 2]],\n",
       "\n",
       "       [[0, 0, 0],\n",
       "        [2, 0, 4]],\n",
       "\n",
       "       [[0, 0, 0],\n",
       "        [3, 0, 6]]])"
      ]
     },
     "execution_count": 82,
     "metadata": {},
     "output_type": "execute_result"
    }
   ],
   "source": [
    "a.reshape(4,2,-1)"
   ]
  },
  {
   "cell_type": "code",
   "execution_count": 87,
   "id": "1c9cf582",
   "metadata": {},
   "outputs": [],
   "source": [
    "c = np.arange(4,10.5,.2)"
   ]
  },
  {
   "cell_type": "code",
   "execution_count": 88,
   "id": "3bbf8a5a",
   "metadata": {},
   "outputs": [
    {
     "data": {
      "text/plain": [
       "array([4.2, 4.4, 4.6, 4.8])"
      ]
     },
     "execution_count": 88,
     "metadata": {},
     "output_type": "execute_result"
    }
   ],
   "source": [
    "c[1:5]"
   ]
  },
  {
   "cell_type": "code",
   "execution_count": 89,
   "id": "4771d53e",
   "metadata": {},
   "outputs": [],
   "source": [
    "arr = np.random.rand(4,5)"
   ]
  },
  {
   "cell_type": "code",
   "execution_count": 90,
   "id": "b1123c56",
   "metadata": {},
   "outputs": [
    {
     "data": {
      "text/plain": [
       "array([[0.26145727, 0.02370888, 0.18184346, 0.74269917, 0.00682236],\n",
       "       [0.39278852, 0.1531476 , 0.4015706 , 0.53603244, 0.12434929],\n",
       "       [0.11240678, 0.71441483, 0.73284806, 0.53663166, 0.81948653],\n",
       "       [0.27059469, 0.91163925, 0.026886  , 0.36719983, 0.49033277]])"
      ]
     },
     "execution_count": 90,
     "metadata": {},
     "output_type": "execute_result"
    }
   ],
   "source": [
    "arr"
   ]
  },
  {
   "cell_type": "code",
   "execution_count": 92,
   "id": "2ba22789",
   "metadata": {},
   "outputs": [
    {
     "data": {
      "text/plain": [
       "array([0.74269917, 0.53603244, 0.71441483, 0.73284806, 0.53663166,\n",
       "       0.81948653, 0.91163925])"
      ]
     },
     "execution_count": 92,
     "metadata": {},
     "output_type": "execute_result"
    }
   ],
   "source": [
    "arr[arr > .5]"
   ]
  },
  {
   "cell_type": "code",
   "execution_count": 93,
   "id": "689a91ac",
   "metadata": {},
   "outputs": [
    {
     "data": {
      "text/plain": [
       "array([0.4015706 , 0.73284806])"
      ]
     },
     "execution_count": 93,
     "metadata": {},
     "output_type": "execute_result"
    }
   ],
   "source": [
    "arr[[1,2],[2]]"
   ]
  },
  {
   "cell_type": "code",
   "execution_count": 94,
   "id": "a74f606c",
   "metadata": {},
   "outputs": [],
   "source": [
    "arr = np.random.rand(8,5)"
   ]
  },
  {
   "cell_type": "code",
   "execution_count": 95,
   "id": "8c55515e",
   "metadata": {},
   "outputs": [
    {
     "data": {
      "text/plain": [
       "array([[0.79586341, 0.3196374 , 0.60562751, 0.75541555, 0.85243145],\n",
       "       [0.44949145, 0.22422357, 0.88047576, 0.83142242, 0.20423391],\n",
       "       [0.70204672, 0.91567081, 0.83857582, 0.49281552, 0.84978881],\n",
       "       [0.39864664, 0.46974239, 0.58669657, 0.19198765, 0.51743746],\n",
       "       [0.52785732, 0.61363528, 0.02875521, 0.40170208, 0.19683357],\n",
       "       [0.63235536, 0.53565745, 0.32768748, 0.01588801, 0.72102475],\n",
       "       [0.0559694 , 0.31992096, 0.79717169, 0.82922784, 0.11699623],\n",
       "       [0.95723212, 0.00873618, 0.82711849, 0.37688179, 0.90306311]])"
      ]
     },
     "execution_count": 95,
     "metadata": {},
     "output_type": "execute_result"
    }
   ],
   "source": [
    "arr"
   ]
  },
  {
   "cell_type": "code",
   "execution_count": 97,
   "id": "3976ca9e",
   "metadata": {},
   "outputs": [
    {
     "data": {
      "text/plain": [
       "array([[0.44949145, 0.22422357, 0.88047576],\n",
       "       [0.70204672, 0.91567081, 0.83857582],\n",
       "       [0.39864664, 0.46974239, 0.58669657],\n",
       "       [0.52785732, 0.61363528, 0.02875521],\n",
       "       [0.63235536, 0.53565745, 0.32768748],\n",
       "       [0.0559694 , 0.31992096, 0.79717169],\n",
       "       [0.95723212, 0.00873618, 0.82711849]])"
      ]
     },
     "execution_count": 97,
     "metadata": {},
     "output_type": "execute_result"
    }
   ],
   "source": [
    "arr[1:8 , 0:3]"
   ]
  },
  {
   "cell_type": "code",
   "execution_count": 100,
   "id": "31376991",
   "metadata": {},
   "outputs": [],
   "source": [
    "a2 = arr[1:8,[0,1,2]]"
   ]
  },
  {
   "cell_type": "code",
   "execution_count": 102,
   "id": "00ff988a",
   "metadata": {},
   "outputs": [],
   "source": [
    "a2[0][0]=100"
   ]
  },
  {
   "cell_type": "code",
   "execution_count": 103,
   "id": "ad1ae518",
   "metadata": {},
   "outputs": [
    {
     "data": {
      "text/plain": [
       "array([[1.00000000e+02, 2.24223572e-01, 8.80475761e-01],\n",
       "       [7.02046724e-01, 9.15670814e-01, 8.38575820e-01],\n",
       "       [3.98646639e-01, 4.69742387e-01, 5.86696573e-01],\n",
       "       [5.27857318e-01, 6.13635275e-01, 2.87552131e-02],\n",
       "       [6.32355355e-01, 5.35657454e-01, 3.27687484e-01],\n",
       "       [5.59693953e-02, 3.19920956e-01, 7.97171685e-01],\n",
       "       [9.57232120e-01, 8.73618216e-03, 8.27118495e-01]])"
      ]
     },
     "execution_count": 103,
     "metadata": {},
     "output_type": "execute_result"
    }
   ],
   "source": [
    "a2"
   ]
  },
  {
   "cell_type": "code",
   "execution_count": 104,
   "id": "57f7e068",
   "metadata": {},
   "outputs": [],
   "source": [
    "a = np.array([[1,2],[3,4]])\n",
    "b = np.array([[2,3],[4,5]])"
   ]
  },
  {
   "cell_type": "code",
   "execution_count": 106,
   "id": "3bd76c44",
   "metadata": {},
   "outputs": [],
   "source": [
    "c = np.mat(a)\n",
    "d = np.mat(b)"
   ]
  },
  {
   "cell_type": "code",
   "execution_count": 107,
   "id": "a5a0c0ab",
   "metadata": {},
   "outputs": [
    {
     "data": {
      "text/plain": [
       "matrix([[10, 13],\n",
       "        [22, 29]])"
      ]
     },
     "execution_count": 107,
     "metadata": {},
     "output_type": "execute_result"
    }
   ],
   "source": [
    "c*d"
   ]
  },
  {
   "cell_type": "code",
   "execution_count": 108,
   "id": "4adc2df2",
   "metadata": {},
   "outputs": [
    {
     "data": {
      "text/plain": [
       "array([[ 2,  6],\n",
       "       [12, 20]])"
      ]
     },
     "execution_count": 108,
     "metadata": {},
     "output_type": "execute_result"
    }
   ],
   "source": [
    "a*b"
   ]
  },
  {
   "cell_type": "code",
   "execution_count": 111,
   "id": "577c7f61",
   "metadata": {},
   "outputs": [],
   "source": [
    "m = a@b#@ is use for matrix multiplication"
   ]
  },
  {
   "cell_type": "code",
   "execution_count": 112,
   "id": "0fb31bb0",
   "metadata": {},
   "outputs": [
    {
     "name": "stderr",
     "output_type": "stream",
     "text": [
      "C:\\Users\\VIJITK~1\\AppData\\Local\\Temp/ipykernel_11252/3791875896.py:1: RuntimeWarning: divide by zero encountered in true_divide\n",
      "  m/0\n"
     ]
    },
    {
     "data": {
      "text/plain": [
       "array([[inf, inf],\n",
       "       [inf, inf]])"
      ]
     },
     "execution_count": 112,
     "metadata": {},
     "output_type": "execute_result"
    }
   ],
   "source": [
    "m/0"
   ]
  },
  {
   "cell_type": "code",
   "execution_count": 1,
   "id": "eb78fea6",
   "metadata": {},
   "outputs": [],
   "source": [
    "import numpy as np"
   ]
  },
  {
   "cell_type": "code",
   "execution_count": 9,
   "id": "94453d42",
   "metadata": {},
   "outputs": [
    {
     "data": {
      "text/plain": [
       "(array([[[[ 0,  0,  0],\n",
       "          [ 0,  0,  0]],\n",
       " \n",
       "         [[ 0,  0,  0],\n",
       "          [ 0,  0,  0]],\n",
       " \n",
       "         [[ 0,  0,  0],\n",
       "          [ 0,  0,  0]]],\n",
       " \n",
       " \n",
       "        [[[ 0,  0,  0],\n",
       "          [ 0,  0,  0]],\n",
       " \n",
       "         [[ 0,  0,  0],\n",
       "          [ 0,  1,  2]],\n",
       " \n",
       "         [[ 0,  0,  0],\n",
       "          [ 0,  2,  4]]],\n",
       " \n",
       " \n",
       "        [[[ 0,  0,  0],\n",
       "          [ 0,  0,  0]],\n",
       " \n",
       "         [[ 0,  0,  0],\n",
       "          [ 0,  2,  4]],\n",
       " \n",
       "         [[ 0,  0,  0],\n",
       "          [ 0,  4,  8]]],\n",
       " \n",
       " \n",
       "        [[[ 0,  0,  0],\n",
       "          [ 0,  0,  0]],\n",
       " \n",
       "         [[ 0,  0,  0],\n",
       "          [ 0,  3,  6]],\n",
       " \n",
       "         [[ 0,  0,  0],\n",
       "          [ 0,  6, 12]]]]),)"
      ]
     },
     "execution_count": 9,
     "metadata": {},
     "output_type": "execute_result"
    }
   ],
   "source": [
    "np.fromfunction(lambda i , j ,k , p: i*j*k*p ,(4,3,2,3),dtype = 'int'),"
   ]
  },
  {
   "cell_type": "code",
   "execution_count": 5,
   "id": "88b9f279",
   "metadata": {},
   "outputs": [
    {
     "data": {
      "text/plain": [
       "array([[0, 0, 0],\n",
       "       [0, 1, 2],\n",
       "       [0, 2, 4],\n",
       "       [0, 3, 6]])"
      ]
     },
     "execution_count": 5,
     "metadata": {},
     "output_type": "execute_result"
    }
   ],
   "source": [
    "d"
   ]
  },
  {
   "cell_type": "code",
   "execution_count": 10,
   "id": "6c62dc5e",
   "metadata": {},
   "outputs": [
    {
     "data": {
      "text/plain": [
       "array([1, 2, 3])"
      ]
     },
     "execution_count": 10,
     "metadata": {},
     "output_type": "execute_result"
    }
   ],
   "source": [
    "l = [1,2,3]\n",
    "np.asanyarray(l)"
   ]
  },
  {
   "cell_type": "code",
   "execution_count": 11,
   "id": "8fb890bb",
   "metadata": {},
   "outputs": [
    {
     "data": {
      "text/plain": [
       "array([0., 0., 0., 0., 0.])"
      ]
     },
     "execution_count": 11,
     "metadata": {},
     "output_type": "execute_result"
    }
   ],
   "source": [
    "np.zeros(5)"
   ]
  },
  {
   "cell_type": "code",
   "execution_count": 13,
   "id": "3f5807aa",
   "metadata": {},
   "outputs": [
    {
     "data": {
      "text/plain": [
       "array([[[0., 0., 0., 0.],\n",
       "        [0., 0., 0., 0.],\n",
       "        [0., 0., 0., 0.]],\n",
       "\n",
       "       [[0., 0., 0., 0.],\n",
       "        [0., 0., 0., 0.],\n",
       "        [0., 0., 0., 0.]],\n",
       "\n",
       "       [[0., 0., 0., 0.],\n",
       "        [0., 0., 0., 0.],\n",
       "        [0., 0., 0., 0.]]])"
      ]
     },
     "execution_count": 13,
     "metadata": {},
     "output_type": "execute_result"
    }
   ],
   "source": [
    "np.zeros((3,3,4))"
   ]
  },
  {
   "cell_type": "code",
   "execution_count": 14,
   "id": "a2c64b62",
   "metadata": {},
   "outputs": [
    {
     "data": {
      "text/plain": [
       "array([1., 1., 1., 1., 1.])"
      ]
     },
     "execution_count": 14,
     "metadata": {},
     "output_type": "execute_result"
    }
   ],
   "source": [
    "np.ones(5)"
   ]
  },
  {
   "cell_type": "code",
   "execution_count": 15,
   "id": "697545e4",
   "metadata": {},
   "outputs": [
    {
     "data": {
      "text/plain": [
       "array([[1., 1., 1., 1., 1., 1.],\n",
       "       [1., 1., 1., 1., 1., 1.],\n",
       "       [1., 1., 1., 1., 1., 1.]])"
      ]
     },
     "execution_count": 15,
     "metadata": {},
     "output_type": "execute_result"
    }
   ],
   "source": [
    "np.ones((3,6))"
   ]
  },
  {
   "cell_type": "code",
   "execution_count": 16,
   "id": "aa75a12f",
   "metadata": {},
   "outputs": [
    {
     "data": {
      "text/plain": [
       "array([[5., 5., 5., 5.],\n",
       "       [5., 5., 5., 5.],\n",
       "       [5., 5., 5., 5.]])"
      ]
     },
     "execution_count": 16,
     "metadata": {},
     "output_type": "execute_result"
    }
   ],
   "source": [
    "5+np.zeros((3,4))"
   ]
  },
  {
   "cell_type": "code",
   "execution_count": 17,
   "id": "cbd923f5",
   "metadata": {},
   "outputs": [
    {
     "data": {
      "text/plain": [
       "array([[1.03912661e-311, 6.27463370e-322, 0.00000000e+000,\n",
       "        0.00000000e+000, 1.20156161e-306],\n",
       "       [1.15998412e-028, 4.31603868e-080, 1.94919985e-153,\n",
       "        1.03063392e-113, 1.05117820e-153],\n",
       "       [6.01391519e-154, 7.65733063e-096, 1.03080435e+136,\n",
       "        6.01347002e-154, 1.05146955e-153],\n",
       "       [5.79937868e+294, 3.45365695e+175, 2.77191367e+296,\n",
       "        2.91237123e+257, 4.71294503e+257]])"
      ]
     },
     "execution_count": 17,
     "metadata": {},
     "output_type": "execute_result"
    }
   ],
   "source": [
    "np.empty((4,5))"
   ]
  },
  {
   "cell_type": "code",
   "execution_count": 37,
   "id": "57fe423b",
   "metadata": {},
   "outputs": [
    {
     "data": {
      "text/plain": [
       "(array([2.  , 2.04, 2.08, 2.12, 2.16, 2.2 , 2.24, 2.28, 2.32, 2.36, 2.4 ,\n",
       "        2.44, 2.48, 2.52, 2.56, 2.6 , 2.64, 2.68, 2.72, 2.76, 2.8 , 2.84,\n",
       "        2.88, 2.92, 2.96, 3.  , 3.04, 3.08, 3.12, 3.16, 3.2 , 3.24, 3.28,\n",
       "        3.32, 3.36, 3.4 , 3.44, 3.48, 3.52, 3.56, 3.6 , 3.64, 3.68, 3.72,\n",
       "        3.76, 3.8 , 3.84, 3.88, 3.92, 3.96, 4.  , 4.04, 4.08, 4.12, 4.16,\n",
       "        4.2 , 4.24, 4.28, 4.32, 4.36, 4.4 , 4.44, 4.48, 4.52, 4.56, 4.6 ,\n",
       "        4.64, 4.68, 4.72, 4.76, 4.8 , 4.84, 4.88, 4.92, 4.96, 5.  , 5.04,\n",
       "        5.08, 5.12, 5.16, 5.2 , 5.24, 5.28, 5.32, 5.36, 5.4 , 5.44, 5.48,\n",
       "        5.52, 5.56, 5.6 , 5.64, 5.68, 5.72, 5.76, 5.8 , 5.84, 5.88, 5.92,\n",
       "        5.96]),\n",
       " 0.04)"
      ]
     },
     "execution_count": 37,
     "metadata": {},
     "output_type": "execute_result"
    }
   ],
   "source": [
    "np.linspace(2,6,num = 100,endpoint=False,retstep=True)"
   ]
  },
  {
   "cell_type": "code",
   "execution_count": 24,
   "id": "7c04fe26",
   "metadata": {},
   "outputs": [],
   "source": [
    "a = np.arange(1,6,.2)"
   ]
  },
  {
   "cell_type": "code",
   "execution_count": 26,
   "id": "6db2a48b",
   "metadata": {},
   "outputs": [],
   "source": [
    "b = np.arange(6,9,0.2)"
   ]
  },
  {
   "cell_type": "code",
   "execution_count": 42,
   "id": "9f7e6989",
   "metadata": {},
   "outputs": [
    {
     "data": {
      "text/plain": [
       "array([  100.        ,   166.81005372,   278.25594022,   464.15888336,\n",
       "         774.26368268,  1291.54966501,  2154.43469003,  3593.8136638 ,\n",
       "        5994.84250319, 10000.        ])"
      ]
     },
     "execution_count": 42,
     "metadata": {},
     "output_type": "execute_result"
    }
   ],
   "source": [
    "np.logspace(2,4,10,base= 10)"
   ]
  },
  {
   "cell_type": "code",
   "execution_count": 44,
   "id": "27a4190d",
   "metadata": {},
   "outputs": [
    {
     "data": {
      "text/plain": [
       "(array([2.        , 2.22222222, 2.44444444, 2.66666667, 2.88888889,\n",
       "        3.11111111, 3.33333333, 3.55555556, 3.77777778, 4.        ]),\n",
       " 0.2222222222222222)"
      ]
     },
     "execution_count": 44,
     "metadata": {},
     "output_type": "execute_result"
    }
   ],
   "source": [
    "np.linspace(2,4,10,retstep=True)"
   ]
  },
  {
   "cell_type": "code",
   "execution_count": 56,
   "id": "9a9026ed",
   "metadata": {},
   "outputs": [],
   "source": [
    "a = np.random.rand(4,4)"
   ]
  },
  {
   "cell_type": "code",
   "execution_count": 57,
   "id": "347ff9f3",
   "metadata": {},
   "outputs": [
    {
     "data": {
      "text/plain": [
       "array([[0.75668484, 0.57455651, 0.41423385, 0.51563612],\n",
       "       [0.50653955, 0.93343234, 0.23289492, 0.52262372],\n",
       "       [0.52347962, 0.93916736, 0.80682722, 0.69044316],\n",
       "       [0.8160601 , 0.90825249, 0.65251173, 0.12480871]])"
      ]
     },
     "execution_count": 57,
     "metadata": {},
     "output_type": "execute_result"
    }
   ],
   "source": [
    "a"
   ]
  },
  {
   "cell_type": "code",
   "execution_count": 58,
   "id": "8591da74",
   "metadata": {},
   "outputs": [
    {
     "data": {
      "text/plain": [
       "0.9391673635597643"
      ]
     },
     "execution_count": 58,
     "metadata": {},
     "output_type": "execute_result"
    }
   ],
   "source": [
    "a.max()"
   ]
  },
  {
   "cell_type": "code",
   "execution_count": 62,
   "id": "4d9830a5",
   "metadata": {},
   "outputs": [],
   "source": [
    "b = np.arange(4,40).reshape(3,6,2)"
   ]
  },
  {
   "cell_type": "code",
   "execution_count": 63,
   "id": "da8ff98b",
   "metadata": {},
   "outputs": [
    {
     "data": {
      "text/plain": [
       "36"
      ]
     },
     "execution_count": 63,
     "metadata": {},
     "output_type": "execute_result"
    }
   ],
   "source": [
    "b.size"
   ]
  },
  {
   "cell_type": "code",
   "execution_count": 65,
   "id": "90407bdd",
   "metadata": {},
   "outputs": [
    {
     "data": {
      "text/plain": [
       "array([[[ 4,  5],\n",
       "        [ 6,  7],\n",
       "        [ 8,  9],\n",
       "        [10, 11],\n",
       "        [12, 13],\n",
       "        [14, 15]],\n",
       "\n",
       "       [[16, 17],\n",
       "        [18, 19],\n",
       "        [20, 21],\n",
       "        [22, 23],\n",
       "        [24, 25],\n",
       "        [26, 27]],\n",
       "\n",
       "       [[28, 29],\n",
       "        [30, 31],\n",
       "        [32, 33],\n",
       "        [34, 35],\n",
       "        [36, 37],\n",
       "        [38, 39]]])"
      ]
     },
     "execution_count": 65,
     "metadata": {},
     "output_type": "execute_result"
    }
   ],
   "source": [
    "b"
   ]
  },
  {
   "cell_type": "code",
   "execution_count": 74,
   "id": "4bf9b255",
   "metadata": {},
   "outputs": [
    {
     "data": {
      "text/plain": [
       "array([[28, 29],\n",
       "       [30, 31],\n",
       "       [32, 33],\n",
       "       [34, 35],\n",
       "       [36, 37],\n",
       "       [38, 39]])"
      ]
     },
     "execution_count": 74,
     "metadata": {},
     "output_type": "execute_result"
    }
   ],
   "source": [
    "b.max(axis = 0)"
   ]
  },
  {
   "cell_type": "code",
   "execution_count": 68,
   "id": "9525a753",
   "metadata": {},
   "outputs": [],
   "source": [
    "c =  np.arange(4,40).reshape(6,6)"
   ]
  },
  {
   "cell_type": "code",
   "execution_count": 72,
   "id": "b7ac78ab",
   "metadata": {},
   "outputs": [
    {
     "data": {
      "text/plain": [
       "array([ 9, 15, 21, 27, 33, 39])"
      ]
     },
     "execution_count": 72,
     "metadata": {},
     "output_type": "execute_result"
    }
   ],
   "source": [
    "c.max(axis=1)"
   ]
  },
  {
   "cell_type": "code",
   "execution_count": 73,
   "id": "bbed4cef",
   "metadata": {},
   "outputs": [
    {
     "data": {
      "text/plain": [
       "array([34, 35, 36, 37, 38, 39])"
      ]
     },
     "execution_count": 73,
     "metadata": {},
     "output_type": "execute_result"
    }
   ],
   "source": [
    "c.max(axis=0)"
   ]
  },
  {
   "cell_type": "code",
   "execution_count": 71,
   "id": "2838183f",
   "metadata": {},
   "outputs": [
    {
     "data": {
      "text/plain": [
       "array([[ 4,  5,  6,  7,  8,  9],\n",
       "       [10, 11, 12, 13, 14, 15],\n",
       "       [16, 17, 18, 19, 20, 21],\n",
       "       [22, 23, 24, 25, 26, 27],\n",
       "       [28, 29, 30, 31, 32, 33],\n",
       "       [34, 35, 36, 37, 38, 39]])"
      ]
     },
     "execution_count": 71,
     "metadata": {},
     "output_type": "execute_result"
    }
   ],
   "source": [
    "c"
   ]
  },
  {
   "cell_type": "code",
   "execution_count": 75,
   "id": "78868e61",
   "metadata": {},
   "outputs": [
    {
     "data": {
      "text/plain": [
       "array([[14, 15, 16, 17, 18, 19],\n",
       "       [20, 21, 22, 23, 24, 25],\n",
       "       [26, 27, 28, 29, 30, 31],\n",
       "       [32, 33, 34, 35, 36, 37],\n",
       "       [38, 39, 40, 41, 42, 43],\n",
       "       [44, 45, 46, 47, 48, 49]])"
      ]
     },
     "execution_count": 75,
     "metadata": {},
     "output_type": "execute_result"
    }
   ],
   "source": [
    "10+c"
   ]
  },
  {
   "cell_type": "code",
   "execution_count": 76,
   "id": "7bf8b58a",
   "metadata": {},
   "outputs": [
    {
     "data": {
      "text/plain": [
       "array([[ 2. ,  2.5,  3. ,  3.5,  4. ,  4.5],\n",
       "       [ 5. ,  5.5,  6. ,  6.5,  7. ,  7.5],\n",
       "       [ 8. ,  8.5,  9. ,  9.5, 10. , 10.5],\n",
       "       [11. , 11.5, 12. , 12.5, 13. , 13.5],\n",
       "       [14. , 14.5, 15. , 15.5, 16. , 16.5],\n",
       "       [17. , 17.5, 18. , 18.5, 19. , 19.5]])"
      ]
     },
     "execution_count": 76,
     "metadata": {},
     "output_type": "execute_result"
    }
   ],
   "source": [
    "c/2"
   ]
  },
  {
   "cell_type": "code",
   "execution_count": 77,
   "id": "15291ce8",
   "metadata": {},
   "outputs": [
    {
     "name": "stderr",
     "output_type": "stream",
     "text": [
      "C:\\Users\\VIJITK~1\\AppData\\Local\\Temp/ipykernel_7580/97081324.py:1: RuntimeWarning: divide by zero encountered in true_divide\n",
      "  c/0\n"
     ]
    },
    {
     "data": {
      "text/plain": [
       "array([[inf, inf, inf, inf, inf, inf],\n",
       "       [inf, inf, inf, inf, inf, inf],\n",
       "       [inf, inf, inf, inf, inf, inf],\n",
       "       [inf, inf, inf, inf, inf, inf],\n",
       "       [inf, inf, inf, inf, inf, inf],\n",
       "       [inf, inf, inf, inf, inf, inf]])"
      ]
     },
     "execution_count": 77,
     "metadata": {},
     "output_type": "execute_result"
    }
   ],
   "source": [
    "c/0"
   ]
  },
  {
   "cell_type": "code",
   "execution_count": 78,
   "id": "bcbfd512",
   "metadata": {},
   "outputs": [],
   "source": [
    " b= np.array([2,3,1,2,3,4])"
   ]
  },
  {
   "cell_type": "code",
   "execution_count": 79,
   "id": "c8d1ac85",
   "metadata": {},
   "outputs": [
    {
     "data": {
      "text/plain": [
       "array([[ 6,  8,  7,  9, 11, 13],\n",
       "       [12, 14, 13, 15, 17, 19],\n",
       "       [18, 20, 19, 21, 23, 25],\n",
       "       [24, 26, 25, 27, 29, 31],\n",
       "       [30, 32, 31, 33, 35, 37],\n",
       "       [36, 38, 37, 39, 41, 43]])"
      ]
     },
     "execution_count": 79,
     "metadata": {},
     "output_type": "execute_result"
    }
   ],
   "source": [
    "c+b"
   ]
  },
  {
   "cell_type": "code",
   "execution_count": 84,
   "id": "3d3fa735",
   "metadata": {},
   "outputs": [],
   "source": [
    "b = b.reshape(1,-1)"
   ]
  },
  {
   "cell_type": "code",
   "execution_count": 89,
   "id": "cf00eccb",
   "metadata": {},
   "outputs": [],
   "source": [
    "b = b.T"
   ]
  },
  {
   "cell_type": "code",
   "execution_count": 90,
   "id": "755d1a9c",
   "metadata": {},
   "outputs": [
    {
     "data": {
      "text/plain": [
       "array([[ 6,  7,  8,  9, 10, 11],\n",
       "       [13, 14, 15, 16, 17, 18],\n",
       "       [17, 18, 19, 20, 21, 22],\n",
       "       [24, 25, 26, 27, 28, 29],\n",
       "       [31, 32, 33, 34, 35, 36],\n",
       "       [38, 39, 40, 41, 42, 43]])"
      ]
     },
     "execution_count": 90,
     "metadata": {},
     "output_type": "execute_result"
    }
   ],
   "source": [
    "c+b"
   ]
  },
  {
   "cell_type": "code",
   "execution_count": 91,
   "id": "b1f9a07d",
   "metadata": {},
   "outputs": [
    {
     "data": {
      "text/plain": [
       "array([[ 4,  5,  6,  7,  8,  9],\n",
       "       [10, 11, 12, 13, 14, 15],\n",
       "       [16, 17, 18, 19, 20, 21],\n",
       "       [22, 23, 24, 25, 26, 27],\n",
       "       [28, 29, 30, 31, 32, 33],\n",
       "       [34, 35, 36, 37, 38, 39]])"
      ]
     },
     "execution_count": 91,
     "metadata": {},
     "output_type": "execute_result"
    }
   ],
   "source": [
    "c"
   ]
  },
  {
   "cell_type": "code",
   "execution_count": 92,
   "id": "4fae51e9",
   "metadata": {},
   "outputs": [
    {
     "data": {
      "text/plain": [
       "array([[1.38629436, 1.60943791, 1.79175947, 1.94591015, 2.07944154,\n",
       "        2.19722458],\n",
       "       [2.30258509, 2.39789527, 2.48490665, 2.56494936, 2.63905733,\n",
       "        2.7080502 ],\n",
       "       [2.77258872, 2.83321334, 2.89037176, 2.94443898, 2.99573227,\n",
       "        3.04452244],\n",
       "       [3.09104245, 3.13549422, 3.17805383, 3.21887582, 3.25809654,\n",
       "        3.29583687],\n",
       "       [3.33220451, 3.36729583, 3.40119738, 3.4339872 , 3.4657359 ,\n",
       "        3.49650756],\n",
       "       [3.52636052, 3.55534806, 3.58351894, 3.61091791, 3.63758616,\n",
       "        3.66356165]])"
      ]
     },
     "execution_count": 92,
     "metadata": {},
     "output_type": "execute_result"
    }
   ],
   "source": [
    "np.log(c)"
   ]
  },
  {
   "cell_type": "code",
   "execution_count": 93,
   "id": "ab53c41c",
   "metadata": {},
   "outputs": [],
   "source": [
    "x = np.array([1,2,3])"
   ]
  },
  {
   "cell_type": "code",
   "execution_count": 94,
   "id": "45f67426",
   "metadata": {},
   "outputs": [],
   "source": [
    "y = x"
   ]
  },
  {
   "cell_type": "code",
   "execution_count": 95,
   "id": "91f5d99a",
   "metadata": {},
   "outputs": [
    {
     "data": {
      "text/plain": [
       "array([1, 2, 3])"
      ]
     },
     "execution_count": 95,
     "metadata": {},
     "output_type": "execute_result"
    }
   ],
   "source": [
    "y"
   ]
  },
  {
   "cell_type": "code",
   "execution_count": 96,
   "id": "f7eacdec",
   "metadata": {},
   "outputs": [],
   "source": [
    "z = np.copy(x)"
   ]
  },
  {
   "cell_type": "code",
   "execution_count": 97,
   "id": "591f181f",
   "metadata": {},
   "outputs": [
    {
     "data": {
      "text/plain": [
       "array([1, 2, 3])"
      ]
     },
     "execution_count": 97,
     "metadata": {},
     "output_type": "execute_result"
    }
   ],
   "source": [
    "z"
   ]
  },
  {
   "cell_type": "code",
   "execution_count": 98,
   "id": "722ca7f5",
   "metadata": {},
   "outputs": [],
   "source": [
    "x[0] = 100"
   ]
  },
  {
   "cell_type": "code",
   "execution_count": 99,
   "id": "479ab938",
   "metadata": {},
   "outputs": [
    {
     "data": {
      "text/plain": [
       "array([100,   2,   3])"
      ]
     },
     "execution_count": 99,
     "metadata": {},
     "output_type": "execute_result"
    }
   ],
   "source": [
    "y"
   ]
  },
  {
   "cell_type": "code",
   "execution_count": 100,
   "id": "c5ff794e",
   "metadata": {},
   "outputs": [
    {
     "data": {
      "text/plain": [
       "array([1, 2, 3])"
      ]
     },
     "execution_count": 100,
     "metadata": {},
     "output_type": "execute_result"
    }
   ],
   "source": [
    "z"
   ]
  },
  {
   "cell_type": "code",
   "execution_count": 101,
   "id": "31207967",
   "metadata": {},
   "outputs": [
    {
     "data": {
      "text/plain": [
       "array([100,   2,   3])"
      ]
     },
     "execution_count": 101,
     "metadata": {},
     "output_type": "execute_result"
    }
   ],
   "source": [
    "x"
   ]
  },
  {
   "cell_type": "code",
   "execution_count": 102,
   "id": "f1aef92a",
   "metadata": {},
   "outputs": [
    {
     "data": {
      "text/plain": [
       "2103275356208"
      ]
     },
     "execution_count": 102,
     "metadata": {},
     "output_type": "execute_result"
    }
   ],
   "source": [
    "id(z)"
   ]
  },
  {
   "cell_type": "code",
   "execution_count": 103,
   "id": "6d31074a",
   "metadata": {},
   "outputs": [
    {
     "data": {
      "text/plain": [
       "2103275359280"
      ]
     },
     "execution_count": 103,
     "metadata": {},
     "output_type": "execute_result"
    }
   ],
   "source": [
    "id(x)"
   ]
  },
  {
   "cell_type": "code",
   "execution_count": 104,
   "id": "b03f794e",
   "metadata": {},
   "outputs": [
    {
     "data": {
      "text/plain": [
       "2103275359280"
      ]
     },
     "execution_count": 104,
     "metadata": {},
     "output_type": "execute_result"
    }
   ],
   "source": [
    "id(y)"
   ]
  },
  {
   "cell_type": "code",
   "execution_count": 105,
   "id": "61919f75",
   "metadata": {},
   "outputs": [
    {
     "data": {
      "text/plain": [
       "2103269784176"
      ]
     },
     "execution_count": 105,
     "metadata": {},
     "output_type": "execute_result"
    }
   ],
   "source": [
    "id(x[0])"
   ]
  },
  {
   "cell_type": "code",
   "execution_count": 106,
   "id": "82028695",
   "metadata": {},
   "outputs": [
    {
     "data": {
      "text/plain": [
       "2103269782224"
      ]
     },
     "execution_count": 106,
     "metadata": {},
     "output_type": "execute_result"
    }
   ],
   "source": [
    "id(y[0])"
   ]
  },
  {
   "cell_type": "code",
   "execution_count": 107,
   "id": "4feed71f",
   "metadata": {},
   "outputs": [
    {
     "data": {
      "text/plain": [
       "2103269785456"
      ]
     },
     "execution_count": 107,
     "metadata": {},
     "output_type": "execute_result"
    }
   ],
   "source": [
    "id(z[0])"
   ]
  },
  {
   "cell_type": "code",
   "execution_count": 108,
   "id": "1e95387c",
   "metadata": {},
   "outputs": [
    {
     "data": {
      "text/plain": [
       "True"
      ]
     },
     "execution_count": 108,
     "metadata": {},
     "output_type": "execute_result"
    }
   ],
   "source": [
    "id(y[0])==id(x[0])"
   ]
  },
  {
   "cell_type": "code",
   "execution_count": 113,
   "id": "07d3b0ce",
   "metadata": {},
   "outputs": [
    {
     "data": {
      "text/plain": [
       "True"
      ]
     },
     "execution_count": 113,
     "metadata": {},
     "output_type": "execute_result"
    }
   ],
   "source": [
    "id(y[0]) == id(z[2])"
   ]
  },
  {
   "cell_type": "code",
   "execution_count": 117,
   "id": "338245c8",
   "metadata": {},
   "outputs": [
    {
     "data": {
      "text/plain": [
       "False"
      ]
     },
     "execution_count": 117,
     "metadata": {},
     "output_type": "execute_result"
    }
   ],
   "source": [
    "c = 'sudh'\n",
    "id(c[0])== id(d[0])"
   ]
  },
  {
   "cell_type": "code",
   "execution_count": 118,
   "id": "3c426aa7",
   "metadata": {},
   "outputs": [],
   "source": [
    "d = ' viji'"
   ]
  },
  {
   "cell_type": "code",
   "execution_count": null,
   "id": "b1b3f727",
   "metadata": {},
   "outputs": [],
   "source": []
  }
 ],
 "metadata": {
  "kernelspec": {
   "display_name": "Python 3 (ipykernel)",
   "language": "python",
   "name": "python3"
  },
  "language_info": {
   "codemirror_mode": {
    "name": "ipython",
    "version": 3
   },
   "file_extension": ".py",
   "mimetype": "text/x-python",
   "name": "python",
   "nbconvert_exporter": "python",
   "pygments_lexer": "ipython3",
   "version": "3.9.7"
  }
 },
 "nbformat": 4,
 "nbformat_minor": 5
}
